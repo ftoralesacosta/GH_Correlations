{
 "cells": [
  {
   "cell_type": "code",
   "execution_count": 2,
   "metadata": {},
   "outputs": [
    {
     "name": "stdout",
     "output_type": "stream",
     "text": [
      "Welcome to JupyROOT 6.14/04\n",
      "../InputData/zT_Rebin_8_006zT06zT13fnew/pp_SE_L0_Correlation_GMB_Ratio.root\n",
      "['pp', 'p-Pb']\n",
      "[[0.18152603]\n",
      " [0.11831406]]\n",
      "../InputData/zT_Rebin_8_006zT06zT13fnew/pp_SE_L0_Correlation_GMB_Ratio.root\n",
      "['pp', 'p-Pb']\n",
      "[[0.18152603]\n",
      " [0.11831406]]\n"
     ]
    },
    {
     "data": {
      "text/plain": [
       "<module 'functions_root_nparray' from 'functions_root_nparray.pyc'>"
      ]
     },
     "execution_count": 2,
     "metadata": {},
     "output_type": "execute_result"
    }
   ],
   "source": [
    "from array import array\n",
    "import itertools\n",
    "import time\n",
    "import math\n",
    "\n",
    "import sys\n",
    "#####For NERSC:####\n",
    "#sys.path.insert(0,'/usr/common/software/rootpy/')\n",
    "import root_numpy\n",
    "import numpy as np\n",
    "\n",
    "import matplotlib\n",
    "import matplotlib.pyplot as plt\n",
    "\n",
    "#import astroML.plotting as aml\n",
    "#import iminuit\n",
    "import pandas as pd\n",
    "import root_pandas as rpd\n",
    "from root_pandas import read_root\n",
    "import ROOT\n",
    "from ROOT import TH1D\n",
    "from ROOT import SetOwnership\n",
    "from matplotlib.ticker import NullFormatter\n",
    "from ROOT import TLatex\n",
    "\n",
    "from matplotlib import pyplot as plt\n",
    "%matplotlib inline    \n",
    "\n",
    "from default_values import *\n",
    "import default_values\n",
    "reload(default_values)\n",
    "\n",
    "from Statistics import *\n",
    "import Statistics\n",
    "reload(Statistics)\n",
    "\n",
    "from functions_root_nparray import *\n",
    "import functions_root_nparray\n",
    "reload(functions_root_nparray)"
   ]
  },
  {
   "cell_type": "code",
   "execution_count": 3,
   "metadata": {},
   "outputs": [
    {
     "name": "stdout",
     "output_type": "stream",
     "text": [
      "[0.060, 0.088, 0.129, 0.190, 0.278, 0.409, 0.600] \n"
     ]
    }
   ],
   "source": [
    "N_Bins = 6\n",
    "bins = np.geomspace(0.06, 0.6, num=N_Bins+1)\n",
    "for ibin in bins:\n",
    "    if ibin == bins[0]:\n",
    "        print\"[%1.3f,\"%(ibin),\n",
    "        \n",
    "    elif ibin == bins[N_Bins]:\n",
    "        print\"%1.3f]\"%(ibin),\n",
    "        \n",
    "    else:\n",
    "        print \"%1.3f,\"%(ibin),\n",
    "print(\"\")"
   ]
  },
  {
   "cell_type": "markdown",
   "metadata": {},
   "source": [
    "## p--Pb Error Function Fit"
   ]
  },
  {
   "cell_type": "code",
   "execution_count": 4,
   "metadata": {},
   "outputs": [
    {
     "name": "stdout",
     "output_type": "stream",
     "text": [
      "<ROOT.TFitResultPtr object at 0x7fe04af890e0>\n",
      "0.535827209253\n",
      "0.0386182398675\n",
      "9.46305649534\n",
      "11.3188096455\n",
      "\n",
      "0.133280 0.169190 0.203815 0.236933 0.268355 0.297931 0.325545 0.351121 0.374621 0.396038 0.415403 0.432770 0.448222 0.461860 0.473799 0.484169 0.493103 0.500738 0.507211 0.512655 0.517197 0.520956 0.524041 0.526554 0.528584 0.530211 0.531505 0.532525 0.533323 0.533942 0.534418 0.534782 0.535058 0.535265 0.535420 0.535534 0.535618 0.535679 0.535723 0.535754 \n",
      "\n",
      "\n",
      " FCN=0.859434 FROM MIGRAD    STATUS=CONVERGED     215 CALLS         216 TOTAL\n",
      "                     EDM=2.20419e-07    STRATEGY= 1      ERROR MATRIX ACCURATE \n",
      "  EXT PARAMETER                                   STEP         FIRST   \n",
      "  NO.   NAME      VALUE            ERROR          SIZE      DERIVATIVE \n",
      "   1  p0           5.35829e-01   3.86179e-02   1.76040e-05   9.74606e-03\n",
      "   2  p1           9.46300e+00   2.13492e+00   4.99057e-04  -4.76701e-04\n",
      "   3  p2           1.13188e+01   4.23558e+00   8.63297e-04  -1.35678e-04\n",
      " FCN=0.859434 FROM MIGRAD    STATUS=CONVERGED      38 CALLS          39 TOTAL\n",
      "                     EDM=1.70741e-07    STRATEGY= 1      ERROR MATRIX ACCURATE \n",
      "  EXT PARAMETER                                   STEP         FIRST   \n",
      "  NO.   NAME      VALUE            ERROR          SIZE      DERIVATIVE \n",
      "   1  p0           5.35827e-01   3.86182e-02   1.76032e-05   1.33368e-05\n",
      "   2  p1           9.46306e+00   2.13494e+00   4.99018e-04  -8.36456e-05\n",
      "   3  p2           1.13188e+01   4.23570e+00   8.63073e-04   9.85837e-05\n"
     ]
    },
    {
     "data": {
      "image/png": "[encoded data removed]",
      "text/plain": [
       "<IPython.core.display.Image object>"
      ]
     },
     "metadata": {},
     "output_type": "display_data"
    }
   ],
   "source": [
    "from ROOT import TF1\n",
    "from ROOT import TMath\n",
    "\n",
    "pGeV_Edges = np.asarray([12,14,16,18,20,25,30,40,50])\n",
    "pGeV_Centers = (pGeV_Edges[1:] + pGeV_Edges[:-1]) / 2\n",
    "pGeV_Widths = [(j-i)/2 for i, j in zip(pGeV_Edges[:-1], pGeV_Edges[1:])]\n",
    "#print(pGeV_Widths)\n",
    "\n",
    "Purity = [0.21,0.24,0.349,0.393,0.498,0.527,0.527,0.527] #8\n",
    "Purity_errors = [0.031,0.046,0.045,0.056,0.044,0.062,0.062,0.062,0.062]\n",
    "\n",
    "#Fill a TGraph with Purity Information\n",
    "Purity_Graph = ROOT.TGraphErrors()\n",
    "for izt in range (len(Purity)):\n",
    "\n",
    "    Purity_Graph.SetPoint(izt,pGeV_Centers[izt],Purity[izt])\n",
    "    Purity_Graph.SetPointError(izt,pGeV_Widths[izt],Purity_errors[izt])\n",
    "    \n",
    "    #Purity_Graph.SetPointError(izt,0,Purity_errors[izt])\n",
    "    #Purity_Graph.SetPoint(izt,pGeV_Edges[izt],Purity[izt])\n",
    "\n",
    "#Define your function and set parameters (notice use of string)\n",
    "func = TF1(\"func\",'[0]*TMath::Erf((x-[1])/[2])',12,40)\n",
    "func.SetParameter(0,0.5)\n",
    "func.SetParameter(1,0.5)\n",
    "func.SetParameter(2,1.0)\n",
    "\n",
    "Purity_Graph.Fit(\"func\",\"S\")\n",
    "\n",
    "Fit_Band = ROOT.TGraphErrors(len(Purity));\n",
    "pGeV_Edges_3 = np.linspace(12,40,40)\n",
    "for i in range(len(pGeV_Edges_3)):\n",
    "        Fit_Band.SetPoint(i, pGeV_Edges_3[i], 0)\n",
    "(ROOT.TVirtualFitter.GetFitter()).GetConfidenceIntervals(Fit_Band,0.68)\n",
    "    \n",
    "c = ROOT.TCanvas()\n",
    "c.SetRightMargin(0.09);\n",
    "c.SetLeftMargin(0.14);\n",
    "c.SetBottomMargin(0.125);\n",
    "c.SetTopMargin(0.08)\n",
    "\n",
    "Purity_Graph.SetTitle(\"Error Function Fit to Purity (p-Pb)\")\n",
    "#Purity_Graph.SetMarkerStyle(8)\n",
    "Purity_Graph.SetMarkerSize(0.5)\n",
    "Purity_Graph.SetMarkerColorAlpha(4,1.0)\n",
    "Purity_Graph.Draw(\"AP\")\n",
    "\n",
    "x = Purity_Graph.GetXaxis()\n",
    "x.SetRangeUser(12.0,40.0)\n",
    "x.SetTitle(\"p_{T}^{#gamma} GeV/#it{c}\")\n",
    "x.SetTitleSize(0.045)\n",
    "x.SetTitleOffset(1.15)\n",
    "x.CenterTitle()\n",
    "\n",
    "y = Purity_Graph.GetYaxis()\n",
    "y.SetTitleSize(0.055)\n",
    "y.SetTitle(\"purity\")\n",
    "y.SetTitleOffset(1.0)\n",
    "y.CenterTitle()\n",
    "\n",
    "fit = Purity_Graph.Fit(\"func\",\"S\")\n",
    "print(fit)\n",
    "print fit.Parameters()[0]\n",
    "print fit.ParError(0)\n",
    "print fit.Parameters()[1]\n",
    "print fit.Parameters()[2]\n",
    "\n",
    "latex = ROOT.TLatex();\n",
    "latex.SetTextSize(0.05);\n",
    "latex.SetTextAlign(13);  #align at top\n",
    "#latex.DrawLatex(25,.35,\"#font[12]{a #times Erf((x - b) / c)}\")\n",
    "latex.DrawLatex(29,.31,\"#font[132]{a = %1.2f #pm %1.2f}\"%(fit.Parameters()[0],fit.ParError(0)))\n",
    "latex.DrawLatex(29,.27,\"#font[132]{b = %1.2f #pm %1.2f}\"%(fit.Parameters()[1],fit.ParError(1)))\n",
    "latex.DrawLatex(29,.23,\"#font[132]{c = %1.1f #pm %1.1f}\"%(fit.Parameters()[2],fit.ParError(2)))\n",
    "\n",
    "legend = ROOT.TLegend(0.56,0.46,0.86,0.59)\n",
    "#legend = ROOT.TLegend(0.18,0.88,0.4,0.75)\n",
    "legend.AddEntry(Purity_Graph,\"Data\")\n",
    "legend.AddEntry(Fit_Band,\"#scale[1.1]{#font[132]{a #upoint #it{Erf}((x - b) / c)}}\")\n",
    "legend.Draw()\n",
    "\n",
    "Fit_Band.SetLineColor(ROOT.kRed);\n",
    "Fit_Band.SetFillColorAlpha(ROOT.kRed,0.2)\n",
    "Fit_Band.Draw(\"same3\");\n",
    "c.Draw()\n",
    "\n",
    "#c.SaveAs(\"pics/LO/%s/p-Pb_Err_Function_Purity.pdf\"%(description_string))\n",
    "\n",
    "print(\"\")\n",
    "fit_vals = []\n",
    "for x in pGeV_Edges_3:\n",
    "    Err_val = fit.Parameters()[0]*TMath.Erf((x-fit.Parameters()[1])/fit.Parameters()[2])\n",
    "    fit_vals.append(Err_val)\n",
    "    print(\"%1.6f\"%(Err_val)),\n",
    "print(\"\\n\")\n",
    "print(\"\")"
   ]
  },
  {
   "cell_type": "markdown",
   "metadata": {},
   "source": [
    "## pp Error Function Fit"
   ]
  },
  {
   "cell_type": "code",
   "execution_count": 4,
   "metadata": {},
   "outputs": [
    {
     "name": "stdout",
     "output_type": "stream",
     "text": [
      "[0.05502727 0.04104875 0.07155418 0.08947067 0.08947067]\n",
      "<ROOT.TFitResultPtr object at 0x7f8e065f50a0>\n",
      "0.494980730653\n",
      "0.0611352469837\n",
      "9.11278738517\n",
      "11.0498381421\n",
      "\n",
      "0.142683 0.175962 0.207861 0.238179 0.266754 0.293459 0.318206 0.340947 0.361669 0.380392 0.397167 0.412070 0.425199 0.436669 0.446604 0.455137 0.462405 0.468544 0.473685 0.477954 0.481470 0.484340 0.486664 0.488530 0.490016 0.491189 0.492107 0.492820 0.493368 0.493787 0.494104 0.494342 0.494519 0.494649 0.494745 0.494814 0.494864 0.494900 0.494925 0.494943 \n",
      "\n",
      "\n",
      " FCN=0.2216 FROM MIGRAD    STATUS=CONVERGED      78 CALLS          79 TOTAL\n",
      "                     EDM=1.0239e-09    STRATEGY= 1      ERROR MATRIX ACCURATE \n",
      "  EXT PARAMETER                                   STEP         FIRST   \n",
      "  NO.   NAME      VALUE            ERROR          SIZE      DERIVATIVE \n",
      "   1  p0           4.94980e-01   6.11352e-02   2.42314e-05  -1.41256e-04\n",
      "   2  p1           9.11277e+00   3.37649e+00   6.79886e-04  -7.42547e-06\n",
      "   3  p2           1.10499e+01   6.99472e+00   1.26057e-03   3.42719e-06\n",
      " FCN=0.2216 FROM MIGRAD    STATUS=CONVERGED      38 CALLS          39 TOTAL\n",
      "                     EDM=7.01379e-10    STRATEGY= 1      ERROR MATRIX ACCURATE \n",
      "  EXT PARAMETER                                   STEP         FIRST   \n",
      "  NO.   NAME      VALUE            ERROR          SIZE      DERIVATIVE \n",
      "   1  p0           4.94981e-01   6.11352e-02   2.42313e-05   3.53267e-04\n",
      "   2  p1           9.11279e+00   3.37647e+00   6.79830e-04  -1.11494e-05\n",
      "   3  p2           1.10498e+01   6.99470e+00   1.26024e-03  -1.60010e-06\n"
     ]
    },
    {
     "name": "stderr",
     "output_type": "stream",
     "text": [
      "Info in <TCanvas::Print>: pdf file pics/LO/zT_Rebin_8_006zT06zTITSSub/pp_Err_Function_Purity.pdf has been created\n"
     ]
    },
    {
     "data": {
      "image/png": "[encoded data removed]",
      "text/plain": [
       "<IPython.core.display.Image object>"
      ]
     },
     "metadata": {},
     "output_type": "display_data"
    }
   ],
   "source": [
    "from ROOT import TF1\n",
    "from ROOT import TMath\n",
    "\n",
    "pGeV_Edges = np.asarray([12,15,20,25,40,55])\n",
    "pGeV_Centers = (pGeV_Edges[1:] + pGeV_Edges[:-1]) / 2\n",
    "pGeV_Widths = [(j-i)/2 for i, j in zip(pGeV_Edges[:-1], pGeV_Edges[1:])]\n",
    "#print(pGeV_Widths)\n",
    "\n",
    "Purity = [0.198,0.318,0.470,0.487,0.487]\n",
    "    \n",
    "Purity_stat_error = np.asarray([0.018,0.023,0.032,0.038,0.038])\n",
    "Purity_sys_error = np.asarray([0.052,0.034,0.064,0.081,0.081])\n",
    "\n",
    "Purity_errors = np.sqrt(Purity_stat_error**2 + Purity_sys_error**2)\n",
    "\n",
    "print((Purity_errors))\n",
    "\n",
    "#Fill a TGraph with Purity Information\n",
    "Purity_Graph = ROOT.TGraphErrors()\n",
    "for izt in range (len(Purity)):\n",
    "\n",
    "    Purity_Graph.SetPoint(izt,pGeV_Centers[izt],Purity[izt])\n",
    "    Purity_Graph.SetPointError(izt,pGeV_Widths[izt],Purity_errors[izt])\n",
    "    \n",
    "    #Purity_Graph.SetPointError(izt,0,Purity_errors[izt])\n",
    "    #Purity_Graph.SetPoint(izt,pGeV_Edges[izt],Purity[izt])\n",
    "\n",
    "#Define your function and set parameters (notice use of string)\n",
    "func = TF1(\"func\",'[0]*TMath::Erf((x-[1])/[2])',12,40)\n",
    "func.SetParameter(0,0.55)\n",
    "func.SetParameter(1,8.0)\n",
    "func.SetParameter(2,12.0)\n",
    "\n",
    "Purity_Graph.Fit(\"func\",\"S\")\n",
    "\n",
    "Fit_Band = ROOT.TGraphErrors(len(Purity));\n",
    "pGeV_Edges_3 = np.linspace(12,40,40)\n",
    "for i in range(len(pGeV_Edges_3)):\n",
    "        Fit_Band.SetPoint(i, pGeV_Edges_3[i], 0)\n",
    "(ROOT.TVirtualFitter.GetFitter()).GetConfidenceIntervals(Fit_Band,0.68)\n",
    "    \n",
    "c = ROOT.TCanvas()\n",
    "c.SetRightMargin(0.09);\n",
    "c.SetLeftMargin(0.14);\n",
    "c.SetBottomMargin(0.125);\n",
    "c.SetTopMargin(0.08)\n",
    "\n",
    "Purity_Graph.SetTitle(\"Error Function Fit to Purity (pp)\")\n",
    "#Purity_Graph.SetMarkerStyle(8)\n",
    "Purity_Graph.SetMarkerSize(0.5)\n",
    "Purity_Graph.SetMarkerColorAlpha(4,1.0)\n",
    "Purity_Graph.Draw(\"AP\")\n",
    "\n",
    "x = Purity_Graph.GetXaxis()\n",
    "x.SetRangeUser(12.0,40.0)\n",
    "x.SetTitle(\"p_{T}^{#gamma} GeV/#it{c}\")\n",
    "x.SetTitleSize(0.045)\n",
    "x.SetTitleOffset(1.15)\n",
    "x.CenterTitle()\n",
    "\n",
    "y = Purity_Graph.GetYaxis()\n",
    "y.SetTitleSize(0.055)\n",
    "y.SetTitle(\"purity\")\n",
    "y.SetTitleOffset(1.0)\n",
    "y.CenterTitle()\n",
    "y.SetRangeUser(0.14,0.66)\n",
    "\n",
    "fit = Purity_Graph.Fit(\"func\",\"S\")\n",
    "print(fit)\n",
    "print fit.Parameters()[0]\n",
    "print fit.ParError(0)\n",
    "print fit.Parameters()[1]\n",
    "print fit.Parameters()[2]\n",
    "\n",
    "latex = ROOT.TLatex();\n",
    "latex.SetTextSize(0.05);\n",
    "latex.SetTextAlign(13);  #align at top\n",
    "#latex.DrawLatex(25,.35,\"#font[12]{a #times Erf((x - b) / c)}\")\n",
    "latex.DrawLatex(29,.31,\"#font[132]{a = %1.2f #pm %1.2f}\"%(fit.Parameters()[0],fit.ParError(0)))\n",
    "latex.DrawLatex(29,.27,\"#font[132]{b = %1.2f #pm %1.2f}\"%(fit.Parameters()[1],fit.ParError(1)))\n",
    "latex.DrawLatex(29,.23,\"#font[132]{c = %1.1f #pm %1.1f}\"%(fit.Parameters()[2],fit.ParError(2)))\n",
    "\n",
    "legend = ROOT.TLegend(0.56,0.46,0.86,0.57)\n",
    "#legend = ROOT.TLegend(0.18,0.88,0.4,0.75)\n",
    "legend.AddEntry(Purity_Graph,\"Data\")\n",
    "legend.AddEntry(Fit_Band,\"#scale[1.1]{#font[132]{a #upoint #it{Erf}((x - b) / c)}}\")\n",
    "legend.Draw()\n",
    "\n",
    "Fit_Band.SetLineColor(ROOT.kRed);\n",
    "Fit_Band.SetFillColorAlpha(ROOT.kRed,0.2)\n",
    "Fit_Band.Draw(\"same3\");\n",
    "c.Draw()\n",
    "c.SaveAs(\"pics/LO/%s/pp_Err_Function_Purity.pdf\"%(description_string))\n",
    "\n",
    "print(\"\")\n",
    "fit_vals = []\n",
    "for x in pGeV_Edges_3:\n",
    "    Err_val = fit.Parameters()[0]*TMath.Erf((x-fit.Parameters()[1])/fit.Parameters()[2])\n",
    "    fit_vals.append(Err_val)\n",
    "    print(\"%1.6f\"%(Err_val)),\n",
    "print(\"\\n\")\n",
    "print(\"\")"
   ]
  },
  {
   "cell_type": "markdown",
   "metadata": {},
   "source": [
    "## p-Pb Error Function NEW"
   ]
  },
  {
   "cell_type": "code",
   "execution_count": 3,
   "metadata": {},
   "outputs": [
    {
     "name": "stdout",
     "output_type": "stream",
     "text": [
      "[0.03138471 0.03130495 0.05442426 0.04924429 0.04924429]\n",
      "<ROOT.TFitResultPtr object at 0x7f8e0670e580>\n",
      "0.549446083201\n",
      "0.0387481896027\n",
      "8.4480099355\n",
      "13.3318839731\n",
      "\n",
      "0.161355 0.191983 0.221573 0.249995 0.277137 0.302907 0.327234 0.350064 0.371367 0.391129 0.409356 0.426070 0.441308 0.455120 0.467568 0.478720 0.488655 0.497453 0.505201 0.511983 0.517886 0.522994 0.527389 0.531149 0.534345 0.537049 0.539321 0.541220 0.542798 0.544101 0.545172 0.546047 0.546756 0.547329 0.547789 0.548156 0.548447 0.548677 0.548857 0.548997 \n",
      "\n",
      "\n",
      " FCN=0.0299823 FROM MIGRAD    STATUS=CONVERGED      68 CALLS          69 TOTAL\n",
      "                     EDM=7.97288e-09    STRATEGY= 1      ERROR MATRIX ACCURATE \n",
      "  EXT PARAMETER                                   STEP         FIRST   \n",
      "  NO.   NAME      VALUE            ERROR          SIZE      DERIVATIVE \n",
      "   1  p0           5.49444e-01   3.87480e-02   1.49808e-05  -3.21553e-03\n",
      "   2  p1           8.44800e+00   2.68871e+00   5.19001e-04  -1.18825e-05\n",
      "   3  p2           1.33319e+01   5.88926e+00   1.02929e-03  -3.22641e-06\n",
      " FCN=0.0299823 FROM MIGRAD    STATUS=CONVERGED      40 CALLS          41 TOTAL\n",
      "                     EDM=2.12848e-09    STRATEGY= 1      ERROR MATRIX ACCURATE \n",
      "  EXT PARAMETER                                   STEP         FIRST   \n",
      "  NO.   NAME      VALUE            ERROR          SIZE      DERIVATIVE \n",
      "   1  p0           5.49446e-01   3.87482e-02   1.49824e-05   2.99029e-04\n",
      "   2  p1           8.44801e+00   2.68870e+00   5.19004e-04  -4.01593e-05\n",
      "   3  p2           1.33319e+01   5.88927e+00   1.02938e-03  -2.57552e-05\n"
     ]
    },
    {
     "name": "stderr",
     "output_type": "stream",
     "text": [
      "Info in <TCanvas::Print>: pdf file pics/LO/zT_Rebin_8_006zT06zTITSSub/p-Pb_Err_Function_Purity.pdf has been created\n"
     ]
    },
    {
     "data": {
      "image/png": "[encoded data removed]",
      "text/plain": [
       "<IPython.core.display.Image object>"
      ]
     },
     "metadata": {},
     "output_type": "display_data"
    }
   ],
   "source": [
    "from ROOT import TF1\n",
    "from ROOT import TMath\n",
    "\n",
    "pGeV_Edges = np.asarray([12,15,20,25,40,55])\n",
    "pGeV_Centers = (pGeV_Edges[1:] + pGeV_Edges[:-1]) / 2\n",
    "pGeV_Widths = [(j-i)/2 for i, j in zip(pGeV_Edges[:-1], pGeV_Edges[1:])]\n",
    "#print(pGeV_Widths)\n",
    "\n",
    "Purity = [0.206,0.341,0.471,0.546,0.546]\n",
    "    \n",
    "Purity_stat_error = np.asarray([0.012,0.014,0.019,0.020,0.020])\n",
    "Purity_sys_error = np.asarray([0.029,0.028,0.051,0.045,0.045])\n",
    "\n",
    "Purity_errors = np.sqrt(Purity_stat_error**2 + Purity_sys_error**2)\n",
    "\n",
    "print((Purity_errors))\n",
    "\n",
    "#Fill a TGraph with Purity Information\n",
    "Purity_Graph = ROOT.TGraphErrors()\n",
    "for izt in range (len(Purity)):\n",
    "\n",
    "    Purity_Graph.SetPoint(izt,pGeV_Centers[izt],Purity[izt])\n",
    "    Purity_Graph.SetPointError(izt,pGeV_Widths[izt],Purity_errors[izt])\n",
    "    \n",
    "    #Purity_Graph.SetPointError(izt,0,Purity_errors[izt])\n",
    "    #Purity_Graph.SetPoint(izt,pGeV_Edges[izt],Purity[izt])\n",
    "\n",
    "#Define your function and set parameters (notice use of string)\n",
    "func = TF1(\"func\",'[0]*TMath::Erf((x-[1])/[2])',12,40)\n",
    "func.SetParameter(0,0.55)\n",
    "func.SetParameter(1,8.0)\n",
    "func.SetParameter(2,12.0)\n",
    "\n",
    "Purity_Graph.Fit(\"func\",\"S\")\n",
    "\n",
    "Fit_Band = ROOT.TGraphErrors(len(Purity));\n",
    "pGeV_Edges_3 = np.linspace(12,40,40)\n",
    "for i in range(len(pGeV_Edges_3)):\n",
    "        Fit_Band.SetPoint(i, pGeV_Edges_3[i], 0)\n",
    "(ROOT.TVirtualFitter.GetFitter()).GetConfidenceIntervals(Fit_Band,0.68)\n",
    "    \n",
    "c = ROOT.TCanvas()\n",
    "c.SetRightMargin(0.09);\n",
    "c.SetLeftMargin(0.14);\n",
    "c.SetBottomMargin(0.125);\n",
    "c.SetTopMargin(0.08)\n",
    "\n",
    "Purity_Graph.SetTitle(\"Error Function Fit to Purity (p-Pb)\")\n",
    "#Purity_Graph.SetMarkerStyle(8)\n",
    "Purity_Graph.SetMarkerSize(0.5)\n",
    "Purity_Graph.SetMarkerColorAlpha(4,1.0)\n",
    "Purity_Graph.Draw(\"AP\")\n",
    "\n",
    "x = Purity_Graph.GetXaxis()\n",
    "x.SetRangeUser(12.0,40.0)\n",
    "x.SetTitle(\"p_{T}^{#gamma} GeV/#it{c}\")\n",
    "x.SetTitleSize(0.045)\n",
    "x.SetTitleOffset(1.15)\n",
    "x.CenterTitle()\n",
    "\n",
    "y = Purity_Graph.GetYaxis()\n",
    "y.SetTitleSize(0.055)\n",
    "y.SetTitle(\"purity\")\n",
    "y.SetTitleOffset(1.0)\n",
    "y.CenterTitle()\n",
    "y.SetRangeUser(0.14,0.66)\n",
    "\n",
    "fit = Purity_Graph.Fit(\"func\",\"S\")\n",
    "print(fit)\n",
    "print fit.Parameters()[0]\n",
    "print fit.ParError(0)\n",
    "print fit.Parameters()[1]\n",
    "print fit.Parameters()[2]\n",
    "\n",
    "latex = ROOT.TLatex();\n",
    "latex.SetTextSize(0.05);\n",
    "latex.SetTextAlign(13);  #align at top\n",
    "#latex.DrawLatex(25,.35,\"#font[12]{a #times Erf((x - b) / c)}\")\n",
    "latex.DrawLatex(29,.31,\"#font[132]{a = %1.2f #pm %1.2f}\"%(fit.Parameters()[0],fit.ParError(0)))\n",
    "latex.DrawLatex(29,.27,\"#font[132]{b = %1.2f #pm %1.2f}\"%(fit.Parameters()[1],fit.ParError(1)))\n",
    "latex.DrawLatex(29,.23,\"#font[132]{c = %1.1f #pm %1.1f}\"%(fit.Parameters()[2],fit.ParError(2)))\n",
    "\n",
    "legend = ROOT.TLegend(0.56,0.46,0.86,0.57)\n",
    "#legend = ROOT.TLegend(0.18,0.88,0.4,0.75)\n",
    "legend.AddEntry(Purity_Graph,\"Data\")\n",
    "legend.AddEntry(Fit_Band,\"#scale[1.1]{#font[132]{a #upoint #it{Erf}((x - b) / c)}}\")\n",
    "legend.Draw()\n",
    "\n",
    "Fit_Band.SetLineColor(ROOT.kRed);\n",
    "Fit_Band.SetFillColorAlpha(ROOT.kRed,0.2)\n",
    "Fit_Band.Draw(\"same3\");\n",
    "c.Draw()\n",
    "c.SaveAs(\"pics/LO/%s/p-Pb_Err_Function_Purity.pdf\"%(description_string))\n",
    "\n",
    "print(\"\")\n",
    "fit_vals = []\n",
    "for x in pGeV_Edges_3:\n",
    "    Err_val = fit.Parameters()[0]*TMath.Erf((x-fit.Parameters()[1])/fit.Parameters()[2])\n",
    "    fit_vals.append(Err_val)\n",
    "    print(\"%1.6f\"%(Err_val)),\n",
    "print(\"\\n\")\n",
    "print(\"\")"
   ]
  },
  {
   "cell_type": "markdown",
   "metadata": {},
   "source": [
    "## pPb Error Funciton [TPC]"
   ]
  },
  {
   "cell_type": "code",
   "execution_count": 30,
   "metadata": {},
   "outputs": [
    {
     "name": "stdout",
     "output_type": "stream",
     "text": [
      "[0.04025348 0.04055159 0.03536341 0.03892705]\n",
      "<ROOT.TFitResultPtr object at 0x7fd3ee25d7b0>\n",
      "0.569429959156\n",
      "0.043845949608\n",
      "8.1906528936\n",
      "11.8993694765\n",
      "\n",
      "0.198878 0.233161 0.265906 0.296956 0.326185 0.353500 0.378842 0.402183 0.423525 0.442897 0.460354 0.475971 0.489841 0.502070 0.512774 0.522075 0.530099 0.536971 0.542812 0.547743 0.551875 0.555311 0.558149 0.560476 0.562369 0.563899 0.565126 0.566104 0.566876 0.567482 0.567955 0.568320 0.568600 0.568814 0.568976 0.569098 0.569188 0.569255 0.569305 0.569341 \n",
      "\n",
      "\n",
      " FCN=0.355288 FROM MIGRAD    STATUS=CONVERGED      68 CALLS          69 TOTAL\n",
      "                     EDM=2.25197e-09    STRATEGY= 1      ERROR MATRIX ACCURATE \n",
      "  EXT PARAMETER                                   STEP         FIRST   \n",
      "  NO.   NAME      VALUE            ERROR          SIZE      DERIVATIVE \n",
      "   1  p0           5.69430e-01   4.38461e-02   1.66335e-05  -1.64037e-03\n",
      "   2  p1           8.19067e+00   3.07927e+00   6.11301e-04   5.99631e-05\n",
      "   3  p2           1.18994e+01   5.93699e+00   1.00496e-03   3.55440e-05\n",
      " FCN=0.355288 FROM MIGRAD    STATUS=CONVERGED      38 CALLS          39 TOTAL\n",
      "                     EDM=8.9825e-11    STRATEGY= 1      ERROR MATRIX ACCURATE \n",
      "  EXT PARAMETER                                   STEP         FIRST   \n",
      "  NO.   NAME      VALUE            ERROR          SIZE      DERIVATIVE \n",
      "   1  p0           5.69430e-01   4.38459e-02   1.66275e-05   1.00642e-04\n",
      "   2  p1           8.19065e+00   3.07927e+00   6.11071e-04   3.39469e-06\n",
      "   3  p2           1.18994e+01   5.93695e+00   1.00429e-03  -8.28128e-07\n"
     ]
    },
    {
     "name": "stderr",
     "output_type": "stream",
     "text": [
      "Info in <TCanvas::Print>: pdf file pics/LO/zT_Rebin_8_006zT06zT/p-Pb_Err_Function_Purity.pdf has been created\n"
     ]
    },
    {
     "data": {
      "image/png": "[encoded data removed]",
      "text/plain": [
       "<IPython.core.display.Image object>"
      ]
     },
     "metadata": {},
     "output_type": "display_data"
    }
   ],
   "source": [
    "from ROOT import TF1\n",
    "from ROOT import TMath\n",
    "\n",
    "pGeV_Edges = np.asarray([12,15,20,25,40,55])\n",
    "pGeV_Centers = (pGeV_Edges[1:] + pGeV_Edges[:-1]) / 2\n",
    "pGeV_Widths = [(j-i)/2 for i, j in zip(pGeV_Edges[:-1], pGeV_Edges[1:])]\n",
    "#print(pGeV_Widths)\n",
    "\n",
    "Purity = np.asarray([25.795882408552828, 36.573026363625466, 52.45982806407359, 56.24886093747641])\n",
    "Purity = Purity/100.0\n",
    "\n",
    "Purity_stat_error = np.asarray([0.9363451404263521, 1.0956429868524769, 1.5824719683037447, 1.7597194355771617])\n",
    "Purity_stat_error = Purity_stat_error/100.0\n",
    "\n",
    "Purity_sys_error = np.asarray([3.9149307671379363, 3.904341019204986, 3.1625132078047757, 3.4722528826397836])\n",
    "Purity_sys_error = Purity_sys_error/100.0\n",
    "\n",
    "Purity_errors = np.sqrt(Purity_stat_error**2 + Purity_sys_error**2)\n",
    "\n",
    "print((Purity_errors))\n",
    "\n",
    "#Fill a TGraph with Purity Information\n",
    "Purity_Graph = ROOT.TGraphErrors()\n",
    "for izt in range (len(Purity)):\n",
    "\n",
    "    Purity_Graph.SetPoint(izt,pGeV_Centers[izt],Purity[izt])\n",
    "    Purity_Graph.SetPointError(izt,pGeV_Widths[izt],Purity_errors[izt])\n",
    "    \n",
    "    #Purity_Graph.SetPointError(izt,0,Purity_errors[izt])\n",
    "    #Purity_Graph.SetPoint(izt,pGeV_Edges[izt],Purity[izt])\n",
    "\n",
    "#Define your function and set parameters (notice use of string)\n",
    "func = TF1(\"func\",'[0]*TMath::Erf((x-[1])/[2])',12,40)\n",
    "func.SetParameter(0,0.55)\n",
    "func.SetParameter(1,8.0)\n",
    "func.SetParameter(2,12.0)\n",
    "\n",
    "Purity_Graph.Fit(\"func\",\"S\")\n",
    "\n",
    "Fit_Band = ROOT.TGraphErrors(len(Purity));\n",
    "pGeV_Edges_3 = np.linspace(12,40,40)\n",
    "for i in range(len(pGeV_Edges_3)):\n",
    "        Fit_Band.SetPoint(i, pGeV_Edges_3[i], 0)\n",
    "(ROOT.TVirtualFitter.GetFitter()).GetConfidenceIntervals(Fit_Band,0.68)\n",
    "    \n",
    "c = ROOT.TCanvas()\n",
    "c.SetRightMargin(0.09);\n",
    "c.SetLeftMargin(0.14);\n",
    "c.SetBottomMargin(0.125);\n",
    "c.SetTopMargin(0.08)\n",
    "\n",
    "Purity_Graph.SetTitle(\"Error Function Fit to Purity (p-Pb TPC ISO)\")\n",
    "#Purity_Graph.SetMarkerStyle(8)\n",
    "Purity_Graph.SetMarkerSize(0.5)\n",
    "Purity_Graph.SetMarkerColorAlpha(4,1.0)\n",
    "Purity_Graph.Draw(\"AP\")\n",
    "\n",
    "x = Purity_Graph.GetXaxis()\n",
    "x.SetRangeUser(12.0,40.0)\n",
    "x.SetTitle(\"p_{T}^{#gamma} GeV/#it{c}\")\n",
    "x.SetTitleSize(0.045)\n",
    "x.SetTitleOffset(1.15)\n",
    "x.CenterTitle()\n",
    "\n",
    "y = Purity_Graph.GetYaxis()\n",
    "y.SetTitleSize(0.055)\n",
    "y.SetTitle(\"purity\")\n",
    "y.SetTitleOffset(1.0)\n",
    "y.CenterTitle()\n",
    "y.SetRangeUser(0.14,0.66)\n",
    "\n",
    "fit = Purity_Graph.Fit(\"func\",\"S\")\n",
    "print(fit)\n",
    "print fit.Parameters()[0]\n",
    "print fit.ParError(0)\n",
    "print fit.Parameters()[1]\n",
    "print fit.Parameters()[2]\n",
    "\n",
    "latex = ROOT.TLatex();\n",
    "latex.SetTextSize(0.05);\n",
    "latex.SetTextAlign(13);  #align at top\n",
    "#latex.DrawLatex(25,.35,\"#font[12]{a #times Erf((x - b) / c)}\")\n",
    "latex.DrawLatex(29,.31,\"#font[132]{a = %1.2f #pm %1.2f}\"%(fit.Parameters()[0],fit.ParError(0)))\n",
    "latex.DrawLatex(29,.27,\"#font[132]{b = %1.2f #pm %1.2f}\"%(fit.Parameters()[1],fit.ParError(1)))\n",
    "latex.DrawLatex(29,.23,\"#font[132]{c = %1.1f #pm %1.1f}\"%(fit.Parameters()[2],fit.ParError(2)))\n",
    "\n",
    "legend = ROOT.TLegend(0.56,0.46,0.86,0.57)\n",
    "#legend = ROOT.TLegend(0.18,0.88,0.4,0.75)\n",
    "legend.AddEntry(Purity_Graph,\"Data\")\n",
    "legend.AddEntry(Fit_Band,\"#scale[1.1]{#font[132]{a #upoint #it{Erf}((x - b) / c)}}\")\n",
    "legend.Draw()\n",
    "\n",
    "Fit_Band.SetLineColor(ROOT.kRed);\n",
    "Fit_Band.SetFillColorAlpha(ROOT.kRed,0.2)\n",
    "Fit_Band.Draw(\"same3\");\n",
    "c.Draw()\n",
    "c.SaveAs(\"pics/LO/%s/p-Pb_Err_Function_Purity.pdf\"%(description_string))\n",
    "\n",
    "print(\"\")\n",
    "fit_vals = []\n",
    "for x in pGeV_Edges_3:\n",
    "    Err_val = fit.Parameters()[0]*TMath.Erf((x-fit.Parameters()[1])/fit.Parameters()[2])\n",
    "    fit_vals.append(Err_val)\n",
    "    print(\"%1.6f\"%(Err_val)),\n",
    "print(\"\\n\")\n",
    "print(\"\")"
   ]
  },
  {
   "cell_type": "markdown",
   "metadata": {},
   "source": [
    "## Compare pp and p-Pb Fits"
   ]
  },
  {
   "cell_type": "code",
   "execution_count": 7,
   "metadata": {},
   "outputs": [
    {
     "name": "stdout",
     "output_type": "stream",
     "text": [
      "0.564400011365\n",
      "8.81589638183\n",
      "12.5209151159\n"
     ]
    },
    {
     "data": {
      "text/plain": [
       "<matplotlib.legend.Legend at 0x12258d5d0>"
      ]
     },
     "execution_count": 7,
     "metadata": {},
     "output_type": "execute_result"
    },
    {
     "data": {
      "image/png": "[encoded data removed]",
      "text/plain": [
       "<matplotlib.figure.Figure at 0x1039491d0>"
      ]
     },
     "metadata": {
      "needs_background": "light"
     },
     "output_type": "display_data"
    }
   ],
   "source": [
    "\n",
    "#print(\"pT GeV/c:  \"),\n",
    "#for i in range(len(pGeV_Edges_3)):\n",
    "    #print(pGeV_Edges_3[i]),\n",
    "#print(\"\")\n",
    "\n",
    "fit_vals_pp = []\n",
    "fit_vals_pPb = []\n",
    "\n",
    "print fit.Parameters()[0]\n",
    "print fit.Parameters()[1]\n",
    "print fit.Parameters()[2]\n",
    "\n",
    "\n",
    "0.507999134652\n",
    "0.0665645483397\n",
    "8.33474628579\n",
    "13.3714887905\n",
    "\n",
    "#print(\"Purity Val:\"),\n",
    "for x in pGeV_Edges_3:\n",
    "    Err_val_pPb = 0.564400011365*TMath.Erf((x-8.81589638183)/12.5209151159)\n",
    "    Err_val_pp = 0.507999134652*TMath.Erf((x-8.33474628579)/13.3714887905)\n",
    "    \n",
    "    fit_vals_pp.append(Err_val_pp)\n",
    "    fit_vals_pPb.append(Err_val_pPb)\n",
    "\n",
    "    #print(\"%1.6f\"%(Err_val)),\n",
    "#print(\"\")\n",
    "\n",
    "fit_errors = []\n",
    "#print(\"P Uncert.: \"),\n",
    "for i in range(len(pGeV_Edges_3)):\n",
    "    fit_errors.append(Fit_Band.GetErrorY(i))\n",
    "    #print(\"%1.2f\"%(Fit_Band.GetErrorY(i))),\n",
    "#print(\"\\n\")\n",
    "\n",
    "plt.plot(pGeV_Edges_3,fit_vals_pp,color=\"blue\",label=\"pp\")\n",
    "plt.plot(pGeV_Edges_3,fit_vals_pPb,color=\"red\",label=\"p-Pb\")\n",
    "#plt.plot(pGeV_Edges_3,fit_vals_New,color=\"cyan\",label=\"Bit Centers\")\n",
    "#plt.errorbar(pGeV_Centers,Purity,xerr=pGeV_Widths,color=\"k\",label=\"Data\")\n",
    "plt.legend()"
   ]
  },
  {
   "cell_type": "code",
   "execution_count": 13,
   "metadata": {},
   "outputs": [
    {
     "name": "stdout",
     "output_type": "stream",
     "text": [
      "0.564400011365\n",
      "8.81589638183\n",
      "12.5209151159\n"
     ]
    },
    {
     "data": {
      "text/plain": [
       "<matplotlib.legend.Legend at 0x12530da10>"
      ]
     },
     "execution_count": 13,
     "metadata": {},
     "output_type": "execute_result"
    },
    {
     "data": {
      "image/png": "[encoded data removed]",
      "text/plain": [
       "<matplotlib.figure.Figure at 0x12522b510>"
      ]
     },
     "metadata": {
      "needs_background": "light"
     },
     "output_type": "display_data"
    }
   ],
   "source": [
    "\n",
    "#print(\"pT GeV/c:  \"),\n",
    "#for i in range(len(pGeV_Edges_3)):\n",
    "    #print(pGeV_Edges_3[i]),\n",
    "#print(\"\")\n",
    "\n",
    "fit_vals_New = []\n",
    "fit_vals = []\n",
    "fit_vals_Old = []\n",
    "print fit.Parameters()[0]\n",
    "print fit.Parameters()[1]\n",
    "print fit.Parameters()[2]\n",
    "\n",
    "\n",
    "#print(\"Purity Val:\"),\n",
    "for x in pGeV_Edges_3:\n",
    "    #Err_val_Old = 0.542257*TMath.Erf((x-8.09242)/11.8085)\n",
    "    Err_val_Old = 0.535827209253*TMath.Erf((x-9.46305649534)/11.3188096455)\n",
    "    Err_val = 0.539705386488*TMath.Erf((x-8.88586771026)/12.2892853578)\n",
    "    Err_val_New = 0.564400011365*TMath.Erf((x-8.81589638183)/12.5209151159)\n",
    "    \n",
    "    fit_vals.append(Err_val)\n",
    "    fit_vals_Old.append(Err_val_Old)\n",
    "    fit_vals_New.append(Err_val_New)\n",
    "    #print(\"%1.6f\"%(Err_val)),\n",
    "#print(\"\")\n",
    "\n",
    "fit_errors = []\n",
    "#print(\"P Uncert.: \"),\n",
    "for i in range(len(pGeV_Edges_3)):\n",
    "    fit_errors.append(Fit_Band.GetErrorY(i))\n",
    "    #print(\"%1.2f\"%(Fit_Band.GetErrorY(i))),\n",
    "#print(\"\\n\")\n",
    "\n",
    "#plt.plot(pGeV_Edges_3,fit_vals,color=\"blue\",label=\"Bin Centers, No X-Err\")\n",
    "plt.plot(pGeV_Edges_3,fit_vals_Old,color=\"red\",label=\"Bin Edges, No X-Err\")\n",
    "plt.plot(pGeV_Edges_3,fit_vals_New,color=\"cyan\",label=\"Latest, fewer Bins\")\n",
    "plt.errorbar(pGeV_Centers,Purity,xerr=pGeV_Widths,color=\"k\",label=\"Data\")\n",
    "plt.legend()"
   ]
  },
  {
   "cell_type": "code",
   "execution_count": 9,
   "metadata": {},
   "outputs": [],
   "source": [
    "#Old Purity Val: 0.195322 0.257569 0.313537 0.362468 0.404063 0.438445 0.466078 0.487672 0.504081 0.516205 0.524915 0.531000 0.535132 0.537862 0.539615 0.540709 0.541374 0.541766 0.541991 0.542117 0.542185\n",
    "#New Purity Val: 0.152395 0.214219 0.271331 0.322836 0.368178 0.407144 0.439834 0.466605 0.488008 0.504711 0.517436 0.526900 0.533771 0.538641 0.542010 0.544285 0.545785 0.546751 0.547358 0.547730 0.547952 \n",
    "#P Uncert :      0.03 0.02 0.02 0.02 0.03 0.03 0.03 0.03 0.03 0.03 0.03 0.03 0.03 0.04 0.04 0.04 0.04 0.04 0.04 0.04 0.04"
   ]
  },
  {
   "cell_type": "code",
   "execution_count": 17,
   "metadata": {},
   "outputs": [
    {
     "name": "stdout",
     "output_type": "stream",
     "text": [
      "1\n"
     ]
    },
    {
     "data": {
      "image/png": "[encoded data removed]",
      "text/plain": [
       "<matplotlib.figure.Figure at 0x129d23590>"
      ]
     },
     "metadata": {
      "needs_background": "light"
     },
     "output_type": "display_data"
    }
   ],
   "source": [
    "#Shower_Shape = \"NN\"\n",
    "\n",
    "File = '../InputData/zT_Rebin_8_006zT06zT13fnew_track_spectra/pPb_SE_L0_Correlation.root'\n",
    "file = ROOT.TFile(File)\n",
    "\n",
    "File2 ='../InputData/zT_Rebin_8_006zT06zT13fnewChi2_track_spectra/pPb_SE_L0_Correlation.root'\n",
    "file2 = ROOT.TFile(File2)\n",
    "\n",
    "N_Sig_histo = 1\n",
    "N_Sig = 1\n",
    "N_BKG_histo = 1\n",
    "N_BKG = 1\n",
    "print(N_BKG)\n",
    "\n",
    "#SIG = file.Get(\"Raw_Track_Spectra\")\n",
    "#BKGD = file2.Get(\"Raw_Track_Spectra\")\n",
    "#BKGD_W = file2.Get(\"Raw_Track_Spectra\")\n",
    "\n",
    "SIG = file.Get(\"Weight_Track_Spectra\")\n",
    "BKGD = file2.Get(\"Weight_Track_Spectra\")\n",
    "BKGD_W = file2.Get(\"Weight_Track_Spectra\")\n",
    "\n",
    "\n",
    "#SIG.Rebin(10)\n",
    "Signal = root_numpy.hist2array(SIG)\n",
    "\n",
    "\n",
    "\n",
    "#BKGD.Rebin(10)\n",
    "Background = root_numpy.hist2array(BKGD)\n",
    "\n",
    "\n",
    "#BKGD_W.Rebin(10)\n",
    "Background_W = root_numpy.hist2array(BKGD_W)\n",
    "\n",
    "\n",
    "N_Bins = SIG.GetSize() - 2 #Ignero under/overflow\n",
    "S_Error = np.zeros(N_Bins)\n",
    "B_Error = np.zeros(N_Bins)\n",
    "BW_Error = np.zeros(N_Bins)\n",
    "for i in range(1,N_Bins+1):\n",
    "    S_Error[i-1] = SIG.GetBinError(i)*0\n",
    "    B_Error[i-1] = BKGD.GetBinError(i)\n",
    "    BW_Error[i-1] = BKGD_W.GetBinError(i)\n",
    "    \n",
    "    \n",
    "Take_Ratios = True\n",
    "\n",
    "if Take_Ratios:\n",
    "    Background = Background/Signal\n",
    "    B_Error = np.sqrt((B_Error/Background)**2 + (S_Error/Signal)**2)*Background*0\n",
    "    \n",
    "    Background_W = Background_W/Signal\n",
    "    BW_Error = np.sqrt((BW_Error/Background_W)**2 + (S_Error/Signal)**2)\n",
    "    Signal=Signal/Signal\n",
    "\n",
    "pT_Axis = np.linspace(0.5,8,N_Bins)\n",
    "\n",
    "fig = plt.figure(figsize=(10,7))\n",
    "\n",
    "plt.errorbar(pT_Axis,Signal,yerr = S_Error,label=\"$\\chi^2 < 36$ Corrected\")\n",
    "plt.errorbar(pT_Axis,Background,yerr = B_Error,label=\"$\\chi^2 < 2 / \\chi^2 < 36$ Corrected\")\n",
    "plt.title(r\"$\\chi^2$ Corrected Comparison\")\n",
    "#plt.ylim(0.8,1.2)\n",
    "    \n",
    "plt.xlabel(r'Cluster $p_{\\mathrm{T}}$')\n",
    "#plt.ylabel(r'$\\frac{1}{N_{\\gamma}}\\cdot dN$')\n",
    "plt.legend()\n",
    "fig.savefig('pics/Cluster_pT_Weighted.pdf', bbox_inches='tight')"
   ]
  },
  {
   "cell_type": "code",
   "execution_count": 5,
   "metadata": {},
   "outputs": [
    {
     "name": "stdout",
     "output_type": "stream",
     "text": [
      "25025.0\n",
      "65358.0\n",
      "62.9364759102\n",
      "56.48893697\n",
      "52.0288381573\n",
      "45.5960524607\n",
      "41.4849370254\n",
      "38.5097390279\n",
      "34.1174442185\n",
      "32.1714158843\n",
      "29.9165506033\n",
      "27.3678643668\n",
      "24.8797106092\n",
      "23.6431808351\n",
      "22.6936114358\n",
      "21.3072757527\n",
      "19.0262975904\n",
      "18.1934053987\n",
      "16.7928556237\n",
      "16.0\n",
      "14.6287388383\n",
      "13.9642400438\n",
      "13.4536240471\n",
      "12.3693168769\n",
      "12.2065556157\n",
      "11.1355287257\n",
      "11.5325625947\n",
      "11.2694276696\n",
      "10.677078252\n",
      "9.21954445729\n",
      "9.79795897113\n",
      "9.16515138991\n",
      "9.0\n",
      "7.87400787401\n",
      "8.0622577483\n",
      "7.4161984871\n",
      "7.93725393319\n",
      "7.14142842854\n",
      "7.14142842854\n",
      "7.21110255093\n",
      "7.28010988928\n",
      "7.21110255093\n",
      "6.63324958071\n",
      "6.92820323028\n",
      "6.0827625303\n",
      "5.56776436283\n",
      "5.38516480713\n",
      "5.74456264654\n",
      "5.47722557505\n",
      "4.79583152331\n",
      "5.0\n",
      "4.12310562562\n",
      "4.472135955\n",
      "4.35889894354\n",
      "4.12310562562\n",
      "4.0\n",
      "3.60555127546\n",
      "4.472135955\n",
      "56\n",
      "56\n"
     ]
    },
    {
     "data": {
      "image/png": "[encoded data removed]",
      "text/plain": [
       "<matplotlib.figure.Figure at 0x12156c7d0>"
      ]
     },
     "metadata": {
      "needs_background": "light"
     },
     "output_type": "display_data"
    }
   ],
   "source": [
    "#Shower_Shape = \"NN\"\n",
    "Shower_Shape = \"L0\"\n",
    "\n",
    "if (Shower_Shape==\"NN\"):\n",
    "    File = '../InputData/13f_SE_NN_Correlation.root'\n",
    "elif (Shower_Shape==\"L0\"):\n",
    "    File = '../InputData/zT_Rebin_8_006zT06zTWeightTest/13f_SE_L0_Correlation.root'\n",
    "file = ROOT.TFile(File)\n",
    "\n",
    "N_Sig_histo = file.Get(\"N_DNN1_Triggers_pT12_40\")\n",
    "N_Sig = N_Sig_histo.GetEntries()\n",
    "N_BKG_histo = file.Get(\"N_DNN2_Triggers_pT12_40\")\n",
    "N_BKG = N_BKG_histo.GetEntries()\n",
    "\n",
    "\n",
    "SIG = file.Get(\"Signal_pT_Dist\")\n",
    "#SIG.Rebin(4)\n",
    "print(SIG.GetEntries())\n",
    "BKGD = file.Get(\"BKGD_pT_Dist\")\n",
    "#BKGD.Rebin(4)\n",
    "print(BKGD.GetEntries())\n",
    "BKGD_W = file.Get(\"BKGD_pT_Dist_Weighted\")\n",
    "#BKGD_W.Rebin(4)\n",
    "\n",
    "#SIG.Rebin(10)\n",
    "Signal = root_numpy.hist2array(SIG)\n",
    "S_Scale = Signal.sum(axis=0)\n",
    "Signal = Signal/S_Scale\n",
    "\n",
    "\n",
    "#BKGD.Rebin(10)\n",
    "Background = root_numpy.hist2array(BKGD)\n",
    "B_Scale = Background.sum(axis=0)\n",
    "Background = Background/B_Scale\n",
    "\n",
    "#BKGD_W.Rebin(10)\n",
    "Background_W = root_numpy.hist2array(BKGD_W)\n",
    "B_Scale_W = Background_W.sum(axis=0)\n",
    "Background_W = Background_W/B_Scale_W\n",
    "\n",
    "N_Bins = SIG.GetSize() - 2 #Ignero under/overflow\n",
    "S_Error = np.zeros(N_Bins)\n",
    "B_Error = np.zeros(N_Bins)\n",
    "BW_Error = np.zeros(N_Bins)\n",
    "for i in range(1,N_Bins+1):\n",
    "    S_Error[i-1] = SIG.GetBinError(i)\n",
    "    print(SIG.GetBinError(i))\n",
    "    B_Error[i-1] = BKGD.GetBinError(i)\n",
    "    BW_Error[i-1] = BKGD_W.GetBinError(i)\n",
    "    \n",
    "S_Error = S_Error/S_Scale\n",
    "B_Error = B_Error/B_Scale\n",
    "BW_Error = BW_Error/B_Scale_W\n",
    "    \n",
    "    \n",
    "Take_Ratios = True\n",
    "\n",
    "if Take_Ratios:\n",
    "    Background = Background/Signal\n",
    "    B_Error = np.sqrt((BW_Error/Background)**2 + (S_Error/Signal)**2)\n",
    "    \n",
    "    Background_W = Background_W/Signal\n",
    "    BW_Error = np.sqrt((BW_Error/Background_W)**2 + (S_Error/Signal)**2)\n",
    "    Signal=Signal/Signal\n",
    "    \n",
    "print(Signal.size)\n",
    "print(S_Error.size)\n",
    "\n",
    "pT_Axis = np.linspace(10,40,N_Bins)\n",
    "\n",
    "fig = plt.figure(figsize=(10,7))\n",
    "if (Shower_Shape==\"NN\"):\n",
    "    plt.errorbar(pT_Axis,Signal,yerr = S_Error,label=\"Signal Region Clusters (0.55 < NN < 0.85)\")\n",
    "    plt.errorbar(pT_Axis,Background,yerr = B_Error,label=\"Background Region Clusters (NN < 0.4)\")\n",
    "    plt.errorbar(pT_Axis,Background_W,yerr = BW_Error,fmt = \"--r\",label=\"Weighted Background Clusters (NN < 0.4)\")\n",
    "    plt.title(r\"Isolated Cluster $p_{\\mathrm{T}}$ Distribution  $DNN$\")\n",
    "\n",
    "elif (Shower_Shape==\"L0\"):\n",
    "    plt.errorbar(pT_Axis,Signal,yerr = S_Error,label=\"Signal Region Clusters ($\\lambda^{2}_{0}$ < 0.3)\")\n",
    "    plt.errorbar(pT_Axis,Background,yerr = B_Error,label=\"Background Region Clusters ($\\lambda^{2}_{0}$ > 0.4)\")\n",
    "    plt.errorbar(pT_Axis,Background_W,yerr = BW_Error,fmt = \"--r\",label=\"Weighted Bkg Region Clusters ($\\lambda^{2}_{0}$ > 0.4)\")\n",
    "    plt.title(r\"Isolated Cluster $p_{\\mathrm{T}}$ Distribution  $\\lambda^{2}_{0}$\")\n",
    "    #plt.ylim(0,0.01)\n",
    "    \n",
    "plt.xlabel(r'Cluster $p_{\\mathrm{T}}$')\n",
    "#plt.ylabel(r'$\\frac{1}{N_{\\gamma}}\\cdot dN$')\n",
    "plt.legend()\n",
    "fig.savefig('pics/Cluster_pT_Weighted.pdf', bbox_inches='tight')\n",
    "\n"
   ]
  },
  {
   "cell_type": "markdown",
   "metadata": {},
   "source": [
    "## Tracking Plots"
   ]
  },
  {
   "cell_type": "code",
   "execution_count": 5,
   "metadata": {},
   "outputs": [
    {
     "data": {
      "text/plain": [
       "<matplotlib.text.Text at 0x12264be50>"
      ]
     },
     "execution_count": 5,
     "metadata": {},
     "output_type": "execute_result"
    },
    {
     "data": {
      "image/png": "[encoded data removed]",
      "text/plain": [
       "<matplotlib.figure.Figure at 0x122634350>"
      ]
     },
     "metadata": {
      "needs_background": "light"
     },
     "output_type": "display_data"
    }
   ],
   "source": [
    "Trak_pT_Bin_Edges = np.asarray([0.5,0.55,0.6,0.65,0.7,0.75,0.8,0.85,0.9,0.95,1.0,1.1,1.2,1.4,1.6,1.8,2.0,2.2,2.4,2.6,2.8,3.0,3.2,3.6,4.0,5.0,6.0,8.0,10.0,13.0])\n",
    "Track_pT_Bin_Centers = (Trak_pT_Bin_Edges[1:] + Trak_pT_Bin_Edges[:-1]) / 2\n",
    "N = np.size(Track_pT_Bin_Centers)\n",
    "\n",
    "pp_pT_Smearing = [1.00905, 1.00653, 1.00859, 1.00616, 0.997317, 1.00387, 0.993037, 1.00025, 0.994664, 0.99143, 1.00412, 0.994017, 0.989386, 0.995787, 0.987843, 0.990099, 0.972225, 0.997532, 0.975834, 0.971739, 0.939599, 0.951686, 0.971399, 0.904032, 0.915311, 0.897727, 0.670429, 0.666667, 0.512195] \n",
    "#pp_pT_Smearing = pp_pT_Smearing[-N:]\n",
    "\n",
    "pPb_pT_Smearing = [1.00998, 1.00622, 1.00519, 1.00425, 1.00182, 0.99553, 0.992115, 0.991085, 0.989869, 0.988516, 0.987711, 0.989906, 0.990167, 0.994517, 0.994247, 0.99273, 0.983717, 0.986158, 0.978648, 0.986939, 0.963266, 0.959108, 0.945863, 0.923434, 0.896206, 0.86263, 0.71868, 0.629909, 0.425061]\n",
    "#pPb_pT_Smearing = pPb_pT_Smearing[-N:]\n",
    "\n",
    "old_pPb = [1.007,1.007,0.982,0.957,0.926,0.894,0.853,0.817,0.757,0.681,0.673,0.619,0.469,0.342,0.301]\n",
    "old_pt_bins = np.asarray([0.05,1,2,3,4,5,6,7,8,9,10,11,12,13,14,15])\n",
    "old_centers = (old_pt_bins[1:] + old_pt_bins[:-1]) / 2\n",
    "\n",
    "plt.plot(Track_pT_Bin_Centers,pPb_pT_Smearing,marker=\"o\",label=\"p-Pb\")\n",
    "plt.plot(Track_pT_Bin_Centers,pp_pT_Smearing,marker=\"o\",label=\"pp\")\n",
    "plt.plot(old_centers,old_pPb,marker=\"o\",label=\"old\")\n",
    "plt.legend()\n",
    "plt.title(\"pT Bin Migration Correction in pp and p-Pb\")"
   ]
  },
  {
   "cell_type": "code",
   "execution_count": 34,
   "metadata": {},
   "outputs": [
    {
     "name": "stdout",
     "output_type": "stream",
     "text": [
      "30\n",
      "29\n"
     ]
    }
   ],
   "source": [
    "print(len(Trak_pT_Bin_Edges))\n",
    "print(len(Track_pT_Bin_Centers))\n"
   ]
  },
  {
   "cell_type": "code",
   "execution_count": 6,
   "metadata": {},
   "outputs": [
    {
     "data": {
      "text/plain": [
       "<matplotlib.text.Text at 0x1227759d0>"
      ]
     },
     "execution_count": 6,
     "metadata": {},
     "output_type": "execute_result"
    },
    {
     "data": {
      "image/png": "[encoded data removed]",
      "text/plain": [
       "<matplotlib.figure.Figure at 0x12262f790>"
      ]
     },
     "metadata": {
      "needs_background": "light"
     },
     "output_type": "display_data"
    }
   ],
   "source": [
    "Trak_pT_Bin_Edges = np.asarray([0.5,0.55,0.6,0.65,0.7,0.75,0.8,0.85,0.9,0.95,1.0,1.1,1.2,1.4,1.6,1.8,2.0,2.2,2.4,2.6,2.8,3.0,3.2,3.6,4.0,5.0,6.0,8.0,10.0,13.0,20.0])\n",
    "Track_pT_Bin_Centers = (Trak_pT_Bin_Edges[1:] + Trak_pT_Bin_Edges[:-1]) / 2\n",
    "N = np.size(Track_pT_Bin_Centers)\n",
    "\n",
    "pp_Fake_Rate = [0.0250246,0.0250246, 0.0245797, 0.0242376, 0.0240682, 0.023281, 0.0246955, 0.0235495, 0.0230017, 0.0236568, 0.022912, 0.0237135, 0.0229813, 0.0223819, 0.0223993, 0.0238591, 0.0252843, 0.0253992, 0.0250655, 0.0254672, 0.0271102, 0.0272849, 0.0233524, 0.0321137, 0.040308, 0.0611087, 0.0730563, 0.13447, 0.148867, 0.292818]\n",
    "#pp_pT_Smearing = pp_pT_Smearing[-N:]\n",
    "\n",
    "pPb_Fake_Rate = [0.0184162,0.0184162, 0.0180536, 0.0175808, 0.0177315, 0.017413, 0.0172551, 0.0175637, 0.017715, 0.0172888, 0.0178326, 0.0178794, 0.0179673, 0.0177509, 0.0182945, 0.0181996, 0.0188647, 0.0190429, 0.0202744, 0.0209381, 0.0213728, 0.0237848, 0.0251898, 0.0297774, 0.0350703, 0.0518793, 0.0804111, 0.137953, 0.214123, 0.301459]\n",
    "#pPb_pT_Smearing = pPb_pT_Smearing[-N:]\n",
    "\n",
    "old_pPb_fake_rate = np.asarray([0.9821,0.9821,0.9803,0.9751,0.9645,0.9525,0.9278,0.9098,0.8702,0.8593,0.7870,0.7825,0.7624,0.7389,0.6710])\n",
    "old_fake_rate = 1.0-old_pPb_fake_rate\n",
    "\n",
    "plt.plot(Track_pT_Bin_Centers,pPb_Fake_Rate,marker=\"o\",label=\"p-Pb\")\n",
    "plt.plot(Track_pT_Bin_Centers,pp_Fake_Rate,marker=\"o\",label=\"pp\")\n",
    "plt.plot(old_centers,old_fake_rate,marker=\"o\",label=\"old\")\n",
    "plt.legend()\n",
    "plt.title(\"Fake Rate Correction in pp and p-Pb\")"
   ]
  },
  {
   "cell_type": "code",
   "execution_count": 36,
   "metadata": {},
   "outputs": [
    {
     "name": "stdout",
     "output_type": "stream",
     "text": [
      "29\n",
      "[0.0179 0.0179 0.0197 0.0249 0.0355 0.0475 0.0722 0.0902 0.1298 0.1407\n",
      " 0.213  0.2175 0.2376 0.2611 0.329 ]\n"
     ]
    }
   ],
   "source": [
    "print(len(pPb_Fake_Rate))\n",
    "print(old_fake_rate)"
   ]
  },
  {
   "cell_type": "code",
   "execution_count": 27,
   "metadata": {},
   "outputs": [
    {
     "data": {
      "text/plain": [
       "<matplotlib.text.Text at 0x1244a1fd0>"
      ]
     },
     "execution_count": 27,
     "metadata": {},
     "output_type": "execute_result"
    },
    {
     "data": {
      "image/png": "[encoded data removed]",
      "text/plain": [
       "<matplotlib.figure.Figure at 0x1252961d0>"
      ]
     },
     "metadata": {
      "needs_background": "light"
     },
     "output_type": "display_data"
    }
   ],
   "source": [
    "pp_Efficiency = [0.833835601807,0.836869120598,0.839235246181,0.841083467007,0.843128025532,0.84164339304,0.844368815422,0.843157708645,0.842828392982,0.844945728779,0.846174120903,0.849676072598,0.85161960125,0.851656377316,0.855973064899,0.859771847725,0.856857895851,0.856580495834,0.866534769535,0.862415850163,0.864510595798,0.863728642464,0.871034324169,0.870704054832,0.872091054916,0.867180407047,0.848246216774,0.860869586468,0.887700557709]\n",
    "#pp_pT_Smearing = pp_pT_Smearing[-N:]\n",
    "\n",
    "pPb_Efficency = [0.853948, 0.855174, 0.857245, 0.858315, 0.858334, 0.859078, 0.860819, 0.860223, 0.860368, 0.860849, 0.862532, 0.864867, 0.867081, 0.869168, 0.869016, 0.872149, 0.872669, 0.874919, 0.876616, 0.876491, 0.87365, 0.877567, 0.8777, 0.882617, 0.88169, 0.881348, 0.880515, 0.87605, 0.882653]\n",
    "#pPb_pT_Smearing = pPb_pT_Smearing[-N:]\n",
    "\n",
    "\n",
    "plt.plot(Track_pT_Bin_Centers,pPb_Efficency,marker=\"o\",label=\"p-Pb\")\n",
    "plt.plot(Track_pT_Bin_Centers,pp_Efficiency,marker=\"o\",label=\"pp\")\n",
    "plt.ylim(0.8,0.9)\n",
    "plt.legend()\n",
    "plt.title(\"Efficiency in pp and p-Pb\")"
   ]
  },
  {
   "cell_type": "code",
   "execution_count": 20,
   "metadata": {},
   "outputs": [
    {
     "data": {
      "text/plain": [
       "<matplotlib.text.Text at 0x124a257d0>"
      ]
     },
     "execution_count": 20,
     "metadata": {},
     "output_type": "execute_result"
    },
    {
     "data": {
      "image/png": "[encoded data removed]",
      "text/plain": [
       "<matplotlib.figure.Figure at 0x1249d6510>"
      ]
     },
     "metadata": {
      "needs_background": "light"
     },
     "output_type": "display_data"
    }
   ],
   "source": [
    "pp_Fake_Rate = [0.0250246, 0.0245797, 0.0242376, 0.0240682, 0.023281, 0.0246955, 0.0235495, 0.0230017, 0.0236568, 0.022912, 0.0237135, 0.0229813, 0.0223819, 0.0223993, 0.0238591, 0.0252843, 0.0253992, 0.0250655, 0.0254672, 0.0271102, 0.0272849, 0.0233524, 0.0321137, 0.040308, 0.0611087, 0.0730563, 0.13447, 0.148867, 0.292818]\n",
    "#pp_pT_Smearing = pp_pT_Smearing[-N:]\n",
    "\n",
    "pPb_Fake_Rate = [0.0184162, 0.0180536, 0.0175808, 0.0177315, 0.017413, 0.0172551, 0.0175637, 0.017715, 0.0172888, 0.0178326, 0.0178794, 0.0179673, 0.0177509, 0.0182945, 0.0181996, 0.0188647, 0.0190429, 0.0202744, 0.0209381, 0.0213728, 0.0237848, 0.0251898, 0.0297774, 0.0350703, 0.0518793, 0.0804111, 0.137953, 0.214123, 0.301459]\n",
    "#pPb_pT_Smearing = pPb_pT_Smearing[-N:]\n",
    "\n",
    "old_pPb_fake_rate = np.asarray([0.9821,0.9821,0.9803,0.9751,0.9645,0.9525,0.9278,0.9098,0.8702,0.8593,0.7870,0.7825,0.7624,0.7389,0.6710])\n",
    "old_fake_rate = 1.0-old_pPb_fake_rate\n",
    "\n",
    "plt.plot(Track_pT_Bin_Centers,pPb_Fake_Rate,marker=\"o\",label=\"p-Pb\")\n",
    "plt.plot(Track_pT_Bin_Centers,pp_Fake_Rate,marker=\"o\",label=\"pp\")\n",
    "plt.plot(old_centers,old_fake_rate,marker=\"o\",label=\"old\")\n",
    "plt.legend()\n",
    "plt.title(\"Fake Rate Correction in pp and p-Pb\")"
   ]
  },
  {
   "cell_type": "markdown",
   "metadata": {},
   "source": [
    "## Look at Arbitrary Ratios"
   ]
  },
  {
   "cell_type": "code",
   "execution_count": 5,
   "metadata": {},
   "outputs": [
    {
     "ename": "AttributeError",
     "evalue": "'TObject' object has no attribute 'ProjectionX'",
     "output_type": "error",
     "traceback": [
      "\u001b[0;31m\u001b[0m",
      "\u001b[0;31mAttributeError\u001b[0mTraceback (most recent call last)",
      "\u001b[0;32m<ipython-input-5-6d78ab74db77>\u001b[0m in \u001b[0;36m<module>\u001b[0;34m()\u001b[0m\n\u001b[1;32m     40\u001b[0m \u001b[0;34m\u001b[0m\u001b[0m\n\u001b[1;32m     41\u001b[0m         \u001b[0mHISTO1\u001b[0m \u001b[0;34m=\u001b[0m \u001b[0mHisto1\u001b[0m\u001b[0;34m.\u001b[0m\u001b[0mProjectionX\u001b[0m\u001b[0;34m(\u001b[0m\u001b[0;34m\"Sig_Phi\"\u001b[0m\u001b[0;34m,\u001b[0m\u001b[0;36m0\u001b[0m\u001b[0;34m,\u001b[0m\u001b[0;34m-\u001b[0m\u001b[0;36m1\u001b[0m\u001b[0;34m)\u001b[0m\u001b[0;34m\u001b[0m\u001b[0m\n\u001b[0;32m---> 42\u001b[0;31m         \u001b[0mHISTO2\u001b[0m \u001b[0;34m=\u001b[0m \u001b[0mHisto2\u001b[0m\u001b[0;34m.\u001b[0m\u001b[0mProjectionX\u001b[0m\u001b[0;34m(\u001b[0m\u001b[0;34m\"Bkg_Phi\"\u001b[0m\u001b[0;34m,\u001b[0m\u001b[0;36m0\u001b[0m\u001b[0;34m,\u001b[0m\u001b[0;34m-\u001b[0m\u001b[0;36m1\u001b[0m\u001b[0;34m)\u001b[0m\u001b[0;34m\u001b[0m\u001b[0m\n\u001b[0m\u001b[1;32m     43\u001b[0m \u001b[0;34m\u001b[0m\u001b[0m\n\u001b[1;32m     44\u001b[0m         \u001b[0mHISTO1\u001b[0m\u001b[0;34m.\u001b[0m\u001b[0mDivide\u001b[0m\u001b[0;34m(\u001b[0m\u001b[0mHISTO2\u001b[0m\u001b[0;34m)\u001b[0m\u001b[0;34m\u001b[0m\u001b[0m\n",
      "\u001b[0;31mAttributeError\u001b[0m: 'TObject' object has no attribute 'ProjectionX'"
     ]
    },
    {
     "name": "stderr",
     "output_type": "stream",
     "text": [
      "Error in <TFile::TFile>: file ../InputData/zT_Rebin_8_006zT06zT13fnew/13f_0GeVTrack_paired_0GeVTracks_Correlation_Lambda_0_to_300.root does not exist\n"
     ]
    },
    {
     "data": {
      "image/png": "[encoded data removed]",
      "text/plain": [
       "<matplotlib.figure.Figure at 0x12dc161d0>"
      ]
     },
     "metadata": {
      "needs_background": "light"
     },
     "output_type": "display_data"
    }
   ],
   "source": [
    "#File1 = \"../InputData/pp_GMB_RATIO_COMBINED_OLD.root\"\n",
    "#File2 = \"../InputData/05zT/pp_GMB_RATIO_COMBINED_NEW.root\"\n",
    "\n",
    "File1 = \"../InputData/zT_Rebin_8_006zT06zT13fnewChi2/13f_0GeVTracks_Mixed_300_Correlation_Lambda.root\"\n",
    "File2 = \"../InputData/zT_Rebin_8_006zT06zT13fnew/13f_0GeVTrack_paired_0GeVTracks_Correlation_Lambda_0_to_300.root\"\n",
    "\n",
    "#File1 = \"../InputData/05zT/13f_SE_L0_Correlation.root\"\n",
    "#File2 = \"../InputData/1zT/13f_SE_L0_Correlation.root\"\n",
    "\n",
    "#File1=\"../InputData/13f_SE_L0_Correlation15_min.root\"\n",
    "#File2=\"../InputData/13f_SE_L0_Correlation12_min.root\"\n",
    "\n",
    "#File1=\"../InputData/pT_Rebin_4_Weights/13f_0GeVTracks_Mixed_300_Correlation_Lambda.root\"\n",
    "#File2=\"../InputData/pT_Rebin_4_Weights/13f_0GeVTracks_Mixed_300_Correlation_Lambda.root\"\n",
    "#File1=\"../InputData/pT_Rebin_1_pDevPlus/13f_0GeVTracks_Mixed_300_Correlation_Lambda.root\"\n",
    "#File2=\"../InputData/pT_Rebin_1/13f_0GeVTracks_Mixed_300_Correlation_Lambda.root\"\n",
    "#File1=\"../InputData/zT_Rebin_8_006zT06zT13fnew/pPb_SE_L0_Correlation_GMB_Ratio.root\"\n",
    "#File2=\"../InputData/zT_Rebin_8_006zT06zTITSSub/pPb_SE_L0_Correlation_GMB_Ratio.root\"\n",
    "\n",
    "\n",
    "#File1=pPb_File\n",
    "#File2=pp_File\n",
    "\n",
    "#File1=\"../InputData/05zT/13f_SE_L0_Correlation.root\"\n",
    "#File2 = \"../InputData/pT_Rebin_4/13f_SE_L0_Correlation.root\"\n",
    "\n",
    "file1 = ROOT.TFile(File1)\n",
    "file2 = ROOT.TFile(File2)\n",
    "\n",
    "for ipt in range (N_pT_Bins):\n",
    "    fig = plt.figure(figsize=(15,10))\n",
    "\n",
    "    for izt in range (0,NzT-ZT_OFF_PLOT):\n",
    "        ax = fig.add_subplot(3,3,izt+1)\n",
    "\n",
    "        Histo1 = file1.Get(\"DNN1_Correlation__pT%1.0f_%1.0f__zT%1.0f_zT%1.0f\"%(pTbins[ipt],pTbins[ipt+1],zTbins[izt]*100,zTbins[izt+1]*100))\n",
    "        #print((\"Correlation__pT%1.0f_%1.0f__zT%1.0f_%1.0f\"%(pTbins[ipt],pTbins[ipt+1],zTbins[izt]*100,zTbins[izt+1]*100)))\n",
    "        Histo2 = file2.Get(\"DNN1_Correlation__pT%1.0f_%1.0f__zT%1.0f_zT%1.0f\"%(pTbins[ipt],pTbins[ipt+1],zTbins[izt]*100,zTbins[izt+1]*100))\n",
    "\n",
    "\n",
    "        HISTO1 = Histo1.ProjectionX(\"Sig_Phi\",0,-1)\n",
    "        HISTO2 = Histo2.ProjectionX(\"Bkg_Phi\",0,-1)\n",
    "\n",
    "        HISTO1.Divide(HISTO2)\n",
    "\n",
    "        Signal = root_numpy.hist2array(HISTO1)\n",
    "        Background = root_numpy.hist2array(HISTO2)\n",
    "\n",
    "        N_Bins = HISTO1.GetSize() - 2 #Ignero under/overflow\n",
    "        S_Error = np.zeros(N_Bins)\n",
    "        B_Error = np.zeros(N_Bins)\n",
    "        for i in range(1,N_Bins+1):\n",
    "            S_Error[i-1] = HISTO1.GetBinError(i)\n",
    "            B_Error[i-1] = HISTO2.GetBinError(i)\n",
    "\n",
    "        Corr_Axis = np.linspace(0,3.14159,N_Bins)\n",
    "\n",
    "        #print(HISTO1)\n",
    "\n",
    "\n",
    "        plt.errorbar(Corr_Axis,Signal,yerr = S_Error,label=\"Signal Clusters ($\\lambda^{2}_{0}$ < 0.4)\")\n",
    "        #plt.errorbar(Corr_Axis,Background,yerr = B_Error,label=\"Signal Clusters ($\\lambda^{2}_{0}$ < 0.4)\")\n",
    "\n",
    "        #plt.ylim(0.5,2.5)\n",
    "#plt.title(r\"Isolated Cluster $p_{\\mathrm{T}}$ Distribution  $\\lambda$\")\n",
    "#plt.ylim(0.5,0.58)\n",
    "#plt.ylim(1.9,2.0)\n"
   ]
  },
  {
   "cell_type": "code",
   "execution_count": 7,
   "metadata": {},
   "outputs": [
    {
     "name": "stdout",
     "output_type": "stream",
     "text": [
      "0.513506511244\n",
      "8.93208262157\n",
      "16.3546687477\n",
      "0.583623215723\n",
      "6.01093079864\n",
      "19.3085260578\n",
      " FCN=0.461499 FROM MIGRAD    STATUS=CONVERGED      82 CALLS          83 TOTAL\n",
      "                     EDM=6.31518e-07    STRATEGY= 1      ERROR MATRIX ACCURATE \n",
      "  EXT PARAMETER                                   STEP         FIRST   \n",
      "  NO.   NAME      VALUE            ERROR          SIZE      DERIVATIVE \n",
      "   1  p0           5.13506e-01   1.52721e-02   4.30927e-06  -2.91794e-03\n",
      "   2  p1           8.93206e+00   1.10566e+00   2.21257e-04  -6.29278e-04\n",
      "   3  p2           1.63546e+01   2.35090e+00   3.43740e-04  -7.11200e-04\n",
      " FCN=0.461499 FROM MIGRAD    STATUS=CONVERGED      36 CALLS          37 TOTAL\n",
      "                     EDM=5.64258e-07    STRATEGY= 1      ERROR MATRIX ACCURATE \n",
      "  EXT PARAMETER                                   STEP         FIRST   \n",
      "  NO.   NAME      VALUE            ERROR          SIZE      DERIVATIVE \n",
      "   1  p0           5.13507e-01   1.52723e-02   4.30904e-06  -4.01985e-02\n",
      "   2  p1           8.93208e+00   1.10566e+00   2.21456e-04   3.16657e-04\n",
      "   3  p2           1.63547e+01   2.35092e+00   3.43734e-04  -9.02431e-05\n",
      " FCN=0.448504 FROM MIGRAD    STATUS=CONVERGED      87 CALLS          88 TOTAL\n",
      "                     EDM=3.61643e-07    STRATEGY= 1      ERROR MATRIX ACCURATE \n",
      "  EXT PARAMETER                                   STEP         FIRST   \n",
      "  NO.   NAME      VALUE            ERROR          SIZE      DERIVATIVE \n",
      "   1  p0           5.83622e-01   1.85578e-02   4.25901e-06  -2.27902e-02\n",
      "   2  p1           6.01082e+00   1.58849e+00   2.41491e-04  -8.21984e-04\n",
      "   3  p2           1.93085e+01   3.11204e+00   3.37053e-04  -9.68956e-05\n",
      " FCN=0.448504 FROM MIGRAD    STATUS=CONVERGED      40 CALLS          41 TOTAL\n",
      "                     EDM=2.42855e-07    STRATEGY= 1      ERROR MATRIX ACCURATE \n",
      "  EXT PARAMETER                                   STEP         FIRST   \n",
      "  NO.   NAME      VALUE            ERROR          SIZE      DERIVATIVE \n",
      "   1  p0           5.83623e-01   1.85584e-02   4.25951e-06  -4.83775e-02\n",
      "   2  p1           6.01093e+00   1.58847e+00   2.41503e-04   2.87102e-04\n",
      "   3  p2           1.93085e+01   3.11209e+00   3.37108e-04   5.66938e-04\n"
     ]
    },
    {
     "data": {
      "image/png": "[encoded data removed]",
      "text/plain": [
       "<IPython.core.display.Image object>"
      ]
     },
     "metadata": {},
     "output_type": "display_data"
    }
   ],
   "source": [
    "from ROOT import TF1\n",
    "from ROOT import TMath\n",
    "\n",
    "#Define pT Bins and Range\n",
    "pGeV_Edges_3 = np.linspace(12,40,29)\n",
    "\n",
    "#Define your function and set parameters (notice use of string)ee\n",
    "Purity_Graph.Draw(\"\")\n",
    "Fit_Band.SetLineColor(ROOT.kRed);\n",
    "Fit_Band.SetFillColorAlpha(ROOT.kRed,0.2)\n",
    "Fit_Band.Draw(\"same3\");\n",
    "\n",
    "#Fill a TGraph with Purity Information\n",
    "Purity_Graph_fit_bottom = ROOT.TGraphErrors()\n",
    "for izt in range (len(pGeV_Edges_3)):\n",
    "    Purity_Graph_fit_bottom.SetPoint(izt,pGeV_Edges_3[izt],fit_vals[izt]-fit_errors[izt])\n",
    "    Purity_Graph_fit_bottom.SetPointError(izt,0,fit_errors[izt])\n",
    "Purity_Graph_fit_bottom.Fit(\"func\",\"S\")\n",
    "Purity_Graph_fit_bottom.SetFillColorAlpha(ROOT.kRed,0.0)\n",
    "Purity_Graph_fit_bottom.Draw(\"same3\")\n",
    "fit = Purity_Graph_fit_bottom.Fit(\"func\",\"S\")\n",
    "print fit.Parameters()[0]\n",
    "print fit.Parameters()[1]\n",
    "print fit.Parameters()[2]\n",
    "fit.Draw(\"same\")\n",
    "\n",
    "#Fill a TGraph with Purity Information\n",
    "Purity_Graph_fit_bottom = ROOT.TGraphErrors()\n",
    "for izt in range (len(pGeV_Edges_3)):\n",
    "    Purity_Graph_fit_bottom.SetPoint(izt,pGeV_Edges_3[izt],fit_vals[izt]+fit_errors[izt])\n",
    "    Purity_Graph_fit_bottom.SetPointError(izt,0,fit_errors[izt])\n",
    "Purity_Graph_fit_bottom.Fit(\"func\",\"S\")\n",
    "Purity_Graph_fit_bottom.SetFillColorAlpha(ROOT.kRed,0.0)\n",
    "Purity_Graph_fit_bottom.Draw(\"same3\")\n",
    "fit = Purity_Graph_fit_bottom.Fit(\"func\",\"S\")\n",
    "print fit.Parameters()[0]\n",
    "print fit.Parameters()[1]\n",
    "print fit.Parameters()[2]\n",
    "fit.Draw(\"same\")\n",
    "c.Draw()"
   ]
  },
  {
   "cell_type": "code",
   "execution_count": 8,
   "metadata": {},
   "outputs": [],
   "source": [
    "def GetCorrelation_Npairs(filename,pt_min,pt_max, izt, Signal_DNN=True):\n",
    "    \n",
    "    file = ROOT.TFile(filename)\n",
    "    \n",
    "    if (Signal_DNN == \"Inclusive\"):\n",
    "        histo2D = file.Get('Correlation__pT%1.0f_%1.0f__zT%1.0f_zT%1.0f'\n",
    "                        %(pt_min[ipt],pt_max,100*zTbins[izt],100*zTbins[izt+1]))\n",
    "    \n",
    "    else:\n",
    "        DNN_Rgn = int(Signal_DNN) + 2*(1-int(Signal_DNN)) #convert bool to DNN_1 (Sgn) or DNN_2 (Bkgd)\n",
    "        \n",
    "        histo2D = file.Get('DNN%i_Correlation__pT%1.0f_%1.0f__zT%1.0f_zT%1.0f' \n",
    "                            %(DNN_Rgn,pt_min,pt_max,100*zTbins[izt],100*zTbins[izt+1]))\n",
    "        \n",
    "    N_Pairs = histo2D.GetEntries()\n",
    "    return N_Pairs"
   ]
  },
  {
   "cell_type": "code",
   "execution_count": 9,
   "metadata": {},
   "outputs": [
    {
     "name": "stdout",
     "output_type": "stream",
     "text": [
      "../InputData/zT_Rebin_9_006zT06zT/pp_SE_L0_Correlation_GMB_Ratio.root\n",
      "pp File: ../InputData/zT_Rebin_9_006zT06zT/pp_SE_L0_Correlation_GMB_Ratio.root\n",
      "p-Pb File: ../InputData/zT_Rebin_9_006zT06zT/pPb_SE_L0_Correlation_GMB_Ratio.root\n"
     ]
    }
   ],
   "source": [
    "reload(default_values)\n",
    "from default_values import *"
   ]
  },
  {
   "cell_type": "code",
   "execution_count": 10,
   "metadata": {},
   "outputs": [
    {
     "name": "stdout",
     "output_type": "stream",
     "text": [
      "['../InputData/zT_Rebin_9_006zT06zT/pp_SE_L0_Correlation_GMB_Ratio.root', '../InputData/zT_Rebin_9_006zT06zT/pPb_SE_L0_Correlation_GMB_Ratio.root']\n",
      "[12, 40]\n"
     ]
    }
   ],
   "source": [
    "print(Files)\n",
    "print(pTbins)"
   ]
  },
  {
   "cell_type": "code",
   "execution_count": 11,
   "metadata": {},
   "outputs": [],
   "source": [
    "def Get_NTriggers(filename,ipt, Signal_DNN=True): \n",
    "    file = ROOT.TFile(filename)\n",
    "    if (Signal_DNN == \"Inclusive\"):\n",
    "        ntrig_histo = file.Get('N_Inclusive_Triggers_pT%1.0f_%1.0f' %(pTbins[ipt],pTbins[ipt+1]))\n",
    "    elif (Signal_DNN == \"Isolated\"):\n",
    "        ntrig_histo = file.Get('N_Triggers_pT%1.0f_%1.0f' %(pTbins[ipt],pTbins[ipt+1]))\n",
    "        \n",
    "    else:\n",
    "        DNN_Rgn = int(Signal_DNN) + 2*(1-int(Signal_DNN))\n",
    "        ntrig_histo = file.Get('N_DNN%i_Triggers_pT%1.0f_%1.0f' %(DNN_Rgn,pTbins[ipt],pTbins[ipt+1]))\n",
    "    NTriggers = 1\n",
    "    if not(ntrig_histo == None):\n",
    "        NTriggers = ntrig_histo.GetEntries()\n",
    "    file.Close()\n",
    "    return NTriggers"
   ]
  },
  {
   "cell_type": "code",
   "execution_count": 12,
   "metadata": {},
   "outputs": [
    {
     "name": "stdout",
     "output_type": "stream",
     "text": [
      "                                   [pp]\n",
      "\n",
      "zT Bins:            0.06-0.08, 0.08-0.10, 0.10-0.13, 0.13-0.17, 0.17-0.22, 0.22-0.28, 0.28-0.36, 0.36-0.47, 0.47-0.60, \n",
      "\n",
      "pT Range: 12.0-40.0    13261.0,    11380.6,    7809.8,    5433.8,    3374.7,    1879.2,    1076.1,    622.6,    352.7, \n",
      "\n",
      "pp sum =  13261,   11381,   7810,   5434,   3375,   1879,   1076,   623,   353,   \n",
      "\n",
      "                                   [p-Pb]\n",
      "\n",
      "zT Bins:            0.06-0.08, 0.08-0.10, 0.10-0.13, 0.13-0.17, 0.17-0.22, 0.22-0.28, 0.28-0.36, 0.36-0.47, 0.47-0.60, \n",
      "\n",
      "pT Range: 12.0-40.0    50941.3,    42426.1,    29543.5,    19010.0,    10856.5,    5682.5,    2821.1,    1248.3,    641.0, \n",
      "\n",
      "p-Pb sum =  50941,   42426,   29543,   19010,   10856,   5683,   2821,   1248,   641,   \n",
      "\n"
     ]
    }
   ],
   "source": [
    "zT_Sums = np.zeros((2,NzT))\n",
    "counter = 0\n",
    "for file,system in zip(Files,Systems):\n",
    "    print(\"                                   [%s]\\n\"%(system))\n",
    "    print(\"zT Bins:           \"),\n",
    "    for izt in range(NzT):\n",
    "        print(r\"%1.2f-%1.2f,\"%(zTbins[izt],zTbins[izt+1])),\n",
    "        for ipt in range (N_pT_Bins):\n",
    "            n_pairs = GetCorrelation_Npairs(file,pTbins[ipt],pTbins[ipt+1],izt,True)\n",
    "            if math.isnan(n_pairs):\n",
    "                continue\n",
    "            zT_Sums[counter][izt]+= n_pairs\n",
    "        \n",
    "    print(\"\\n\")\n",
    "    for ipt in range(N_pT_Bins):\n",
    "        print(\"pT Range: %1.1f-%1.1f\"%(pTbins[ipt],pTbins[ipt+1])),\n",
    "        for izt in range (NzT):\n",
    "            print(\"   %1.1f,\"%(GetCorrelation_Npairs(file,pTbins[ipt],pTbins[ipt+1],izt,True))),\n",
    "        print(\"\\n\")\n",
    "\n",
    "    print(\"%s sum = \"%(system)),\n",
    "    for izt in range (NzT):\n",
    "        print(\"%1.0f,  \"%(zT_Sums[counter][izt])),\n",
    "    print(\"\\n\")\n",
    "    counter+=1\n"
   ]
  },
  {
   "cell_type": "markdown",
   "metadata": {},
   "source": [
    "## 2D PLOTS"
   ]
  },
  {
   "cell_type": "code",
   "execution_count": 13,
   "metadata": {},
   "outputs": [
    {
     "data": {
      "text/plain": [
       "<module 'Statistics' from 'Statistics.pyc'>"
      ]
     },
     "execution_count": 13,
     "metadata": {},
     "output_type": "execute_result"
    }
   ],
   "source": [
    "from Statistics import *\n",
    "import Statistics\n",
    "reload(Statistics)"
   ]
  },
  {
   "cell_type": "code",
   "execution_count": null,
   "metadata": {},
   "outputs": [],
   "source": []
  },
  {
   "cell_type": "code",
   "execution_count": 14,
   "metadata": {},
   "outputs": [],
   "source": [
    "#####Obtains the phi projection within the eta region (|eta|<0.6)#####\n",
    "def Get2D(filename,prfx,ipt, izt, Signal_DNN=True):\n",
    "    \n",
    "    file = ROOT.TFile(filename)\n",
    "\n",
    "    eta_max = 1.2 #Assuming symmetric eta range\n",
    "    \n",
    "    if (Signal_DNN == \"Inclusive\"):\n",
    "        histo2D = file.Get('Correlation__pT%1.0f_%1.0f__zT%1.0f_zT%1.0f' \n",
    "                        %(pTbins[ipt],pTbins[ipt+1],100*zTbins[izt],100*zTbins[izt+1]))\n",
    "        \n",
    "        Eta_Axis = histo2D.GetYaxis()\n",
    "        PhiProjection = histo2D.ProjectionX('Inclusive_PhiProjection__pT_%1.0f_%1.0f__zt_%1.0f_%1.0f' \n",
    "                                      %(pTbins[ipt],pTbins[ipt+1],100*zTbins[izt],\n",
    "                                        100*zTbins[izt+1]),Eta_Axis.FindBin(-eta_max),Eta_Axis.FindBin(eta_max))\n",
    "    \n",
    "    else:\n",
    "        DNN_Rgn = int(Signal_DNN) + 2*(1-int(Signal_DNN)) #convert bool to DNN_1 (Sgn) or DNN_2 (Bkgd)\n",
    "        histo2D = file.Get('DNN%i_Correlation__pT%1.0f_%1.0f__zT%1.0f_zT%1.0f' \n",
    "                            %(DNN_Rgn,pTbins[ipt],pTbins[ipt+1],100*zTbins[izt],100*zTbins[izt+1]))\n",
    "        \n",
    "        Eta_Axis = histo2D.GetYaxis()\n",
    "        PhiProjection = histo2D.ProjectionX('DNN%i_PhiProjection__pT_%1.0f_%1.0f__zt_%1.0f_%1.0f' \n",
    "                                      %(DNN_Rgn,pTbins[ipt],pTbins[ipt+1],100*zTbins[izt],\n",
    "                                        100*zTbins[izt+1]),Eta_Axis.FindBin(-eta_max),Eta_Axis.FindBin(eta_max))\n",
    "                                            \n",
    "    PhiProjection.SetDirectory(0)\n",
    "    PhiProjection.Rebin(2)\n",
    "    PhiProjection.Scale(1.0/(2*eta_max))\n",
    "    \n",
    "    #per trigger yield\n",
    "#     ntriggers = Get_NTriggers(filename,ipt, Signal_DNN)\n",
    "#     if not(ntriggers == None):\n",
    "#         PhiProjection.Scale(1.0/ntriggers)\n",
    "    \n",
    "    file.Close()\n",
    "    \n",
    "    Phi_Array = np.zeros(len(delta_phi_centers))\n",
    "    Phi_Error_Array = np.zeros(len(delta_phi_centers))\n",
    "    for bin in range(2,9):\n",
    "        Phi_Array[bin-2] = PhiProjection.GetBinContent(bin)\n",
    "        Phi_Error_Array[bin-2] = PhiProjection.GetBinError(bin)\n",
    "    \n",
    "    return Phi_Array, Phi_Error_Array"
   ]
  },
  {
   "cell_type": "code",
   "execution_count": null,
   "metadata": {},
   "outputs": [],
   "source": []
  },
  {
   "cell_type": "code",
   "execution_count": null,
   "metadata": {},
   "outputs": [],
   "source": []
  },
  {
   "cell_type": "code",
   "execution_count": 15,
   "metadata": {},
   "outputs": [],
   "source": [
    "def GetEtaProj(filename,prfx,ipt, izt, Signal_DNN=True):\n",
    "    \n",
    "    file = ROOT.TFile(filename)\n",
    "\n",
    "    N_Eta_Bins = 14\n",
    "    \n",
    "    if (Signal_DNN == \"Inclusive\"):\n",
    "        histo2D = file.Get('Correlation__pT%1.0f_%1.0f__zT%1.0f_zT%1.0f' \n",
    "                        %(pTbins[ipt],pTbins[ipt+1],100*zTbins[izt],100*zTbins[izt+1]))\n",
    "        \n",
    "        Eta_Axis = histo2D.GetYaxis()\n",
    "        EtaProjection = histo2D.ProjectionY('Inclusive_EtaProjection__pT_%1.0f_%1.0f__zt_%1.0f_%1.0f' \n",
    "                                      %(pTbins[ipt],pTbins[ipt+1],100*zTbins[izt],\n",
    "                                        100*zTbins[izt+1]),0,-1)\n",
    "    \n",
    "    else:\n",
    "        DNN_Rgn = int(Signal_DNN) + 2*(1-int(Signal_DNN)) #convert bool to DNN_1 (Sgn) or DNN_2 (Bkgd)\n",
    "        histo2D = file.Get('DNN%i_Correlation__pT%1.0f_%1.0f__zT%1.0f_zT%1.0f' \n",
    "                            %(DNN_Rgn,pTbins[ipt],pTbins[ipt+1],100*zTbins[izt],100*zTbins[izt+1]))\n",
    "        \n",
    "        Eta_Axis = histo2D.GetYaxis()\n",
    "        EtaProjection = histo2D.ProjectionY('DNN%i_EtaProjection__pT_%1.0f_%1.0f__zt_%1.0f_%1.0f' \n",
    "                                      %(DNN_Rgn,pTbins[ipt],pTbins[ipt+1],100*zTbins[izt],\n",
    "                                        100*zTbins[izt+1]),0,-1)\n",
    "    \n",
    "    EtaProjection.SetDirectory(0)\n",
    "    #EtaProjection.Scale(1.0/1.2)\n",
    "    \n",
    "    #per trigger yield\n",
    "    ntriggers = Get_NTriggers(filename,ipt, Signal_DNN)\n",
    "    if not(ntriggers == None):\n",
    "        EtaProjection.Scale(1.0/ntriggers)\n",
    "    \n",
    "    file.Close()\n",
    "    \n",
    "    return EtaProjection"
   ]
  },
  {
   "cell_type": "code",
   "execution_count": 16,
   "metadata": {},
   "outputs": [],
   "source": [
    "def GetEta_array(filename,prfx,ipt,izt,Signal_DNN=True):\n",
    "    \n",
    "    file = ROOT.TFile(filename)\n",
    "    \n",
    "    if (Signal_DNN == \"Inclusive\"):\n",
    "        histo2D = file.Get('Inclusive_Correlation__pT%1.0f_%1.0f__zT%1.0f_zT%1.0f' \n",
    "                        %(pTbins[ipt],pTbins[ipt+1],100*zTbins[izt],100*zTbins[izt+1]))\n",
    "        \n",
    "        Eta_Axis = histo2D.GetYaxis()\n",
    "        EtaProjection = histo2D.ProjectionY('Inclusive_EtaProjection__pT_%1.0f_%1.0f__zt_%1.0f_%1.0f' \n",
    "                                      %(pTbins[ipt],pTbins[ipt+1],100*zTbins[izt],\n",
    "                                        100*zTbins[izt+1]),0,-1)\\\n",
    "        \n",
    "    elif (Signal_DNN == \"Isolated\"):\n",
    "        histo2D = file.Get('Correlation__pT%1.0f_%1.0f__zT%1.0f_zT%1.0f' \n",
    "                        %(pTbins[ipt],pTbins[ipt+1],100*zTbins[izt],100*zTbins[izt+1]))\n",
    "        \n",
    "        Eta_Axis = histo2D.GetYaxis()\n",
    "        EtaProjection = histo2D.ProjectionY('EtaProjection__pT_%1.0f_%1.0f__zt_%1.0f_%1.0f' \n",
    "                                      %(pTbins[ipt],pTbins[ipt+1],100*zTbins[izt],\n",
    "                                        100*zTbins[izt+1]),0,-1)\n",
    "\n",
    "\n",
    "    \n",
    "    ntriggers = Get_NTriggers(filename,ipt, Signal_DNN)\n",
    "    if not(ntriggers == None):\n",
    "        EtaProjection.Scale(1.0/ntriggers)\n",
    "    \n",
    "    eta_array = root_numpy.hist2array(EtaProjection)\n",
    "    return eta_array"
   ]
  },
  {
   "cell_type": "code",
   "execution_count": 17,
   "metadata": {},
   "outputs": [
    {
     "ename": "NameError",
     "evalue": "name 'N_Eta_Bins' is not defined",
     "output_type": "error",
     "traceback": [
      "\u001b[0;31m\u001b[0m",
      "\u001b[0;31mNameError\u001b[0mTraceback (most recent call last)",
      "\u001b[0;32m<ipython-input-17-10334f0383e4>\u001b[0m in \u001b[0;36m<module>\u001b[0;34m()\u001b[0m\n\u001b[0;32m----> 1\u001b[0;31m \u001b[0mInclusive_eta_array\u001b[0m \u001b[0;34m=\u001b[0m \u001b[0mnp\u001b[0m\u001b[0;34m.\u001b[0m\u001b[0mzeros\u001b[0m\u001b[0;34m(\u001b[0m\u001b[0;34m(\u001b[0m\u001b[0mN_pT_Bins\u001b[0m\u001b[0;34m,\u001b[0m\u001b[0mNzT\u001b[0m\u001b[0;34m,\u001b[0m\u001b[0mN_Eta_Bins\u001b[0m\u001b[0;34m)\u001b[0m\u001b[0;34m)\u001b[0m\u001b[0;34m\u001b[0m\u001b[0m\n\u001b[0m\u001b[1;32m      2\u001b[0m \u001b[0mIsolated_eta_array\u001b[0m \u001b[0;34m=\u001b[0m \u001b[0mnp\u001b[0m\u001b[0;34m.\u001b[0m\u001b[0mzeros\u001b[0m\u001b[0;34m(\u001b[0m\u001b[0;34m(\u001b[0m\u001b[0mN_pT_Bins\u001b[0m\u001b[0;34m,\u001b[0m\u001b[0mNzT\u001b[0m\u001b[0;34m,\u001b[0m\u001b[0mN_Eta_Bins\u001b[0m\u001b[0;34m)\u001b[0m\u001b[0;34m)\u001b[0m\u001b[0;34m\u001b[0m\u001b[0m\n\u001b[1;32m      3\u001b[0m \u001b[0;34m\u001b[0m\u001b[0m\n\u001b[1;32m      4\u001b[0m \u001b[0;32mfor\u001b[0m \u001b[0mptbin\u001b[0m \u001b[0;32min\u001b[0m \u001b[0mrange\u001b[0m\u001b[0;34m(\u001b[0m\u001b[0;36m4\u001b[0m\u001b[0;34m)\u001b[0m\u001b[0;34m:\u001b[0m\u001b[0;34m\u001b[0m\u001b[0m\n\u001b[1;32m      5\u001b[0m     \u001b[0;31m#if(ptbin > 0): continue\u001b[0m\u001b[0;34m\u001b[0m\u001b[0;34m\u001b[0m\u001b[0m\n",
      "\u001b[0;31mNameError\u001b[0m: name 'N_Eta_Bins' is not defined"
     ]
    }
   ],
   "source": [
    "Inclusive_eta_array = np.zeros((N_pT_Bins,NzT,N_Eta_Bins))\n",
    "Isolated_eta_array = np.zeros((N_pT_Bins,NzT,N_Eta_Bins))\n",
    "\n",
    "for ptbin in range(4):\n",
    "    #if(ptbin > 0): continue\n",
    "    #ptbin = ptbin+2\n",
    "    print(\"        ptbin %i:\"%(ptbin))\n",
    "    print(\"\")\n",
    "    print(\"Isolated       Inclusive\")\n",
    "\n",
    "    for ztbin in range(6):\n",
    "    \n",
    "        #grab\n",
    "        Inclusive_eta_array[ptbin][ztbin] = GetEta_array(pp_File,\"pp\",ptbin,ztbin,\"Inclusive\") #no subtraction, change DNN\n",
    "        Isolated_eta_array[ptbin][ztbin] = GetEta_array(pp_File,\"pp\",ptbin,ztbin,\"Isolated\")\n",
    "\n",
    "        Inclusive_Diff = Inclusive_eta_array[ptbin][ztbin][:3].sum()-Inclusive_eta_array[ptbin][ztbin][11:].sum()\n",
    "        Isolated_Diff = Isolated_eta_array[ptbin][ztbin][:3].sum()-Isolated_eta_array[ptbin][ztbin][11:].sum()\n",
    "        print(\"%f       %f\"%(Inclusive_Diff,Isolated_Diff))\n",
    "    print(\"\")\n",
    "#print(sig_eta_array)\n",
    "print(Inclusive_eta_array[1][0][:3].sum()-Inclusive_eta_array[1][0][11:].sum())\n"
   ]
  },
  {
   "cell_type": "markdown",
   "metadata": {},
   "source": [
    "## Eta Projections"
   ]
  },
  {
   "cell_type": "code",
   "execution_count": null,
   "metadata": {},
   "outputs": [],
   "source": [
    "for ptbin in range(4):\n",
    "    #if(ptbin > 0): continue\n",
    "    #ptbin = ptbin+2\n",
    "    canvases = ROOT.TCanvas(\"canv_phi\",\"canv_phi\",3500,2500)\n",
    "    canvases.Divide(4,3)\n",
    "    \n",
    "    for ztbin in range(6):\n",
    "    \n",
    "        #grab\n",
    "        hsig = GetEtaProj(pp_File,\"pp\",ptbin,ztbin,\"Inclusive\") #no subtraction, change DNN\n",
    "        hbkg = GetEtaProj(pp_File,\"pp\",ptbin,ztbin,\"Inclusive\")\n",
    " \n",
    "        #same scale\n",
    "        ymax = 1.2*max(hsig.GetMaximum(),hbkg.GetMaximum())\n",
    "        hsig.GetYaxis().SetRangeUser(0,ymax)\n",
    "        hbkg.GetYaxis().SetRangeUser(0,ymax)    \n",
    "    \n",
    "        #Signal\n",
    "        canvases.cd(ztbin*2+1)\n",
    "        hsig.SetMarkerStyle(15)\n",
    "        #hsig.SetMarkerSize(4)\n",
    "        hsig.SetMarkerColor(4)\n",
    "        hsig.Draw()\n",
    "        \n",
    "        #Background\n",
    "        canvases.cd(ztbin*2+2)\n",
    "        hbkg.SetMarkerStyle(15)\n",
    "        #hbkg.SetMarkerSize(4)\n",
    "        hbkg.SetMarkerColor(2)\n",
    "        hbkg.Draw()\n",
    "        #legend.AddEntry(hbkg,\"Low DNN\",\"l\")\n",
    "        #legend.Draw(\"same\")\n",
    "    \n",
    "    canvases.Draw()   \n",
    "    canvases.SaveAs(\"pics/Eta_Same_Mix_Projections_Trigger_pt_%i_Inclusive.png\"%(ptbin))"
   ]
  },
  {
   "cell_type": "markdown",
   "metadata": {},
   "source": [
    "# Numbers of Pairs in zT bins"
   ]
  },
  {
   "cell_type": "code",
   "execution_count": null,
   "metadata": {},
   "outputs": [],
   "source": [
    "Shower = \"NN\"\n",
    "\n",
    "#pPb_File = 'InputData/pPb_SE_NN_Correlation_GMB_Ratio_UnWeight.root'\n",
    "#pp_File = 'InputData/pp_SE_NN_Correlation_GMB_Ratio_UnWeight.root'  \n",
    "\n",
    "\n",
    "pPb_File = 'InputData/17q_0GeVTracks_Mixed_10_Correlation_Lambda_NEW.root'\n",
    "pp_File = 'InputData/17q_0GeVTracks_Mixed_10_Correlation_Lambda_OLD.root'  \n",
    "\n",
    "Files = [pPb_File,pp_File]\n",
    "Systems = [\"pPb\",\"pp\"]\n",
    "purity = [0.276899,0.358741,0.456807,0.476192]\n",
    "\n",
    "NpT = 4\n",
    "pTbins = [12,15,19,26,40]\n",
    "zTbins = [0.05, 0.07670637, 0.11767734, 0.18053204, 0.27695915, 0.42489062, 0.65183634, 1]\n",
    "#####. Total Number of zT bins, max 7  #####\n",
    "NzT = 6\n",
    "#####  Skip First N zT bins  #####\n",
    "zT_offset = 0\n",
    "\n",
    "\n",
    "zT_centers = np.zeros(NzT)\n",
    "zT_widths = np.zeros(NzT)\n",
    "for ztbin in range(zT_offset,NzT+zT_offset):\n",
    "    zT_centers[ztbin-zT_offset] = (zTbins[ztbin]+ zTbins[ztbin+1])/2\n",
    "    zT_widths[ztbin-zT_offset] = (zTbins[ztbin+1]-zTbins[ztbin])\n",
    "    \n",
    "\n",
    "pT_centers = np.zeros(NpT)\n",
    "pT_widths = np.zeros(NpT)\n",
    "for ptbin in range(NpT):\n",
    "    pT_centers[ptbin] = (pTbins[ptbin]+ pTbins[ptbin+1])/2\n",
    "    pT_widths[ptbin] = (pTbins[ptbin]-pTbins[ptbin+1])/1.25\n",
    "print(pT_centers)"
   ]
  },
  {
   "cell_type": "code",
   "execution_count": null,
   "metadata": {},
   "outputs": [],
   "source": [
    "def Get_NTriggers(filename,ipt, Signal_DNN=True): \n",
    "    file = ROOT.TFile(filename)\n",
    "    if (Signal_DNN == \"Inclusive\"):\n",
    "        ntrig_histo = file.Get('N_Triggers_pT%1.0f_%1.0f' %(pTbins[ipt],pTbins[ipt+1]))\n",
    "    else:\n",
    "        DNN_Rgn = int(Signal_DNN) + 2*(1-int(Signal_DNN))\n",
    "        ntrig_histo = file.Get('N_DNN%i_Triggers_pT%1.0f_%1.0f' %(DNN_Rgn,pTbins[ipt],pTbins[ipt+1]))\n",
    "    NTriggers = 1\n",
    "    if not(ntrig_histo == None):\n",
    "        if (Signal_DNN):\n",
    "            NTriggers = ntrig_histo.GetEntries()\n",
    "        else:\n",
    "            if (Use_Weights):\n",
    "                NTriggers = ntrig_histo.GetBinContent(1)\n",
    "            else:\n",
    "                NTriggers = ntrig_histo.GetEntries()\n",
    "    file.Close()\n",
    "    return NTriggers"
   ]
  },
  {
   "cell_type": "code",
   "execution_count": null,
   "metadata": {},
   "outputs": [],
   "source": [
    "def GetCorrelation_Npairs(filename,pt_min,pt_max, izt, Signal_DNN=True):\n",
    "    \n",
    "    file = ROOT.TFile(filename)\n",
    "    \n",
    "    if (Signal_DNN == \"Inclusive\"):\n",
    "        histo2D = file.Get('Correlation__pT%1.0f_%1.0f__zT%1.0f_zT%1.0f'\n",
    "                        %(pt_min[ipt],pt_max,100*zTbins[izt],100*zTbins[izt+1]))\n",
    "    \n",
    "    else:\n",
    "        DNN_Rgn = int(Signal_DNN) + 2*(1-int(Signal_DNN)) #convert bool to DNN_1 (Sgn) or DNN_2 (Bkgd)\n",
    "        \n",
    "        histo2D = file.Get('DNN%i_Correlation__pT%1.0f_%1.0f__zT%1.0f_zT%1.0f' \n",
    "                            %(DNN_Rgn,pt_min,pt_max,100*zTbins[izt],100*zTbins[izt+1]))\n",
    "        \n",
    "    N_Pairs = histo2D.GetEntries()\n",
    "    return N_Pairs"
   ]
  },
  {
   "cell_type": "code",
   "execution_count": null,
   "metadata": {},
   "outputs": [],
   "source": [
    "#### N_Trig_Array_pPb = np.zeros(NpT)\n",
    "N_Trig_Array_pp = np.zeros(NpT)\n",
    "\n",
    "N_Trig_Array_Purity_pPb = np.zeros(NpT)\n",
    "N_Trig_Array_Purity_pp = np.zeros(NpT)\n",
    "\n",
    "N_Pairs_Array_pPb = np.zeros((NpT,NzT))\n",
    "N_Pairs_Array_pp = np.zeros((NpT,NzT))\n",
    "\n",
    "N_Pairs_Purity_pPb = np.zeros((NpT,NzT))\n",
    "N_Pairs_Purity_pp = np.zeros((NpT,NzT))\n",
    "\n",
    "\n",
    "for file,SYS in zip(Files,Systems):\n",
    "    \n",
    "    for ipt in range (NpT):\n",
    "        \n",
    "        vars()[\"N_Trig_Array_%s\"%(SYS)][ipt] = Get_NTriggers(file, ipt, True)\n",
    "        vars()[\"N_Trig_Array_Purity_%s\"%(SYS)][ipt] = vars()[\"N_Trig_Array_%s\"%(SYS)][ipt]*purity[ipt]\n",
    "        \n",
    "        for izt in range (NzT):\n",
    "            vars()[\"N_Pairs_Array_%s\"%(SYS)][ipt][izt] = GetCorrelation_Npairs(file,pTbins[ipt],pTbins[ipt+1], izt, True)\n",
    "            vars()[\"N_Pairs_Purity_%s\"%(SYS)][ipt][izt] = (vars()[\"N_Pairs_Array_%s\"%(SYS)][ipt][izt]*purity[ipt])/vars()[\"N_Trig_Array_%s\"%(SYS)][ipt]\n",
    "        \n",
    "print(N_Trig_Array_Purity_pp)\n",
    "print(N_Trig_Array_pp)"
   ]
  },
  {
   "cell_type": "code",
   "execution_count": null,
   "metadata": {},
   "outputs": [],
   "source": [
    "for SYS in Systems:\n",
    "    if (SYS==\"pPb\"):\n",
    "        sys_color=\"blue\"\n",
    "    else:\n",
    "        sys_color=\"red\"\n",
    "    for ipt in range (NpT):\n",
    "        plt.figure(figsize=(10,7)) \n",
    "        empt, = plt.plot([], [],' ')\n",
    "        bar_zT_pPb = plt.bar(zT_centers,N_Pairs_Purity_pPb[ipt],zT_widths,color=sys_color,alpha=0.5)\n",
    "        bar_zT_pp = plt.bar(zT_centers,N_Pairs_Purity_pp[ipt],zT_widths,color=sys_color)\n",
    "        plt.legend([bar_zT_pPb,bar_zT_pp,empt],[\"pPb No. Pairs\",\"pp No. Pairs\",r'%1.0f < $p_\\mathrm{T}^{\\mathrm{trig}}$ < %1.0f GeV/$c$'%(pTbins[ipt],pTbins[ipt+1])])\n",
    "        plt.title(\"No of Pairs in zT bins in (Purity Scaled)\")"
   ]
  },
  {
   "cell_type": "code",
   "execution_count": null,
   "metadata": {},
   "outputs": [],
   "source": [
    "for SYS in Systems:\n",
    "    if (SYS==\"pPb\"):\n",
    "        sys_color=\"blue\"\n",
    "    else:\n",
    "        sys_color=\"red\"\n",
    "    for ipt in range (NpT):\n",
    "        plt.figure(figsize=(10,7)) \n",
    "        empt, = plt.plot([], [],' ')\n",
    "        bar_pT = plt.bar(pTbins[:NpT],vars()[\"N_Trig_Array_Purity_%s\"%(SYS)],-pT_widths,align='edge',color=sys_color)\n",
    "        plt.legend([bar_pT,empt],[\"No. Triggers (P)\",r'%1.0f < $p_\\mathrm{T}^{\\mathrm{trig}}$ < %1.0f GeV/$c$'%(pTbins[ipt],pTbins[ipt+1])])\n",
    "        plt.title(\"No of Triggers in pT bins (Purity Scaled) in %s\"%(SYS))"
   ]
  },
  {
   "cell_type": "code",
   "execution_count": null,
   "metadata": {},
   "outputs": [],
   "source": []
  },
  {
   "cell_type": "code",
   "execution_count": null,
   "metadata": {},
   "outputs": [],
   "source": []
  },
  {
   "cell_type": "code",
   "execution_count": null,
   "metadata": {},
   "outputs": [],
   "source": [
    "low_pp = []\n",
    "high_pp = []\n",
    "low_pPb = []\n",
    "high_pPb = []\n",
    "ztstring = []\n",
    "for izt in range (zT_offset,NzT+zT_offset):\n",
    "    ztb = izt-zT_offset\n",
    "    ztstring.append(\"%1.2f-%1.2f\"%(zTbins[izt],zTbins[izt+1]))\n",
    "    low_pp.append(GetCorrelation_Npairs('InputData/17q_SE_NN_Correlation.root',12,15,izt,True))\n",
    "    high_pp.append(GetCorrelation_Npairs('InputData/17q_SE_NN_Correlation_HighpT.root',15,20,izt,True))\n",
    "    low_pPb.append(GetCorrelation_Npairs('InputData/13def_SE_NN_Correlation.root',12,15,izt,True))\n",
    "    high_pPb.append(GetCorrelation_Npairs('InputData/13def_SE_NN_Correlation_HighpT.root',15,20,izt,True))\n",
    "\n",
    "print(ztstring)\n",
    "print(low_pp)\n",
    "print(high_pp)\n",
    "print(low_pPb)\n",
    "print(high_pPb)"
   ]
  },
  {
   "cell_type": "markdown",
   "metadata": {},
   "source": [
    "# Look at simple $\\Delta \\phi$ Projections"
   ]
  },
  {
   "cell_type": "code",
   "execution_count": null,
   "metadata": {},
   "outputs": [],
   "source": [
    "pp_File= \"../InputData/zT_Rebin_9_003zT06zT/pp_SE_L0_Correlation_GMB_Ratio.root\"\n",
    "pPb_File= \"../InputData/zT_Rebin_9_003zT06zT/pPb_SE_L0_Correlation_GMB_Ratio.root\""
   ]
  },
  {
   "cell_type": "code",
   "execution_count": null,
   "metadata": {},
   "outputs": [],
   "source": [
    "#####Obtains the phi projection within the eta region (|eta|<0.6)#####\n",
    "def GetPhiProj(filename,prfx,ipt, izt, Signal_DNN=True):\n",
    "    \n",
    "    file = ROOT.TFile(filename)\n",
    "\n",
    "    eta_max = 1.2 #Assuming symmetric eta range\n",
    "    \n",
    "    if (Signal_DNN == \"Inclusive\"):\n",
    "        histo2D = file.Get('Correlation__pT%1.0f_%1.0f__zT%1.0f_zT%1.0f' \n",
    "                        %(pTbins[ipt],pTbins[ipt+1],100*zTbins[izt],100*zTbins[izt+1]))\n",
    "        \n",
    "        Eta_Axis = histo2D.GetYaxis()\n",
    "        PhiProjection = histo2D.ProjectionX('Inclusive_PhiProjection__pT_%1.0f_%1.0f__zt_%1.0f_%1.0f' \n",
    "                                      %(pTbins[ipt],pTbins[ipt+1],100*zTbins[izt],\n",
    "                                        100*zTbins[izt+1]),Eta_Axis.FindBin(-eta_max),Eta_Axis.FindBin(eta_max))\n",
    "    \n",
    "    else:\n",
    "        DNN_Rgn = int(Signal_DNN) + 2*(1-int(Signal_DNN)) #convert bool to DNN_1 (Sgn) or DNN_2 (Bkgd)\n",
    "        histo2D = file.Get('DNN%i_Correlation__pT%1.0f_%1.0f__zT%1.0f_zT%1.0f' \n",
    "                            %(DNN_Rgn,pTbins[ipt],pTbins[ipt+1],100*zTbins[izt],100*zTbins[izt+1]))\n",
    "        \n",
    "        Eta_Axis = histo2D.GetYaxis()\n",
    "        PhiProjection = histo2D.ProjectionX('DNN%i_PhiProjection__pT_%1.0f_%1.0f__zt_%1.0f_%1.0f' \n",
    "                                      %(DNN_Rgn,pTbins[ipt],pTbins[ipt+1],100*zTbins[izt],\n",
    "                                        100*zTbins[izt+1]),Eta_Axis.FindBin(-eta_max),Eta_Axis.FindBin(eta_max))\n",
    "                                            \n",
    "    PhiProjection.SetDirectory(0)\n",
    "    PhiProjection.Rebin(2)\n",
    "    PhiProjection.Scale(1.0/(2*eta_max))\n",
    "    \n",
    "    #per trigger yield\n",
    "#     ntriggers = Get_NTriggers(filename,ipt, Signal_DNN)\n",
    "#     if not(ntriggers == None):\n",
    "#         PhiProjection.Scale(1.0/ntriggers)\n",
    "    \n",
    "    file.Close()\n",
    "    \n",
    "    Phi_Array = np.zeros(len(delta_phi_centers))\n",
    "    Phi_Error_Array = np.zeros(len(delta_phi_centers))\n",
    "    for bin in range(2,9):\n",
    "        Phi_Array[bin-2] = PhiProjection.GetBinContent(bin)\n",
    "        Phi_Error_Array[bin-2] = PhiProjection.GetBinError(bin)\n",
    "    \n",
    "    return Phi_Array, Phi_Error_Array"
   ]
  },
  {
   "cell_type": "code",
   "execution_count": null,
   "metadata": {},
   "outputs": [],
   "source": [
    "Systems = [\"pp\",\"p-Pb\"]\n",
    "Files = [pp_File,pPb_File]\n",
    "\n",
    "for sys,ifile in zip(Systems,Files):\n",
    "    fig = plt.figure(figsize=(34,17))\n",
    "    for ipt in range (3):\n",
    "        if (ipt > 0): continue\n",
    "        ipt = ipt+2\n",
    "        for izt in range (zT_offset,NzT+zT_offset):\n",
    "            \n",
    "            ztb = izt-zT_offset\n",
    "\n",
    "            Sig_Phi_Array, Sig_Phi_Error_Array = GetPhiProj(ifile,sys,ipt,izt,True)\n",
    "            Bkg_Phi_Array, Bkg_Phi_Error_Array = GetPhiProj(ifile,sys,ipt,izt,False)\n",
    "                                            \n",
    "                                        #--------------plot--------------------#\n",
    "           \n",
    "            if (NzT ==4):\n",
    "                ax = fig.add_subplot(2,4,(2*ztb+1))\n",
    "            elif (NzT ==6):\n",
    "                ax = fig.add_subplot(3,4,(2*ztb+1))\n",
    "                \n",
    "            fsize = 20\n",
    "\n",
    "            #sig\n",
    "            ax.plot(delta_phi_centers,Sig_Phi_Array,'bo',ms=10)\n",
    "            s_plot = ax.errorbar(delta_phi_centers,Sig_Phi_Array,xerr=phi_width,yerr=Sig_Phi_Error_Array,\n",
    "                                 fmt=None,ecolor='b',label='Signal Region (stat. error)')\n",
    "\n",
    "            plt.xlabel(r'|$\\Delta \\varphi$|',fontsize=fsize+4)\n",
    "            plt.xticks(fontsize=(fsize))\n",
    "            plt.xlim((0.39269908169872414,3.14159))\n",
    "            plt.ylabel(r'$1/N_{\\mathrm{trig}} \\: \\: \\mathrm{d}N/\\mathrm{d}\\Delta\\eta$',fontsize=fsize+2)\n",
    "            plt.ylim((0,1.2*max(Sig_Phi_Array)))\n",
    "            empt, = ax.plot([], [], ' ')\n",
    "            empt2, = ax.plot([],[],' ')\n",
    "            plt.yticks(fontsize=fsize-5)\n",
    "\n",
    "            fill_x = [0,3.14159]\n",
    "#             s_z_line = ax.fill_between(fill_x, Sig_Z_Value-Sig_Z_Error,Sig_Z_Value+Sig_Z_Error,interpolate=False,edgecolor='cyan',linewidth=0.0, alpha=0.3,facecolor='cyan')\n",
    "#             s_le_line = ax.fill_between(fill_x, S_LE-S_LE_Error,S_LE+S_LE_Error,interpolate=False,edgecolor='grey',linewidth=0.0, alpha=0.5,facecolor='grey')\n",
    "\n",
    "            leg = ax.legend([s_plot,empt,empt2],['Signal Region (stat. error)','0.8 <|$\\Delta\\eta$| < 1.4',\n",
    "                'UE Estimate',r'%1.2f < $z_\\mathrm{T}$ < %1.2f'%(zTbins[izt],zTbins[izt+1]),\n",
    "                r'15 < $p_\\mathrm{T}^{\\mathrm{trig}}$ < 20 GeV/$c$'],loc='best',\n",
    "                title = \"Alice Preliminary 5 TeV %s\"%(sys),fontsize=14,frameon=False,numpoints=1)\n",
    "            plt.setp(leg.get_title(),fontsize=20)\n",
    "#             if (sys == 'pp'):\n",
    "#                 leg.set_title(\"ALICE Preliminary, $\\sqrt{s}=$5 TeV %s\"%(sys))\n",
    "#             else:\n",
    "#                 leg.set_title(\"ALICE Preliminary, $\\sqrt{s_{\\mathrm{_{NN}}}}=$5 TeV %s\"%(sys))                \n",
    "#             plt.setp(leg.get_title(),fontsize=14)\n",
    "\n",
    "\n",
    "            #bkg\n",
    "            if (NzT ==4):\n",
    "                ax = fig.add_subplot(2,4,(2*ztb+2))\n",
    "            elif (NzT ==6):\n",
    "                ax = fig.add_subplot(3,4,(2*ztb+2))\n",
    "                \n",
    "            #ax = fig.add_subplot(1,2,1)\n",
    "            plt.xlabel(r'|$\\Delta \\varphi$|',fontsize=fsize+4)\n",
    "            plt.xticks(fontsize=(fsize))\n",
    "            plt.xlim((0.39269908169872414,3.14159))\n",
    "            plt.ylabel(r'$1/N_{\\mathrm{trig}} \\: \\: \\mathrm{d}N/\\mathrm{d}\\Delta\\eta$',fontsize=fsize+2)\n",
    "            plt.ylim((0,1.2*max(Bkg_Phi_Array)))\n",
    "            plt.yticks(fontsize=fsize-5)\n",
    "\n",
    "            fill_x = [0,3.14149]\n",
    "#             b_z_line = plt.fill_between(fill_x, Bkg_Z_Value-Bkg_Z_Error,Bkg_Z_Value+Bkg_Z_Error,interpolate=False,edgecolor='cyan',linewidth=0.0, alpha=0.3,facecolor='cyan')\n",
    "#             b_le_line = plt.fill_between(fill_x, Bkg_LE-Bkg_LE_Error,Bkg_LE+Bkg_LE_Error,interpolate=False,edgecolor='grey',linewidth=0.0, alpha=0.5,facecolor='grey')\n",
    "\n",
    "            ax.plot(delta_phi_centers,Bkg_Phi_Array,'ro',ms=10)\n",
    "            b_plot = ax.errorbar(delta_phi_centers,Bkg_Phi_Array,xerr=phi_width,yerr=Bkg_Phi_Error_Array,fmt=None,ecolor='r')\n",
    "\n",
    "            leg = ax.legend([b_plot,empt,empt2],['Bkg Region (stat. error)',r'%1.2f < $z_\\mathrm{T}$ < %1.2f'%(zTbins[izt],\n",
    "                zTbins[izt+1]),r'15 < $p_\\mathrm{T}^{\\mathrm{trig}}$ < 20 GeV/$c$'],loc='best',\n",
    "                title = \"Alice Preliminary 5 TeV %s\"%(sys),fontsize=14,frameon=False,numpoints=1)\n",
    "            plt.setp(leg.get_title(),fontsize=20)\n",
    "\n",
    "     \n",
    "    print(\"\")\n",
    "    #return\n",
    "\n"
   ]
  },
  {
   "cell_type": "code",
   "execution_count": null,
   "metadata": {},
   "outputs": [],
   "source": [
    "print(pTbins[2])"
   ]
  },
  {
   "cell_type": "code",
   "execution_count": null,
   "metadata": {},
   "outputs": [],
   "source": [
    "#Shower_Shape = \"NN\"\n",
    "Shower_Shape = \"L0\"\n",
    "\n",
    "if (Shower_Shape==\"NN\"):\n",
    "    File = 'InputData/17q_SE_NN_Correlation.root'\n",
    "elif (Shower_Shape==\"L0\"):\n",
    "    File = 'InputData/13d_SE_L0_Correlation.root'\n",
    "file = ROOT.TFile(File)\n",
    "\n",
    "SIG = file.Get(\"hweight\")\n",
    "print(SIG)\n",
    "print(SIG.GetEntries())\n",
    "Signal = root_numpy.hist2array(SIG)\n",
    "S_Error = np.zeros(40)\n",
    "for i in range(1,41):\n",
    "    S_Error[i-1] = SIG.GetBinError(i)\n",
    "    \n",
    "\n",
    "pT_Axis = np.linspace(10,50,40)\n",
    "fig = plt.figure(figsize=(10,7))\n",
    "\n",
    "if (Shower_Shape==\"NN\"):\n",
    "    plt.errorbar(pT_Axis,Signal,yerr = S_Error,label=\"Signal Clusters ($0.5 < NN < 0.85)\")\n",
    "    \n",
    "elif (Shower_Shape==\"L0\"):\n",
    "    plt.errorbar(pT_Axis,Signal,yerr = S_Error,label=\"Cluster pT weights\")\n",
    "    plt.title(r\"Isolated Cluster $p_{\\mathrm{T}}$ Weights\")\n",
    "\n",
    "    \n",
    "plt.xlabel(r'Cluster $p_{\\mathrm{T}}$')\n",
    "plt.ylabel(r'Cluster $p_{\\mathrm{T}}$ Weight')\n",
    "plt.xlim(12,40)\n",
    "#plt.ylim(0,1.2)\n",
    "plt.legend()\n",
    "fig.savefig('pics/Weights.pdf', bbox_inches='tight')\n",
    "\n",
    "\n"
   ]
  },
  {
   "cell_type": "markdown",
   "metadata": {},
   "source": [
    "### Compare ME Inclusive and Signal Correlations"
   ]
  },
  {
   "cell_type": "code",
   "execution_count": null,
   "metadata": {},
   "outputs": [],
   "source": []
  },
  {
   "cell_type": "code",
   "execution_count": null,
   "metadata": {},
   "outputs": [],
   "source": [
    "File_NN = 'InputData/17q_MB_0GeV_Skim_Correlation.root'\n",
    "#File_NN = 'InputData/13f_SE_NN_Correlation_GMB_Ratio.root'\n",
    "File_L0 = 'InputData/17q_MB_0GeV_Skim_Correlation_L0.root'\n",
    "\n",
    "file_NN = ROOT.TFile(File_NN)\n",
    "file_L0 = ROOT.TFile(File_L0)\n",
    "\n",
    "\n",
    "SIG_2D_NN = file_NN.Get(\"DNN1_Correlation__pT12_15__zT12_zT18\")\n",
    "SIG_2D_L0 = file_L0.Get(\"DNN1_Correlation__pT12_15__zT12_zT18\")\n",
    "\n",
    "BKG_2D_NN = file_NN.Get(\"DNN2_Correlation__pT12_15__zT12_zT18\")\n",
    "BKG_2D_L0 = file_L0.Get(\"DNN2_Correlation__pT12_15__zT12_zT18\")\n",
    "\n",
    "c = ROOT.TCanvas(\"myCanvasName\",\"The Canvas Title\",800,600)\n",
    "BKG_2D_NN.Draw(\"SURF2\")\n",
    "c.Draw()\n",
    "\n",
    "INC_2D_NN = file_NN.Get(\"Correlation__pT12_15__zT12_zT18\")\n",
    "INC_2D_L0 = file_L0.Get(\"Correlation__pT12_15__zT12_zT18\")\n",
    "\n",
    "SIG_NN = SIG_2D_NN.ProjectionX(\"Sig_Phi\",0,-1)\n",
    "SIG_L0 = SIG_2D_L0.ProjectionX(\"Sig_Phi\",0,-1)\n",
    "\n",
    "BKG_NN = BKG_2D_NN.ProjectionX(\"Bkg_Phi\",0,-1)\n",
    "BKG_L0 = BKG_2D_L0.ProjectionX(\"Bkg_Phi\",0,-1)\n",
    "\n",
    "INC_NN = INC_2D_NN.ProjectionX(\"Inc_Phi\",0,-1)\n",
    "INC_L0 = INC_2D_L0.ProjectionX(\"Inc_Phi\",0,-1)\n",
    "\n",
    "SIG_L0.Divide(INC_NN)\n",
    "BKG_NN.Divide(BKG_L0)\n",
    "\n",
    "Signal = root_numpy.hist2array(SIG_L0)\n",
    "print(Signal)\n",
    "Background = root_numpy.hist2array(BKG_NN)\n",
    "\n",
    "N_Bins = SIG_NN.GetSize() - 2 #Ignero under/overflow\n",
    "print(N_Bins)\n",
    "S_Error = np.zeros(N_Bins)\n",
    "B_Error = np.zeros(N_Bins)\n",
    "for i in range(1,N_Bins+1):\n",
    "    S_Error[i-1] = SIG_NN.GetBinError(i)\n",
    "    B_Error[i-1] = BKG_NN.GetBinError(i)\n",
    "\n",
    "Corr_Axis = np.linspace(0,3.14159,N_Bins)    \n",
    "\n",
    "#plt.errorbar(Corr_Axis,Signal,yerr = S_Error,label=\"Signal Clusters ($0.5 < NN < 0.85)\")\n",
    "#plt.title(r\"Isolated Cluster $p_{\\mathrm{T}}$ Distribution  $DNN$\")\n",
    "\n",
    "plt.errorbar(Corr_Axis,Signal,yerr = S_Error,label=\"Signal Clusters ($0.5 < NN < 0.85)\")\n",
    "plt.title(r\"Isolated Cluster $p_{\\mathrm{T}}$ Distribution  $DNN$\")\n",
    "#plt.ylim(0.99,1.01)\n",
    "plt.ylim(0.2,0.4)\n",
    "    \n",
    "print(\"hi\")"
   ]
  },
  {
   "cell_type": "code",
   "execution_count": null,
   "metadata": {},
   "outputs": [],
   "source": [
    "def Get_NTriggers(filename,ipt, Signal_DNN=True): \n",
    "    file = ROOT.TFile(filename)\n",
    "    if (Signal_DNN == \"Inclusive\"):\n",
    "        ntrig_histo = file.Get('N_Triggers_pT%1.0f_%1.0f' %(pTbins[ipt],pTbins[ipt+1]))\n",
    "    else:\n",
    "        DNN_Rgn = int(Signal_DNN) + 2*(1-int(Signal_DNN))\n",
    "        ntrig_histo = file.Get('N_DNN%i_Triggers_pT%1.0f_%1.0f' %(DNN_Rgn,pTbins[ipt],pTbins[ipt+1]))\n",
    "    NTriggers = 1\n",
    "    if not(ntrig_histo == None):\n",
    "        if (Signal_DNN):\n",
    "            NTriggers = ntrig_histo.GetEntries()\n",
    "        else:\n",
    "            if (Use_Weights):\n",
    "                NTriggers = ntrig_histo.GetBinContent(1)\n",
    "            else:\n",
    "                NTriggers = ntrig_histo.GetEntries()\n",
    "    file.Close()\n",
    "    return NTriggers"
   ]
  },
  {
   "cell_type": "code",
   "execution_count": null,
   "metadata": {},
   "outputs": [],
   "source": [
    "if (Shower_Shape==\"NN\"):\n",
    "    File = 'InputData/13f_MB_0GeV_Skim_Correlation_NN.root'\n",
    "elif (Shower_Shape==\"L0\"):\n",
    "    File = 'InputData/17q_MB_0GeV_Skim_Correlation.root'\n",
    "file = ROOT.TFile(File)\n",
    "\n",
    "pT_Bins = [12,15,19,26,40]\n",
    "N_pT_Bins = len(pT_Bins)\n",
    "pT_Centres =  np.zeros[N_pT_Bins]\n",
    "N_Sig_Triggers = np.zeros(N_pT_Bins)\n",
    "N_Bkg_Trigs = np.zeros(N_pT_Bins)\n",
    "N_Pairs = np.zeros((N_pT_Bins,NzT))\n",
    "\n",
    "for ipt in range (N_pT_Bins):\n",
    "    pT_Centers[ipt] = (pT_Bins[ipt] + pT_Bins[ipt+1])/2\n",
    "    N_Sig_Trigs[ipt] = Get_NTriggers(File,ipt,True)\n",
    "    N_Bkg_Trigs[ipt] = Get_NTriggers(File,ipt,True)\n",
    "    \n",
    "plt.plot(pT_Centers, N_Sig_Trigs)"
   ]
  },
  {
   "cell_type": "code",
   "execution_count": null,
   "metadata": {},
   "outputs": [],
   "source": []
  }
 ],
 "metadata": {
  "kernelspec": {
   "display_name": "Python 2",
   "language": "python",
   "name": "python2"
  },
  "language_info": {
   "codemirror_mode": {
    "name": "ipython",
    "version": 2
   },
   "file_extension": ".py",
   "mimetype": "text/x-python",
   "name": "python",
   "nbconvert_exporter": "python",
   "pygments_lexer": "ipython2",
   "version": "2.7.16"
  }
 },
 "nbformat": 4,
 "nbformat_minor": 4
}
