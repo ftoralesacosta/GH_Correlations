{
 "cells": [
  {
   "cell_type": "code",
   "execution_count": 20,
   "metadata": {},
   "outputs": [
    {
     "name": "stdout",
     "output_type": "stream",
     "text": [
<<<<<<< HEAD
      "../InputData/zT_Rebin_8_006zT06zTDist1/pp_SE_L0_Correlation_GMB_Ratio.root\n",
      "pp File: ../InputData/zT_Rebin_8_006zT06zTDist1/pp_SE_L0_Correlation_GMB_Ratio.root\n",
      "p-Pb File: ../InputData/zT_Rebin_8_006zT06zTDist1/pPb_SE_L0_Correlation_GMB_Ratio.root\n"
=======
      "Welcome to JupyROOT 6.14/04\n",
      "../InputData/zT_Rebin_8_006zT06zT/pp_SE_L0_Correlation_GMB_Ratio.root\n",
      "pp File: ../InputData/zT_Rebin_8_006zT06zT/pp_SE_L0_Correlation_GMB_Ratio.root\n",
      "p-Pb File: ../InputData/zT_Rebin_8_006zT06zT/pPb_SE_L0_Correlation_GMB_Ratio.root\n",
      "../InputData/zT_Rebin_8_006zT06zT/pp_SE_L0_Correlation_GMB_Ratio.root\n",
      "pp File: ../InputData/zT_Rebin_8_006zT06zT/pp_SE_L0_Correlation_GMB_Ratio.root\n",
      "p-Pb File: ../InputData/zT_Rebin_8_006zT06zT/pPb_SE_L0_Correlation_GMB_Ratio.root\n"
>>>>>>> 5437d17d4038f9e6ccce87e6f8f7e654343be26b
     ]
    },
    {
     "data": {
      "text/plain": [
       "<module 'functions_root_nparray' from 'functions_root_nparray.pyc'>"
      ]
     },
     "execution_count": 20,
     "metadata": {},
     "output_type": "execute_result"
    }
   ],
   "source": [
    "from array import array\n",
    "import itertools\n",
    "import time\n",
    "import math\n",
    "\n",
    "import sys\n",
    "#####For NERSC:####\n",
    "#sys.path.insert(0,'/usr/common/software/rootpy/')\n",
    "#import root_numpy\n",
    "import numpy as np\n",
    "\n",
    "import matplotlib\n",
    "import matplotlib.pyplot as plt\n",
    "\n",
    "#import astroML.plotting as aml\n",
    "#import iminuit\n",
    "import pandas as pd\n",
    "#import root_pandas as rpd\n",
    "#from root_pandas import read_root\n",
    "import ROOT\n",
    "from ROOT import TH1D\n",
    "from ROOT import SetOwnership\n",
    "from matplotlib.ticker import NullFormatter\n",
    "from ROOT import TLatex\n",
    "\n",
    "from matplotlib import pyplot as plt\n",
    "%matplotlib inline    \n",
    "\n",
    "from default_values import *\n",
    "import default_values\n",
    "reload(default_values)\n",
    "\n",
    "#from Statistics import *\n",
    "#import Statistics\n",
    "#reload(Statistics)\n",
    "\n",
    "from functions_root_nparray import *\n",
    "import functions_root_nparray\n",
    "reload(functions_root_nparray)"
   ]
  },
  {
   "cell_type": "code",
<<<<<<< HEAD
   "execution_count": 4,
=======
   "execution_count": 3,
>>>>>>> 5437d17d4038f9e6ccce87e6f8f7e654343be26b
   "metadata": {},
   "outputs": [
    {
     "ename": "AttributeError",
     "evalue": "'module' object has no attribute 'geomspace'",
     "output_type": "error",
     "traceback": [
      "\u001b[1;31m\u001b[0m",
      "\u001b[1;31mAttributeError\u001b[0mTraceback (most recent call last)",
      "\u001b[1;32m<ipython-input-4-920c031bf6ad>\u001b[0m in \u001b[0;36m<module>\u001b[1;34m()\u001b[0m\n\u001b[0;32m      1\u001b[0m \u001b[0mN_Bins\u001b[0m \u001b[1;33m=\u001b[0m \u001b[1;36m6\u001b[0m\u001b[1;33m\u001b[0m\u001b[0m\n\u001b[1;32m----> 2\u001b[1;33m \u001b[0mbins\u001b[0m \u001b[1;33m=\u001b[0m \u001b[0mnp\u001b[0m\u001b[1;33m.\u001b[0m\u001b[0mgeomspace\u001b[0m\u001b[1;33m(\u001b[0m\u001b[1;36m0.06\u001b[0m\u001b[1;33m,\u001b[0m \u001b[1;36m0.6\u001b[0m\u001b[1;33m,\u001b[0m \u001b[0mnum\u001b[0m\u001b[1;33m=\u001b[0m\u001b[0mN_Bins\u001b[0m\u001b[1;33m+\u001b[0m\u001b[1;36m1\u001b[0m\u001b[1;33m)\u001b[0m\u001b[1;33m\u001b[0m\u001b[0m\n\u001b[0m\u001b[0;32m      3\u001b[0m \u001b[1;32mfor\u001b[0m \u001b[0mibin\u001b[0m \u001b[1;32min\u001b[0m \u001b[0mbins\u001b[0m\u001b[1;33m:\u001b[0m\u001b[1;33m\u001b[0m\u001b[0m\n\u001b[0;32m      4\u001b[0m     \u001b[1;32mif\u001b[0m \u001b[0mibin\u001b[0m \u001b[1;33m==\u001b[0m \u001b[0mbins\u001b[0m\u001b[1;33m[\u001b[0m\u001b[1;36m0\u001b[0m\u001b[1;33m]\u001b[0m\u001b[1;33m:\u001b[0m\u001b[1;33m\u001b[0m\u001b[0m\n\u001b[0;32m      5\u001b[0m         \u001b[1;32mprint\u001b[0m\u001b[1;34m\"[%1.3f,\"\u001b[0m\u001b[1;33m%\u001b[0m\u001b[1;33m(\u001b[0m\u001b[0mibin\u001b[0m\u001b[1;33m)\u001b[0m\u001b[1;33m,\u001b[0m\u001b[1;33m\u001b[0m\u001b[0m\n",
      "\u001b[1;31mAttributeError\u001b[0m: 'module' object has no attribute 'geomspace'"
     ]
    }
   ],
   "source": [
    "N_Bins = 6\n",
    "bins = np.geomspace(0.06, 0.6, num=N_Bins+1)\n",
    "for ibin in bins:\n",
    "    if ibin == bins[0]:\n",
    "        print\"[%1.3f,\"%(ibin),\n",
    "        \n",
    "    elif ibin == bins[N_Bins]:\n",
    "        print\"%1.3f]\"%(ibin),\n",
    "        \n",
    "    else:\n",
    "        print \"%1.3f,\"%(ibin),\n",
    "print(\"\")"
   ]
  },
  {
   "cell_type": "markdown",
   "metadata": {},
   "source": [
    "## p--Pb Error Function Fit"
   ]
  },
  {
   "cell_type": "code",
<<<<<<< HEAD
   "execution_count": 5,
=======
   "execution_count": 4,
>>>>>>> 5437d17d4038f9e6ccce87e6f8f7e654343be26b
   "metadata": {},
   "outputs": [
    {
     "name": "stdout",
     "output_type": "stream",
     "text": [
<<<<<<< HEAD
      "\n",
      "****************************************\n",
      "Minimizer is Minuit / Migrad\n",
      "Chi2                      =     0.859434\n",
      "NDf                       =            5\n",
      "Edm                       =  1.70741e-07\n",
      "NCalls                    =           39\n",
      "p0                        =     0.535827   +/-   0.0386182   \n",
      "p1                        =      9.46306   +/-   2.13494     \n",
      "p2                        =      11.3188   +/-   4.2357      \n",
      "\n",
=======
      "<ROOT.TFitResultPtr object at 0x7fe04af890e0>\n",
>>>>>>> 5437d17d4038f9e6ccce87e6f8f7e654343be26b
      "0.535827209253\n",
      "0.0386182398675\n",
      "9.46305649534\n",
      "11.3188096455\n",
      "\n",
      "0.133280 0.169190 0.203815 0.236933 0.268355 0.297931 0.325545 0.351121 0.374621 0.396038 0.415403 0.432770 0.448222 0.461860 0.473799 0.484169 0.493103 0.500738 0.507211 0.512655 0.517197 0.520956 0.524041 0.526554 0.528584 0.530211 0.531505 0.532525 0.533323 0.533942 0.534418 0.534782 0.535058 0.535265 0.535420 0.535534 0.535618 0.535679 0.535723 0.535754 \n",
      "\n",
      "\n",
      " FCN=0.859434 FROM MIGRAD    STATUS=CONVERGED     215 CALLS         216 TOTAL\n",
      "                     EDM=2.20419e-07    STRATEGY= 1      ERROR MATRIX ACCURATE \n",
      "  EXT PARAMETER                                   STEP         FIRST   \n",
      "  NO.   NAME      VALUE            ERROR          SIZE      DERIVATIVE \n",
      "   1  p0           5.35829e-01   3.86179e-02   1.76040e-05   9.74606e-03\n",
      "   2  p1           9.46300e+00   2.13492e+00   4.99057e-04  -4.76701e-04\n",
      "   3  p2           1.13188e+01   4.23558e+00   8.63297e-04  -1.35678e-04\n",
      " FCN=0.859434 FROM MIGRAD    STATUS=CONVERGED      38 CALLS          39 TOTAL\n",
      "                     EDM=1.70741e-07    STRATEGY= 1      ERROR MATRIX ACCURATE \n",
      "  EXT PARAMETER                                   STEP         FIRST   \n",
      "  NO.   NAME      VALUE            ERROR          SIZE      DERIVATIVE \n",
      "   1  p0           5.35827e-01   3.86182e-02   1.76032e-05   1.33368e-05\n",
      "   2  p1           9.46306e+00   2.13494e+00   4.99018e-04  -8.36456e-05\n",
      "   3  p2           1.13188e+01   4.23570e+00   8.63073e-04   9.85837e-05\n"
     ]
    },
    {
     "data": {
      "image/png": "iVBORw0KGgoAAAANSUhEUgAAArgAAAHYCAIAAAApvgy/AAAABmJLR0QAAAAAAAD5Q7t/AAAgAElE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\nAAAAgggKAAAg6P8DxMxDQi9KrXgAAAAASUVORK5CYII=\n",
      "text/plain": [
       "<IPython.core.display.Image object>"
      ]
     },
     "metadata": {},
     "output_type": "display_data"
    }
   ],
   "source": [
    "from ROOT import TF1\n",
    "from ROOT import TMath\n",
    "\n",
    "pGeV_Edges = np.asarray([12,14,16,18,20,25,30,40,50])\n",
    "pGeV_Centers = (pGeV_Edges[1:] + pGeV_Edges[:-1]) / 2\n",
    "pGeV_Widths = [(j-i)/2 for i, j in zip(pGeV_Edges[:-1], pGeV_Edges[1:])]\n",
    "#print(pGeV_Widths)\n",
    "\n",
    "Purity = [0.21,0.24,0.349,0.393,0.498,0.527,0.527,0.527] #8\n",
    "Purity_errors = [0.031,0.046,0.045,0.056,0.044,0.062,0.062,0.062,0.062]\n",
    "\n",
    "#Fill a TGraph with Purity Information\n",
    "Purity_Graph = ROOT.TGraphErrors()\n",
    "for izt in range (len(Purity)):\n",
    "\n",
    "    Purity_Graph.SetPoint(izt,pGeV_Centers[izt],Purity[izt])\n",
    "    Purity_Graph.SetPointError(izt,pGeV_Widths[izt],Purity_errors[izt])\n",
    "    \n",
    "    #Purity_Graph.SetPointError(izt,0,Purity_errors[izt])\n",
    "    #Purity_Graph.SetPoint(izt,pGeV_Edges[izt],Purity[izt])\n",
    "\n",
    "#Define your function and set parameters (notice use of string)\n",
    "func = TF1(\"func\",'[0]*TMath::Erf((x-[1])/[2])',12,40)\n",
    "func.SetParameter(0,0.5)\n",
    "func.SetParameter(1,0.5)\n",
    "func.SetParameter(2,1.0)\n",
    "\n",
    "Purity_Graph.Fit(\"func\",\"S\")\n",
    "\n",
    "Fit_Band = ROOT.TGraphErrors(len(Purity));\n",
    "pGeV_Edges_3 = np.linspace(12,40,40)\n",
    "for i in range(len(pGeV_Edges_3)):\n",
    "        Fit_Band.SetPoint(i, pGeV_Edges_3[i], 0)\n",
    "(ROOT.TVirtualFitter.GetFitter()).GetConfidenceIntervals(Fit_Band,0.68)\n",
    "    \n",
    "c = ROOT.TCanvas()\n",
    "c.SetRightMargin(0.09);\n",
    "c.SetLeftMargin(0.14);\n",
    "c.SetBottomMargin(0.125);\n",
    "c.SetTopMargin(0.08)\n",
    "\n",
    "Purity_Graph.SetTitle(\"Error Function Fit to Purity (p-Pb)\")\n",
    "#Purity_Graph.SetMarkerStyle(8)\n",
    "Purity_Graph.SetMarkerSize(0.5)\n",
    "Purity_Graph.SetMarkerColorAlpha(4,1.0)\n",
    "Purity_Graph.Draw(\"AP\")\n",
    "\n",
    "x = Purity_Graph.GetXaxis()\n",
    "x.SetRangeUser(12.0,40.0)\n",
    "x.SetTitle(\"p_{T}^{#gamma} GeV/#it{c}\")\n",
    "x.SetTitleSize(0.045)\n",
    "x.SetTitleOffset(1.15)\n",
    "x.CenterTitle()\n",
    "\n",
    "y = Purity_Graph.GetYaxis()\n",
    "y.SetTitleSize(0.055)\n",
    "y.SetTitle(\"purity\")\n",
    "y.SetTitleOffset(1.0)\n",
    "y.CenterTitle()\n",
    "\n",
    "fit = Purity_Graph.Fit(\"func\",\"S\")\n",
    "print(fit)\n",
    "print fit.Parameters()[0]\n",
    "print fit.ParError(0)\n",
    "print fit.Parameters()[1]\n",
    "print fit.Parameters()[2]\n",
    "\n",
    "latex = ROOT.TLatex();\n",
    "latex.SetTextSize(0.05);\n",
    "latex.SetTextAlign(13);  #align at top\n",
    "#latex.DrawLatex(25,.35,\"#font[12]{a #times Erf((x - b) / c)}\")\n",
    "latex.DrawLatex(29,.31,\"#font[132]{a = %1.2f #pm %1.2f}\"%(fit.Parameters()[0],fit.ParError(0)))\n",
    "latex.DrawLatex(29,.27,\"#font[132]{b = %1.2f #pm %1.2f}\"%(fit.Parameters()[1],fit.ParError(1)))\n",
    "latex.DrawLatex(29,.23,\"#font[132]{c = %1.1f #pm %1.1f}\"%(fit.Parameters()[2],fit.ParError(2)))\n",
    "\n",
    "legend = ROOT.TLegend(0.56,0.46,0.86,0.59)\n",
    "#legend = ROOT.TLegend(0.18,0.88,0.4,0.75)\n",
    "legend.AddEntry(Purity_Graph,\"Data\")\n",
    "legend.AddEntry(Fit_Band,\"#scale[1.1]{#font[132]{a #upoint #it{Erf}((x - b) / c)}}\")\n",
    "legend.Draw()\n",
    "\n",
    "Fit_Band.SetLineColor(ROOT.kRed);\n",
    "Fit_Band.SetFillColorAlpha(ROOT.kRed,0.2)\n",
    "Fit_Band.Draw(\"same3\");\n",
    "c.Draw()\n",
    "\n",
    "#c.SaveAs(\"pics/LO/%s/p-Pb_Err_Function_Purity.pdf\"%(description_string))\n",
    "\n",
    "print(\"\")\n",
    "fit_vals = []\n",
    "for x in pGeV_Edges_3:\n",
    "    Err_val = fit.Parameters()[0]*TMath.Erf((x-fit.Parameters()[1])/fit.Parameters()[2])\n",
    "    fit_vals.append(Err_val)\n",
    "    print(\"%1.6f\"%(Err_val)),\n",
    "print(\"\\n\")\n",
    "print(\"\")"
   ]
  },
  {
   "cell_type": "markdown",
   "metadata": {},
   "source": [
    "## pp Error Function Fit"
   ]
  },
  {
   "cell_type": "code",
<<<<<<< HEAD
   "execution_count": 22,
=======
   "execution_count": 5,
>>>>>>> 5437d17d4038f9e6ccce87e6f8f7e654343be26b
   "metadata": {},
   "outputs": [
    {
     "name": "stdout",
     "output_type": "stream",
     "text": [
      "5\n",
<<<<<<< HEAD
      "proton-proton\n",
      "{ 0.500229283252 ,\n",
      "9.01692090267 ,\n",
      "11.3732998386 }\n",
=======
      "<ROOT.TFitResultPtr object at 0x7fe04acd4c80>\n",
      "0.507999134652\n",
      "0.0665645483397\n",
      "8.33474628579\n",
      "13.3714887905\n",
>>>>>>> 5437d17d4038f9e6ccce87e6f8f7e654343be26b
      "\n",
      "0.144722 0.177397 0.208757 0.238617 0.266823 0.293255 0.317829 0.340493 0.361231 0.380055 0.397007 0.412151 0.425574 0.437376 0.447670 0.456579 0.464228 0.470742 0.476246 0.480859 0.484696 0.487861 0.490452 0.492555 0.494249 0.495603 0.496677 0.497521 0.498180 0.498690 0.499081 0.499380 0.499605 0.499774 0.499900 0.499993 0.500061 0.500110 0.500145 0.500171 \n",
      "\n",
      "\n",
      " FCN=0.216034 FROM MIGRAD    STATUS=CONVERGED      76 CALLS          77 TOTAL\n",
      "                     EDM=7.33567e-08    STRATEGY= 1      ERROR MATRIX ACCURATE \n",
      "  EXT PARAMETER                                   STEP         FIRST   \n",
      "  NO.   NAME      VALUE            ERROR          SIZE      DERIVATIVE \n",
      "   1  p0           5.00224e-01   8.04719e-02   2.75331e-05  -5.93783e-03\n",
      "   2  p1           9.01693e+00   3.34003e+00   6.52656e-04   9.08238e-06\n",
      "   3  p2           1.13734e+01   7.53966e+00   1.24479e-03   3.20015e-05\n",
      " FCN=0.216034 FROM MIGRAD    STATUS=CONVERGED      38 CALLS          39 TOTAL\n",
      "                     EDM=3.84779e-08    STRATEGY= 1      ERROR MATRIX ACCURATE \n",
      "  EXT PARAMETER                                   STEP         FIRST   \n",
      "  NO.   NAME      VALUE            ERROR          SIZE      DERIVATIVE \n",
      "   1  p0           5.00229e-01   8.04719e-02   2.75192e-05  -8.31989e-04\n",
      "   2  p1           9.01692e+00   3.33998e+00   6.52658e-04  -1.47844e-04\n",
      "   3  p2           1.13733e+01   7.53944e+00   1.24382e-03  -6.40545e-05\n"
     ]
    },
    {
     "name": "stderr",
     "output_type": "stream",
     "text": [
<<<<<<< HEAD
      "Info in <TCanvas::Print>: pdf file pics/LO/zT_Rebin_8_006zT06zTDist1/pp_Err_Function_Purity.pdf has been created\n"
=======
      "Info in <TCanvas::Print>: pdf file pics/LO/zT_Rebin_8_006zT06zT/pp_Err_Function_Purity.pdf has been created\n"
>>>>>>> 5437d17d4038f9e6ccce87e6f8f7e654343be26b
     ]
    },
    {
     "data": {
<<<<<<< HEAD
      "image/png": "iVBORw0KGgoAAAANSUhEUgAAArgAAAHYCAIAAAApvgy/AAAABmJLR0QAAAAAAAD5Q7t/AAAgAElE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\n",
=======
      "image/png": "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\n",
>>>>>>> 5437d17d4038f9e6ccce87e6f8f7e654343be26b
      "text/plain": [
       "<IPython.core.display.Image object>"
      ]
     },
     "metadata": {},
     "output_type": "display_data"
    }
   ],
   "source": [
    "from ROOT import TF1\n",
    "from ROOT import TMath\n",
    "\n",
    "pGeV_Edges = np.asarray([12,15,20,25,40,55])\n",
    "pGeV_Centers = (pGeV_Edges[1:] + pGeV_Edges[:-1]) / 2\n",
    "pGeV_Widths = [(j-i)/2 for i, j in zip(pGeV_Edges[:-1], pGeV_Edges[1:])]\n",
    "\n",
    "# Distance to Bad Channel >= 2\n",
    "##Purity = [0.206,0.296,0.460,0.499,0.499]\n",
    "#Purity_stat_error = np.asarray([0.018,0.023,0.032,0.038,0.038])\n",
    "#Purity_sys_error = np.asarray([0.052,0.034,0.064,0.081,0.081])\n",
    "#Purity_errors = np.sqrt(Purity_stat_error**2 + Purity_sys_error**2)\n",
    "\n",
    "Purity = [0.1980,0.318,0.470,0.487,0.487]\n",
    "Purity_stat_error = np.asarray([0.0170,0.0210,0.0290,0.0350,0.0350])\n",
    "Purity_sys_error = np.asarray([0.0460,0.0340,0.0650,0.1170,0.1170])\n",
    "Purity_errors = np.sqrt(Purity_stat_error**2 + Purity_sys_error**2)\n",
    "\n",
    "print(len(Purity_errors))\n",
    "\n",
    "#Fill a TGraph with Purity Information\n",
    "Purity_Graph = ROOT.TGraphErrors()\n",
    "for izt in range (len(Purity)):\n",
    "\n",
    "    Purity_Graph.SetPoint(izt,pGeV_Centers[izt],Purity[izt])\n",
    "    Purity_Graph.SetPointError(izt,pGeV_Widths[izt],Purity_errors[izt])\n",
    "    \n",
    "    #Purity_Graph.SetPointError(izt,0,Purity_errors[izt])\n",
    "    #Purity_Graph.SetPoint(izt,pGeV_Edges[izt],Purity[izt])\n",
    "\n",
    "#Define your function and set parameters (notice use of string)\n",
    "func = TF1(\"func\",'[0]*TMath::Erf((x-[1])/[2])',12,40)\n",
    "func.SetParameter(0,0.55)\n",
    "func.SetParameter(1,8.0)\n",
    "func.SetParameter(2,12.0)\n",
    "\n",
    "Purity_Graph.Fit(\"func\",\"S\")\n",
    "\n",
    "Fit_Band = ROOT.TGraphErrors(len(Purity));\n",
    "pGeV_Edges_3 = np.linspace(12,40,40)\n",
    "for i in range(len(pGeV_Edges_3)):\n",
    "        Fit_Band.SetPoint(i, pGeV_Edges_3[i], 0)\n",
    "(ROOT.TVirtualFitter.GetFitter()).GetConfidenceIntervals(Fit_Band,0.68)\n",
    "    \n",
    "c = ROOT.TCanvas()\n",
    "c.SetRightMargin(0.09);\n",
    "c.SetLeftMargin(0.14);\n",
    "c.SetBottomMargin(0.125);\n",
    "c.SetTopMargin(0.08)\n",
    "\n",
    "Purity_Graph.SetTitle(\"Error Function Fit to Purity (pp)\")\n",
    "#Purity_Graph.SetMarkerStyle(8)\n",
    "Purity_Graph.SetMarkerSize(0.5)\n",
    "Purity_Graph.SetMarkerColorAlpha(4,1.0)\n",
    "Purity_Graph.Draw(\"AP\")\n",
    "\n",
    "x = Purity_Graph.GetXaxis()\n",
    "x.SetRangeUser(12.0,40.0)\n",
    "x.SetTitle(\"p_{T}^{#gamma} GeV/#it{c}\")\n",
    "x.SetTitleSize(0.045)\n",
    "x.SetTitleOffset(1.15)\n",
    "x.CenterTitle()\n",
    "\n",
    "y = Purity_Graph.GetYaxis()\n",
    "y.SetTitleSize(0.055)\n",
    "y.SetTitle(\"purity\")\n",
    "y.SetTitleOffset(1.0)\n",
    "y.CenterTitle()\n",
    "y.SetRangeUser(0.14,0.66)\n",
    "\n",
    "fit = Purity_Graph.Fit(\"func\",\"S\")\n",
    "print(\"proton-proton\")\n",
    "print(\"{\"),\n",
    "print(fit.Parameters()[0]),\n",
    "print(\",\")\n",
    "print(fit.Parameters()[1]),\n",
    "print(\",\")\n",
    "print(fit.Parameters()[2]),\n",
    "print(\"}\")\n",
    "\n",
    "latex = ROOT.TLatex();\n",
    "latex.SetTextSize(0.05);\n",
    "latex.SetTextAlign(13);  #align at top\n",
    "#latex.DrawLatex(25,.35,\"#font[12]{a #times Erf((x - b) / c)}\")\n",
    "latex.DrawLatex(29,.31,\"#font[132]{a = %1.2f #pm %1.2f}\"%(fit.Parameters()[0],fit.ParError(0)))\n",
    "latex.DrawLatex(29,.27,\"#font[132]{b = %1.2f #pm %1.2f}\"%(fit.Parameters()[1],fit.ParError(1)))\n",
    "latex.DrawLatex(29,.23,\"#font[132]{c = %1.1f #pm %1.1f}\"%(fit.Parameters()[2],fit.ParError(2)))\n",
    "\n",
    "legend = ROOT.TLegend(0.56,0.46,0.86,0.57)\n",
    "#legend = ROOT.TLegend(0.18,0.88,0.4,0.75)\n",
    "legend.AddEntry(Purity_Graph,\"Data\")\n",
    "legend.AddEntry(Fit_Band,\"#scale[1.1]{#font[132]{a #upoint #it{Erf}((x - b) / c)}}\")\n",
    "legend.Draw()\n",
    "\n",
    "Fit_Band.SetLineColor(ROOT.kRed);\n",
    "Fit_Band.SetFillColorAlpha(ROOT.kRed,0.2)\n",
    "Fit_Band.Draw(\"same3\");\n",
    "c.Draw()\n",
    "c.SaveAs(\"pics/LO/%s/pp_Err_Function_Purity.pdf\"%(description_string))\n",
    "\n",
    "print(\"\")\n",
    "fit_vals = []\n",
    "for x in pGeV_Edges_3:\n",
    "    Err_val = fit.Parameters()[0]*TMath.Erf((x-fit.Parameters()[1])/fit.Parameters()[2])\n",
    "    fit_vals.append(Err_val)\n",
    "    print(\"%1.6f\"%(Err_val)),\n",
    "print(\"\\n\")\n",
    "print(\"\")"
   ]
  },
  {
   "cell_type": "markdown",
   "metadata": {},
   "source": [
    "## p-Pb Error Function NEW"
   ]
  },
  {
   "cell_type": "code",
<<<<<<< HEAD
   "execution_count": 23,
=======
   "execution_count": 6,
>>>>>>> 5437d17d4038f9e6ccce87e6f8f7e654343be26b
   "metadata": {},
   "outputs": [
    {
     "name": "stdout",
     "output_type": "stream",
     "text": [
      "5\n",
<<<<<<< HEAD
=======
      "<ROOT.TFitResultPtr object at 0x7fe04ad664e0>\n",
      "0.564400011365\n",
      "0.0377016162337\n",
      "8.81589638183\n",
      "12.5209151159\n",
>>>>>>> 5437d17d4038f9e6ccce87e6f8f7e654343be26b
      "\n",
      "****************************************\n",
      "Minimizer is Minuit / Migrad\n",
      "Chi2                      =    0.0283614\n",
      "NDf                       =            2\n",
      "Edm                       =  2.20292e-08\n",
      "NCalls                    =           40\n",
      "p0                        =     0.549685   +/-   0.0447225   \n",
      "p1                        =      8.44339   +/-   2.64749     \n",
      "p2                        =      13.3454   +/-   5.90635     \n",
      "\n",
      "proton-lead\n",
      "{ 0.549684905516 ,\n",
      "8.44338685256 ,\n",
      "13.3454091464\n",
      "}\n",
      "\n",
      "0.161469 0.192078 0.221652 0.250058 0.277188 0.302948 0.327266 0.350091 0.371390 0.391152 0.409381 0.426100 0.441344 0.455164 0.467620 0.478783 0.488729 0.497539 0.505298 0.512092 0.518008 0.523127 0.527534 0.531303 0.534510 0.537223 0.539503 0.541410 0.542995 0.544305 0.545381 0.546260 0.546974 0.547551 0.548014 0.548383 0.548677 0.548908 0.549089 0.549231 \n",
      "\n",
      "\n",
      " FCN=0.0283615 FROM MIGRAD    STATUS=CONVERGED      68 CALLS          69 TOTAL\n",
      "                     EDM=6.05134e-08    STRATEGY= 1      ERROR MATRIX ACCURATE \n",
      "  EXT PARAMETER                                   STEP         FIRST   \n",
      "  NO.   NAME      VALUE            ERROR          SIZE      DERIVATIVE \n",
      "   1  p0           5.49680e-01   4.47221e-02   1.63278e-05  -8.43105e-03\n",
      "   2  p1           8.44338e+00   2.64752e+00   5.10626e-04  -1.62357e-05\n",
      "   3  p2           1.33454e+01   5.90639e+00   1.00759e-03   8.37031e-06\n",
      " FCN=0.0283614 FROM MIGRAD    STATUS=CONVERGED      39 CALLS          40 TOTAL\n",
      "                     EDM=2.20292e-08    STRATEGY= 1      ERROR MATRIX ACCURATE \n",
      "  EXT PARAMETER                                   STEP         FIRST   \n",
      "  NO.   NAME      VALUE            ERROR          SIZE      DERIVATIVE \n",
      "   1  p0           5.49685e-01   4.47225e-02   1.63322e-05   8.05212e-05\n",
      "   2  p1           8.44339e+00   2.64749e+00   5.10611e-04  -1.47540e-04\n",
      "   3  p2           1.33454e+01   5.90635e+00   1.00779e-03  -7.95580e-05\n"
     ]
    },
    {
     "name": "stderr",
     "output_type": "stream",
     "text": [
<<<<<<< HEAD
      "Info in <TCanvas::Print>: pdf file pics/LO/zT_Rebin_8_006zT06zTDist1/p-Pb_Err_Function_Purity.pdf has been created\n"
=======
      "Info in <TCanvas::Print>: pdf file pics/LO/zT_Rebin_8_006zT06zT/p-Pb_Err_Function_Purity.pdf has been created\n"
>>>>>>> 5437d17d4038f9e6ccce87e6f8f7e654343be26b
     ]
    },
    {
     "data": {
<<<<<<< HEAD
      "image/png": "iVBORw0KGgoAAAANSUhEUgAAArgAAAHYCAIAAAApvgy/AAAABmJLR0QAAAAAAAD5Q7t/AAAgAElE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\n",
=======
      "image/png": "iVBORw0KGgoAAAANSUhEUgAAArgAAAHYCAIAAAApvgy/AAAABmJLR0QAAAAAAAD5Q7t/AAAgAElEQVR4nO3dzbKkuLm2YbHDR+S91rAbMbEPqisCiHCfVE8A97Bq+5C+/Aavl1olISFI/iTuKxyO1VkkkCSJHvRH9Xq9FAAAwJz/uXoHAADAfREUAABAEEEBAAAEERQAAEAQQQExWusqSmt99T7+V9d1ee1q13WnbXHxexzHUSk1juPJO+aTffC/O6317jt2wlmhtZZj+77QWd11nbOJxO/xiEOKIhEUEDNN05sLnGbxcnzhro7juFdpsc3iZ7d3z/k7Zc93/ICz65mmaZqmvu9NptmLc2T2/aa01tM0HZpF5LA0TWMX+Sb2Le5e3/fH7RuKQVDAsrZtX2FX791P6rq+266O4+hcx7XWdV2fX8MR+R7N7jk71nVd0zSLRU7TNE3T7Lu39u4NwzAMg9nWXpuo67qua/Of8mH3uskex3GaprZtd1mbMQyDc2TkI/R9vzbiyCe9T00bbutvV+8A8Dg7Vkev3e7iAtfWfITInr9er6qqlFJd1+1SnB/6YWUPd6/bd75E+cqk6qJpmrVpuG1bKhWwiBoFHGK2Cnccx9nr5vn122vJnse3Pn7xX1+1ofSjsbhLN7HjFyd3z++sLXQS7m6aJru6YnY39jos8QgYOf5UKiBJpJ4WkJMk3vQgpGa4rmtTRSytAHKtHIbB1MHadaf+ldT+V7NOsyeRlgVZVbzpwf5Qs/tvv27+09lD/2hEPoXzuuyeHApnPX4dtfNZZAH7SKb/iv1jO8s+4OaAzH41kd121hb5RLPMCmf/1fmWZ4+k/3nNCs035bz+mvuWZeX+PvunSuhTzJ7MiQfWF9moc9DMnvvfjr+txFMIT0aNAnYmTch+U7fUcNqvV1UlXcnMRVne7t/9SIWzuuLWRzbdtm2oMdj5FLKMaUc3r8jfoXtZ+/iYt8z2g5MlpbwxB80cn32Z9ctezR58rbVZzP4epWeGea+8Pk3Tm7sqh3rbaSD18+qrWsLhfFNmRIDfD1Rej3c+kG/T309pIFAJ5/wqoR6gshvxbck/ZVE1hctcnVRwa3KSmGu9z9ygOBUJhn3x9V+fXdi8aN97Le6qvaHIfr5W1ig4S8pWzGeZvf11lrFv0+132QdEVuLfgNov2uWxvbmU4xP/Hp2N2rtqKoRS1u+/MrurfgWAbfaQvqxee/4x8VfoLGa+SueDOBtqvSqElHfN8pcJncxOJceqdTpr8E9L5/c1+6LsWPxLwcMRFBCjljjFoX8hC10HQ1c9+3W/sIyItAfPXv2dt4eCgrNppyyZXcZZ1WJQCDWazFazh45k/BDFv0Qn7b0fFEInQ3qlfYRdpK0KCv4RdnbGDwopr/j8w/iKnswp3+Br6Uv0dzL9+C9+KXg4Rj1gWV3Xb/b/cq7+kXrOuq6naZKO3ObFVVXNfhvwO1I27XdEf60fiukfYRmt51R9x/NQXBtuPti8zlny/fq7+uaG5DzcvJIN57A09NhfgVTmx1clHz+0n/7rzjnv/DoWP68056V8OrMq5/cFxBEUsEzmxUtZclUxFu8Tvu1Cdub8BHs164ZmQ9q9UE//Ht8ULylV2ve7IWwd4f3kukg6T5iD5pwPznFIPyyzv6/ZjwPEERRwAXpO4XzvdIGUoYxy1/5Opc6iXIa84lEICriAzB0bmVc4i9udvXZSbvL81/MtMOxb5NAC5+3Ne+zWh5R2hw3sCpija33eGTaCx2J4JC4QuU5d9USGN+fwcV6RB/asWolf/IRa+u9Pvl//q8w0+shXYL6glAkuVfjD+q8fVHjnHsRxHwQFXEMuvs4FK/1a/D7ner1tIlvppOmU8bLz6QV8aLz+QfevJzBfn7PzB1XdO9/dQbMmmzkJEpcPcZ5Vceg573ezVd7xzzeP4jQEBSyTp/bFn1C8lrxL5hSSdln99Sy7fYct+MycSLLdcRw3zwJkynh5qu/4Neu+8oqrSFW81lp2yaxEnkOtzu2bGZHYcG4vJl9i3/daa/OJ5MjsWK9gDo5sxT6LNvO/KfurTE8hkRt6+2xJzx8bmN9X5PjLf+aYR3Gea0dn4uZSTiEZ/z07dvzlzT5kmw0Es5MOpexq+hTOs5/r5Y0mn9307DD6+KewF3h/CufFOQMin3fVFM7+XkXebt+POmvzj3NcaA6AxeWN9muORX8KZ0dkh1PmB4vw558wK5/d4ZR1ph8Wc6pEJhd3djXxc+GZqtc9xiDhscwTa04bvHfEdhfXZp6+E9+WuS2+Q0WCMB8tftNp/tVZ7JzvN7T1tUJ7KxVFbXgSbn89TdPYy49fc1rLJfe0L3rx+FdVVdd1pt1HcA6CAgAskJagVVdLyRbmLU5QuAkZ0zEMw32CKW6IPgoAELO2d6qQuoSb36nLA8ZICYhjHgUAmGf3cl1b5Esf1aZpblWFYJNPdPMogzugRgEA5tnPq9zw9puXxF3XHTTaAoWhjwIAAAiiRgEAAAQRFAAAQBBBAQAABBEUAABAEEEBAAAEERQAAEAQQQEAAAQRFAAAQBBBAQAABPGsh2X2fO8AAGyQ7zzIBIUk+X7BAIDLZX3DSdMDAAAIIigAAIAgggIAAAgiKAAAgCCCAgAACCIoAACAIIICAAAIIigAAIAgggIAAAgiKAAAgCCCAgAACCIoAACAIIICAAAI4umRSUIP/uKpkgCAshEUkhAIAADPRNMDAAAIIigAAIAgggIAAAgiKAAAgCCCAgAACCIoAACAIIICAAAIIigAAIAgggIAAAgiKAAAgCCCAgAACCIoAACAIB4KlYSnRwIAnomgkIRAAAB4JpoeAABAEEEBAAAEERQAAEAQQQEAAAQRFAAAQBCjHgDgdpwh2Qy8woUICgBwO5IMqqoiIuByND0AAICgwoNC13VVVVVVpbVOWazrupP2DACAHJTc9NB1Xd/3dV0rpaZp0lqP4+gvprWepkkW6/te3njqjgIAcFclN4BVVVXXtYQDCQ3+hx3HsWmaYRikykFCg7MYzYQALsHFpxhZf5UZ73qckwCUUlVVtW3r1BbMJgNH1l8wgHxx8SlG1l9lyU0PPr/pQRodpL5BKeUnCQDAo7x+/Nh3hdXHx74rPFmxQUEyQbwPo5imye6jMI6jnydCj5mOyDc8AsDldi+tsVmxQUGM45iSFUyhLi0RkQUAAJtR/Oeo2KCgtZbWBOfF+Lu6rmuaJjFeAEDZKNehyg4KyqpRCLVE1HVtVyHMjp8EgJJQ/GOVjPthLpJ2BBn4IJ0M5MPKgAjptyh/yyhK+Vt5DQ1Z91YFkK9VFx+K/9uqPj6yLkeKrVFQSo3jWFWVlP1KqWEYzOtmGa1127Z935vuivl+lwCKRALAtTLOOIkShz9EFss6CQLIiJMJPj4/f3z/ftXOYC/UKNxdYrdEei8COBP1BMhF+UEBAM5EAkBhCAoAsBGZAE9AUACAZWQCPBZBAcBzUfwDiwgKAJ6CWABsQFAAUCAyAbAXgkKS0NMj8x0XC+SI4h84H0EhCYEAOBmZALgJggKAi5EJgDsjKAA4FbEAyAtBAcBRyARAAQgKAPZEOAAKQ1AA8BaSAVA2ggKAdUgGwKMQFADEEAuAhyMoAPgvMgEAH0EBeDryAbDO5+eKhb9/P2w/TkJQAJ6IcIA9rSo4kRuCAvAgi/ng4/PzR/43QHBRkO/hQ6m/fj9P+pkQFIDCUXlQmnuW+k8oOD8/H/ExPQSFJDw9EtnZnA8+7lkOPVU2X0cu+4n1CApJCATIwi6VBzQ9vGu/IvOnum4b39EVsglteyMoANmjceFsuxcYoYL/qXXduBWCApClg8IB1QkzNsQCDmOJHvvrICgAmaH+YH9EASCMoABkg4iwD2IBsAZBATiQM15mc69YIsJbUpIBUQAIICgAB5JkUFUVEeFA1BAARyIoADdFRAgiGQAnIigA90I+cNFwAFyKoADcBRHhL4vhgGQAnIWgAFyPiPCX2YhALACuQ1AALkM++C/CAXBjBAXgAo+OCDQrAFkhKACnemhEIBwA2SIoJOEx03jTQ/OBolkByB5BIQmBAO/4+9U7cDbCAVAQggJwoAdVJEQaF4gIQM4ICsAhnhIRQvmAcACUgqAA7Kz8iEA4AJ6EoADsqdiUQMsC8FQEBWAfz4oIhAPgMQgKwLvKjAh+PiAcAI9EUAC2KzAiUH/wANXHx1WbLvAn8wAEBWCjoi555IMbu7Bc311Jn+U5CArAFuWkBJoY9rZjWfgfSlbcAEEBWK2ElEA+2AOlOJ6AoACskH1EoIlhKzIBHougAKTKOCWQD9YgEwA2gkISnh6JXFMCTQxRZAJgEUEhCYHgyQqJCOQDYgGwCUEBiMkyJRARyATAfggKQFB+KeHZEYFwAByBoADMICJkgWQAnICgALhySgkP66tIMgDOR1AAfpJNSnhSRHhgPjAjreQP+lPjQgQF4C95pIRntDI8MBzYSAa4D4ICoBQR4TYeng+AGyIoABmmhLIiAuEAuLP/uXoHjtV1XVVVVVVprUPLVD+LLIkiZZASPj//Sgnfv5eUEqqPD1ICcHMl1yh0Xdf3fV3XSqlpmrTW4ziGFpbFlFIEhUe5e0ootK2BcABkpOSgIClBwoGEBn8Z+ddhGMgHT0NEuAQRAchOsU0PJh/If8of5j+dxeKVDSjPrVOC3dCgCmlrkCYGUgKQo5JrFHyhNGA/HJJRScX736r6cc+id79ahI/Pzzt8RpIBUIBig4KpKkhZrG1bqVTo+76qKj8rhB4zHUHguKG7VyQYNyjj30REAIpRbFAQ4zjGs4JdxyBL9n3vv4tSvwB2SvjwpzU82Lotnr57OyIiAIUpNihorf3ei4sVDLPvQgGcuoSTq+WDDQGH9Vg8PwmRD4BSFduZUTKBqTAItUQ4EyckNlggLzdtcSilxyK9FIGyFRsUlFJ1XUs7glKqaRplpYeqqmQERF3X0zTJMtJHwUyogDL4KeH6Xn7HT6B0zmckIgBPUGzTg/oKBBIRlFLDMJjX7WW01mYZM+8CynC7uoQiZkcgHACPMtPDvzDpwx9Cy8yOg8D93Scl/LePQv7jGogIwDZZlyMZ7/ppsv6CH+s+KUFJUDD/QUQAnifrcqTkpgc81q1SQu4VCUQE4OEICijNjVICEQFA/ggKKMpNU0JuiAgADIICynGXlOBXJGQSGsgHAHwEBRTiFikh59GPpAQAswgKyN4tIoLKuEcCEQFABEEhSejpkfkOd8GeiAgAykVQSEIguK3rqxPyTAlEBACJCArI2MUpIc+IoEgJANYgKCBXpIQNiAgA1iIoIEt3SQlEBAClIyggP1emhAwrEogIAN7xP1fvALAOKWEVUgKAN1GjAKTJrbmBiABgFwQF5OSy6oSsUgIRAcCOCArIxjUpIavmBiICgN3RRwF5ICUsIiUAOAI1CsjAxSmBiADgwQgKuLsLUkI+FQlEBABHIyjg1kgJIUQEAOcgKOC+zk4JmUQERUoAcCKCQhIeM10+UgIAzCEoJCEQnO/U6oRM+i0SEQCcj+GRuCNSgo+UAOAS1CjgdkgJDiICgAtRo4B7ISU4SAkArkWNAp7q9imBiADgDqhRwI2cV51ASgCANNQo4C5OSgm3HwZJRABwK9Qo4BZICYKUAOBuqFHA9c5OCUQEAEhGjQIuRkpQpAQAN1Yx5+CiquIoHejwoHBpc8OHvXWlfng7QEQAniDrciTjXT9N1l/wzZWdEhaREoCHyLocoY8CLnNeSiAiAMBWB/ZR0FpXVdV13XGbOE0VcPV+ZYyUAABZOLwzY9/3VVVprcdxPHpbx3kFXL1fuXpsSqg+PkgJAPJybKtJ13XjOE7TZF6p67rrOq31cRvdXdZtSzf0zJRAPgCeLOty5KRd77qu73v7lbZtc2mVyPoLvqFjgwIpAcD9ZF2OnDSPQtd1Ulfftq28Ik0SxXRiQCJSAgDk5ewJlyQxmLigSunEgBSkBADIzqmVIeM4dl1nd1lQStV1bV4ZhuGG3ReyrjK6lQODwv1SAhFhA0YS4XznXN6zLkfO2PXZfOD0UdBaywI3PJRZf8H3QUrAIn5rONlpp1zW5/aBTQ/jOMpUCk3TmJTQtq10VnC6Jph2BxogikRKAIBMHZhxTCWBShvjILWON8xcWSfBOzijawIpoQj81nAyahRSHDiFs9Zaa50+qCHfg4jL/PzIpWsREQAU6diMI60P7yxwB1knwcs9pNGBlLCL+//WnLbR+1++EEeNQopjn/XQNE1kgXEcm6ZhHoWCkRJQkq7rmp9tmwyGnljIy/5ND85vIPKTICJgizs9OZqI8EAyD736urj1fd/3/TiOicW/TFN7z6HgwKz9g4JTixCvVFCZ1N2FhnfnW5V0gkOqE0gJuJr0vlJf166u66qqmqYpi4ZUYIOzZ2Z01HWdxU+Lp0eudWxK+P6dlID7GIZB/VxFagaHO9POmqfedF1nlg8tDNzE/kHBFKJ1XatwESv4SRTp8JRwNVICbHK3Y0aDS1eGaZrkGjhNk6lYNVc8qYGILwzcxIE1Cl3X2c90ALYjJSAfUmcgN0Lm0TamW4P85zAMpotDaGHgJo4d9cDp/kD7VyeQEpAJKfuHYZDGCBFvXV21MHCJnTszyu9EzvXEZgV+GCUpOCUQES609WFRL6U2PmVqWw8ku5Pj+MV5zM3sWxIXBi6xZ1Aw/XTkN+Y/CGoWXQKLceCsCaSEZ3vjKnHB5cVcCZVSdV3bD8h9c2HgEjvXKEh/HEFVAd51jxmaSQmIkzZWufqN42jfL6mvmeVm37hqYeAqO9coRP4TZSu10YGUgDhT2Etjq/y/3Y870gi7amHgKsc+ZpqT/iFICXiOvu/1l6qqpALAdEi0+xwoq2VhdsraxIWBax0YFGQu9GvPeJk0TaYxWVxYfvbH7xSW3CAlVB8fpASETF+UUnVd2/Mxa62ln4E8CaLve6kwmKbJ7urY971cl+ILA3dw4POstNbTNLVte1UbhMRzM41JXdfxOkC5M/APSNZP/TrBztUJ90gJV2364Yr5rZlLjSnv7SoEpVTXdWYq6MWFcRyeHpniwF2PFL3nqKrKhAMJDZE9MXUJBIVVSAnYEb81nIygkOLwXZcCuG3bUDo+KDVLTLGrBKuqClVvSOWH1AESFFbZMyiQEh6P3xpORlBIsf/TIw0pfeVveRLr7GJnHrvZpgeZ72EYBoZprFVSSiAiAMCsY6dwPm7lixIb+WRoU6TCQ1Tr7fZJ7oqUAABPcOxDoeKPjjzhSc2LYy6apqnrerEuIeWDnPm5LkdKAICHODAoXGu2hsB5UWLENE1SByANJVVV0QZxHlICANzbgX0UrmXGHdkDkJygoLW250STXhSLzRDYrTrh0pRARACAFIfPo7C42NE7IAMfpNOAbEsGRPgjIGR5Rj3EkRJwHH5rOBmjHlIU2/SgvmoRZMozZc2xyvSo1yMlAEAmrsk4Zi4me56D47al3huCkXUS3NfO1QmnpwQiws3xW8PJqFFIceWu280Bd5b1F7yj3BsdSAn3F/qt7f/UsfhucKo8BkEhxZVND9KRkIaAZyElAJ4xKmUN3759+/XXX3/99dfZf50dyXXQ8C55FN/sbq99pHBoPbN4XvFxrhz1oLXu+94MTMCd7XNLR0oAAmSKWKWUPMdOyCuLd6ISEf79739XVfXt27d//etf9r9qrZ1MMI5j13VHFKvmSdmzzOO5UzKKLJNeOqxaOVa5skaB9JeLnSt+SQnAz8yTJOU5dkZKZfUff/zx559/Sjj47bff/JRgVm40TXPQ5bfrOjvo+NKrScZxjK8qtHKCwu4uCwoyd7K6eqZnLNq/a8KJSAnIRajb9WJh+c9//vOXX36Rv52UIEWmU3DK4/He2NN3mc7scdM0bSgdTMmCHZ30UKj4YsftA+7iikYHUgKOILet/m36m+Rq6d8Nx2++//jjD6VUqGtC3/dmWLi9Nnsr9vq11uY/d/l0XdfNHiiZOD9y6z8bcRyhL6Kua/uD4H1XNj3UdZ1vL9CHyLdrAikBuxvH0XSva5pmx6Dgl2r2yqW4NbPLy5Tzf/zxR1VV//znP5VSv//+u7xir2G2jV+ebuNsumka0xjRdd0uDRNyrPq+l5lsnBVKB7X42yNVKXZ/yaZpnDwhvT0ICjs6MChIA1tERl/kMx8RSUoAbOYZctISn1JjmshcDGdvweVFpZSZZFYp9Y9//MPcaMkV9R//+If9rsQa+K7r7AFoMpvt+8384zgOw/B6vaS8d9oa5ONEthJpd5DGhdfrZeokZj9pRuXL/ZU8M+OOnvmIyB2QElAQqdOWv+2HyLxPijpzDx0qJruuk9LXvviYDgqLQt0gpLiVje71sBsTbswh8o9V6OjF2x1kAn7zn8MwOF0u9v1qoE4bHilfuTlNd2/ew+7SqxM+fu6l+MNkAlICdlJt6glbKbU9y8/dBtjt94nVCTJcMHEKWnv9/oBGZQ2OEPEOCpH1+4ZhaJpmscber+RP2W7bts5I+PjRiLQ7+FknVJrsWN+Dw4OCP6x2miZ55YT5m7HNqkYHSQYfn58/7EBASsB+XpvOov+3NShETiRTZ57Yu1561cUvdFLc2kWjXwDPdnX897//rdYEhfh+mk1Hin/nIx80EHGapvi4DGbfOdmxTQ/SmUX+ruu6bdu2bc3v4bixvLgYKQElkv4Bq0qplO73s3fJ8oddF+uXnRIUnK4J8Z0J/ZOZ/0Bu/UOLvdP2am89sonE8Q6Lm1s7BwMiDqxRMN+0/0Bn9VV31zQNLf13s9vECWelBCICThBq4H+f1BaEug6YP/wF/vzzz8hq/e6WocZ70z3QjIDY97IcOnSzBzM+3kHeIk0kdkOG/aGO+6Ye69hRDyqQElS0hwsutENKOHdiJVICziQ33KZFVYbyv7PC2XkLpBTs+950M1SBki/Sk3H2wjs7WKNpGpluQWsthfSObQrjOMpICufF0FYW51mSmhUZnirDQJzlIyvHNgcGhdD8IQYPhSrQuY0OpAScxpRGMtJPSr43JwGUSQvkb3vctfQrtG+s/XYH6cn47du3+A7Pdoq0/9O0p8grct3u+37zHblUCcj0CfJZ/O5ofd/P9kJIaXcw4zmnaZLeDP5npN1hXwc++HLxKdKSykNVDveR9eNBV3mnOuHj8/OvN5MSsAmPmU737du333//PX5pkqYEZxm5Eb/wqju7V+af1HutBpGVz+Ix0ykOrFGQTBepMKAl6Vby6pqQxaUcOM7vv//+22+/xZeZnRdh/HLcvsWZlg7f+yPnIyvHZof3UQgNbZDOjPYEJkAiUgIeSx4kLX87j4CaNTvV43jYY6YXaa2PGxh/6Mqf7MDKEAmt9vBI0+fW9Kbxm6lu2AyRdZVRonerEz4/P5T6oc6oTiAlFOwJv7U3/frrr3/++ecvv/zy7du39IGRs0M6z5+N4NAtbls5TQ8pDtz19MnLbDfMg1l/wSneTwlKqQ97TsbDkBLKVvxvDXdDUEhx7DwKG6oH7pYSsODEwZCkBAA4X8YZ5zRZJ8FFu1QnqO/f3Smc90ZKeIKyf2u4IWoUUpz0UKjchZ4one8XL/ZJCccjJTxH8U9vB7JDUEiSeyA4xFlzK5ESnoMfGnBDBIXneqs64ZSUQEQAgMsd+/RI3BYpAQCQgqCArUgJAPAABIUn2qc64TCkBAC4D4IC1ji+0YGUAAC3QlB4nO3VCaQEAHgegkKZghM/vP+IyNukBAbcA8AJCApIc3DXBOoSAOCeMp5U8jQ5Tr05e7f99/P3I81/tr4xu+8FwDPlWI4YTLhULP+kfLd3QrTRYfOzHjbXJdD0AAAnoOnhKXbow3gAWhwA4OYICmVyqhPuOdLhzZSQbz0eAGSEpockpT49csGNUwIA4BwEhSRZB4J3h0SSEgDgwWh6KNwNuyaQEgAgIwQFzDnl+ZAAgPsjKJSMRgcAwJsICvDQ6AAA+EJQKNbG6oTDGh1ICQCQI4JCmUgJAIBdEBTgISUAAL4QFAr0bnXCrkgJAJA1gkJpbtXoQEoAgNwRFEBKAAAEERSK8tbECaQEAICHoFCO+3RNICUAQDEICs92QKMDKQEASsLTI5Pc/zHTW6oTSAkAgCUEhST3CQSzbtI1gZQAAOWh6eGpDnugAwCgJNQoZO/yRoePz0+l1H++GmhuXvsCAFiFGoW83aHR4cf37//3+ssu6wQA3ARBIWM3GQ9J1wQAKBhB4WH2HulASgCAshEUcnWHRgdSAgAUj6CQpTs0OpASgEVd11VftNZr3yJmFxvHUWstqx3HMWXN4zgmLikL2/uQ8kZ7z7uuW1x54p7gcoUHBXPiRn6iG35vedujOoGUACzquq7v+2EYpJ/vNE0ppWPf9/Z/1nXtL1NVVdM0WuvX6yVXsMT9iZffxjiOTdO0bSt73rZt0zTxy6PWuu9706m57/vIXjVNk7IbuImSg4L8Suu6rut6mqbZs1Z+D9M0tW2rlGqaJvGHdKE7VCcAWCTXH3PlGYZBKRW/wnRd17btYHGKZ3MvPgzDcRcrKcjN+uWPSOk+jqO5ioq2badpms0WibEG91EVPJ6tqqq6ruVMldDgf1it9TRN5vXZmQCq6kZH6d2UQHUCcApTnWCXi4tzjSxebUxK2FDcylsW603l9slcPM17p2kKbde5kJpddVailOq6Tl7xly/brcqRtYqtUTD5QP5T/pgN4LM1e2UiJQCW8csRK5cWBKdYlatNaItygYq08cuLdi3FEWQrzibkP0N1GNM0Jb7e9/0jWnjL8qyZGf0T1LxifgB27dndXN7oQEpAMeR+V3omRe6VjxDqVWD3Tuj73q+QkAWkq4GsREQ2tPii/3Yp3f2g4HSeiG/F/lezqqqqpP0FeSk2KMi5m/jLH8fR/AZmI/OGDrq71zJd3uhASkAxnEp4uYMPFXiLP3//xx5alVTRx9czjmPXdbJY0zRm5Wad0i6gvsKEX71vmPXYnK4Gq65UszsvW/erZlH0zqAAABSJSURBVKVzmL0zbdvSQSFHxTY9iMQ6Luk8LFF39qLwWm/fD0JKAHbkF3iR8nt3i8MHxnE01xBTspp3yUgHs0yoz6C8xb4oSc/uQ69Us/ugvm7G7t9VHLOKDQqhHjfOK3YLpdZa2h1Ka0IjJQA/s8vIxdJr97uCxLtqkwPsF522UfnP+xfAdtUIslN4UDBFfqglYnY85N0qx67tmkBKQKlknpUj1hy6hqy9CVnsai0bOrM6JH0fTF8HrbW0jzi9RyPNPbiVYoOCUqqua9PDVprlTHownYqlFc2uHLtsdwMub3QAymNmI3i9Xou34+OStVtPvxWxl5wd3HjEXU0kncz+U3wfTIxoLJIh+r7PYuoaFNuZUX1dC0zPHdPb1v6lOcuoAzohvuOtBzooGh2AedIfMLGIWpxGcPaiYW5C7HJ0dkBBRGIK2XeMd9d1Mg+jvZ/jzwPO167Qf0UmaIqP2sBNlBwU1FevH/XzL9OZx9Qso+7X6LARjQ5A2No6gG0j+maLW/VzJ4PFwVkyblP+lgp8p4Z/7fCulMVkbU7fQ39aCPujtW0r1bdO10v5sKHdoy4hFxnPFXWaq2bUurbRgZSAUo3jKJUEpvOylL673+A68xX60xfaEzWaKeed+xanBtSZM3F2SkR7+ZSdnH2jPOvBTFXnTOrgTxDpTDoZn4MyvttFynpmxox3/TSXfMHbGx0kKJASgDAzn4EUulIQqq1TIy9uyNQERGZ0NvHFmN0Zs5isMzKJgrI+ZkTo4maCi1JKmgnsCgA9N6Oz/WFTduxRpQ9BoXDnf8HvpgRFUADW8dsI9l25SmsgWLXkCU2lq5o2zFsKacPdFUGhcCd/waQEAChM1kGh5OGRD0VKAADsh6BwLztUJ7yBlAAAcBAUbuTaRgdSAgDAV/g8CnsJzfO6Y5vTu3MrKVICAGB/BIUkt+6EstP0SgAA+Gh6uAUaHQAA90RQuB6NDgCA2yIoXOytlPB2owMpAQAQR1C40g51CWp7dQIpAQCwiKCQrfeqE0gJAIAUBIXL7NPo8N48jAAAxBEUrnFtSqA6AcB9pDwOGxciKGSLugRgk67rtNZVVdnPTT50c5UlpVCU3ROzT5peu0Ln7elvsXc+8ZmQzu5FjrOsXGtNULg5gsIFGOkAXOjMhyB3Xdf3/etL27ZN08TLRSk7zVumabJ3eBzHpmns5RdX6O9SYkKSnTf/OU1TaI5a510pr0jEeb1e4ziek9iwGUHhbDQ6ANfSWp9WMvV937at+U/ZbmTr/gJt207TZC8wDIOJEXVdK6Wc6LCLcRztiDMMg72HkXdN0zRY/GlttdZyWKhIyAVB4VR0YASeQwrCVcVhaGGzKq21U8Gwde8WdF1nl/Faa0k88S12Xde2rbY4C2itp2mq65pahIwQFHLDJIzA3g4qbqWYnKbJrF/+WGz78KOAecUvX6VSYXcpLQi+aZr6vg91aJD6BkXvxdzwUKjz0DUBuBu5wZW/67revQCr63qapqZphmHQWjdNE7+Zlp6A0i9BGu+lJt/srf8Wu2EitM7FF2dv/WffEkk59ueSDg1t29ovyt9ynOXvM5uBsFl16+ci3kOk/0760bu80YGgABimS6AU29Ier8JZwc4TsyQHzP6T/V6n4Izvm1i8yPjlcWQHQlIuZaZjZnwxGVVhekHa+2aupVILYvbqCcVQVWVc2ma866fZ5QveISiQEoCdSGFsxwJTPM/+2Bd7+0eCgvP29CJZ/o6HgMTC2yb7uaHuZDGR+BuSKGB2T46DfaxMl4XiGyOyDgr0UTgDjQ7ADdlFu/l7tsR6LYmkBK11Xddm7MNi5pDbcbN83/ehslmWNA0Th5IPuKqZwOmZYf7T74GxWOGBaxEUDnftk58AJJL68H1vbeWOWZrk410NhFRsDMMggw5kl/q+n90r0/Vhxx0O7dU0TRtuiOUjpxzS4msUskZnxmO9mxKoTgDOIoV6qLv+4ntn3zVNk6kbkGmUpK9iaD2mi59Zg+yVdKRwtigDEeM79j7JLu9Um8tOhnZV+ntuXjlOQFDIAdMrAceL9OpfnNEo3pnR/s94uej/k4yD8Nd52niBN1OCWhoOKh/5zOkysRZB4UCXVycASCe96mb/abEfQLw1IV4K2guEYoTTncJPCelPTFhVyV9VlfPZpRnF7n8QHzBpH9K2baXLhbPzB00Fgb1k3A/zNNt6q+7QNeG9wQ5UJwAh/qiHDcMHUkjDgb1aZ+yAMxBgccec5y8YkYEDKclgtrAP9bs0e2vvvBk2Yv519pDKW5yPc05Pi2tlPeqBGoVD7JYStiIlABHSwC9zCMordV0fcR2XG+6qqszMAYtzHgzD0DSNvEVqF8w9vT0/gSM+hHLDPArxcRzyh13/YV40zTRt2/qrlREi9gF5QkrIXcYZ5zQbkuBujQ5UJwAHW2wa2Gsrak1L/NrlbyJ9t8857PeRdY1Cxrt+mrVfMI0OAABb1kGBeRR2RqMDAKAkBIU97TO3kmCGJQDADdCZcTezKeHj5+qBH4vFP9UJAIA7ISgkCQ0TMm1OoboESQYfn5/LEcFGdQIA4B4ICkninVB2a3GgOgEAcDP0UXjXnv0SxKbqBFICAOAIBIXbYMJmAMD9EBTesn+jA9UJAIA7IShsd5NGBwAAjkNQ2GjPlEAfRgDAXREUtjgkJdDoAAC4H4LCavu3OCgaHQAUKOUJ17g/gsI6O6cEGh2AB+i6LvSkRHnmsog8KtpZW/WzxN0Yx3FVyW3v26oNyR5qrQkKZWDCpRWOSglUJwCF6rqu73ulVF3X/r86RW/f9ylluazQmF1zaGdU8l3+OI7TNNmvtG2bsom+7+u6zvdJifBl/ODL05jHg24OCvNTOPMsaaB0Uio3TVPXtVNCS7FtahFMpBiGIVT9YJa3F4gs7JAlE4OC/pK+Ia31NE1t2yZWjTxK1o+ZpkbhIjQ6AA8QqX53Kg+6rpOb+HEcI0Vy3/cnlDdmT9LfIimhrmtSQnnoo3AFGh2Aexi/nL9pv0BdvGWXt6zq0LCN2ZDWOmVDpp2CTglFokbhOjQ6ANcZx1FaBJRSUsidXDMc6d4YeovdO6Hv+77v4+0Us8W28+Ls203vhGmapmla3JCECWleMY0jVC0UI+NWk9OYDkd/9/4p8eHRP/VReLs6gaAAvElSgin8TBe82ZJ1sbd//CpqEsni3bZsaPGaLIWxKcsjy0tzQHxtkbenb8gcIjt4xd/yNFn3UaDpIcnr9Xq9Xj++f3f+t32NpATgOlJym1tkv4fg+SRGDMOwuKT0ezClTrxG4WWp61rGI9gWN2R2abGGYBgGaceRbcX3DRmh6eFc9GEEriZFslPsRYrMc24Em6Zp23ZVyfp6vaqqWqwzeJPWehiGpmkivTLNkvaLJ+wbzkGNwhXowwjAorXeNl4gfRKFd0gC2Fbq072xANQonIjqBOAGpOiKj0L0l494s4J91TxI/qbPuWuv6zq0odDHj7wFeSEorDA/b9Jaa9ZgtkhKAPaitZYhA84dfCg6NE0TX+E7bRMyfcLm2+7T7tdljoS1b1F0UygCQeEs71UnANiL3YfRZAXp4T9b7qZ0MNxmdhYHe8ZG+adIWTtNU/ruvRlHIrmqbVsJXs4y57SM4GgZD9g4jRnW8r/Jz0TZ0Y/v36lOAPZl5ktWVg35QRdDGR7pr9+87jNL2gMm/TGci1MypyQDP4WYORbN26uqciZmlh2zJ1dwxnbK3sZnX3iUrIdHUqOwzramh4/Pzx9qSx/GD+ohgANImSdZwSkU92X3Iaiqyt5QKCWE7sKlxWSaJjNpwWIxbM+CEOKXXrLPZkN1Xfsb8vsfvF4vedqkmUqBlFCMjDNOCvvRbZGxPebnNPs4E7tGYUtQ+Pz8UGpzUPi/or8gAKssNkZcvqH0XqKPknWNQsa7vsjU1KnoTYNJzaHF3n16pAQFZlgCgKfKOiiU3PRgt+fZTZI2Sb72HGc7j+dhSCQAIGfFTrjkdNN1Hv1uOLFg1fPaAQAoXsk1Cj4/Afj9kNWO7X9UJwAAMldsUFhb5JuhSm3b+v8q/Rj8p0dG/NUp4ft3JlEAAGSq2KAgEvvfmh4MofE8WzozUp0AAMhfsX0UZsv72Rerqur7vm1bGQe8z+ZNSuD5TwCAnBUeFEynhFBLhHRvHIZhw3PbljEkEgCQuYxHdi6SsY7SmmBPLyrdEWRuJXsSBePdeRS86oRVT5MiJQBAYZhH4abGcayqysyTah6d4o99cAZJ7jOzGI0OAID8ZZxxEr0/4nFdjcJc74T0GgWqEwCgPNQo3Nqps47ThxEAUJZiOzNeiT6MAIBSEBT2w6xKAIDiEBT2RnUCAKAgBIWdUJ0AACgRQWEPb/dhpDoBAHBPBIX9MNIBAFAcgsLb3m50oDoBAHBb5c+jsIvQY6Z/epY0AADFyXiuqNPEZmZc6p3w8XN9gz8/I9UJAFA8ZmZ8vHB1QnzmZlICAODm6KPwBoZEAgBKR1B4G70TAADlIihsxWAHAMADEBQ24SmRAIBnICi84Y2UQHUCACALBIX16MMIAHgMgsJWVCcAAB6AoLAS1QkAgCchKGxCdQIA4BkICmtQnQAAeBiCwnoMiQQAPEbGj6k4jTw68qWUHCm75SD+KIeZVdHuAADPw0Ohyvd6vVRVKaXU9+/eEyQBACgWTQ/noToBAJAdahSSvV7qB7UJAIBnoUbhJCdXJ0i/Cszi4ERwcCI4OBEcnIjcDw5BAQAABBEUzkDvBABApggKAAAgiKAAAACCCAorfGyawrn6+Njck+X8LjDn7yoH51Zv3Cyjz8jBOeKNm2X0GXPvk7gZQQEAAAQRFI5FN0YAQNYICgAAIIigcCCqEwAAuSMoAACAoIwffHmax/Z0BQDsJd/SlqAAAACCaHoAAABBBAUAABBEUChEVVXjOJr/HMex+pnW+rKdu07XdebjO8dHa/3YwyJmDw5njrAPjv06Z44KHBzOHId/Tc73zPnb1TuAHXRdN/t6Xdfm7xzPzjdpradpkoMwTVPTNMMwyHFomkYpVdf1NE1V9cSeOpGDozhzfj449hnCmRM5OOrxZ47hd4HP+8x5IWdt25qvchgG5/Xr9usWlFJ1Xfv/Kdcy+/W2bc/euauFDg5nzjAM9ikhB0R+XJw5kYPDmWOYy7K5Jud+5tD0kDetddu2dooXdk3yybt0E/LBnbqWaZrk/+0jVtd13/en7tzVIgeHM0eYu2H7tpgzR8weHM4cMY5j3/fONTn3M4emh7xpraWBWeq1HKb6q67rp/16tdYvq3JPPr5J+k+uFFVLB0dx5rxeSqlxHOWirwJF4wPFD4569pkjmqap67rrOueanPWZQ41CmeTusG3bYRjatp2mKevT9E3mRxvqzPFkzsHhzDGappGC0I5QEP7B4cxRX2mgvIREjUKZ7PtFqXKQn/HTmLqWx97fRMweHM4c4/V62ffNpEybf3A4c7qum6ZJunEUhhqFR3hgtFdWQTgMg5MSCA2Rg2N74Jkj5Z/8rbWWfEADvIgfHNszzxylVNM0VVXJj0v+tv81UwSFAsmAZvsGKOtzdDNpLHy9Xv41y77XcfoZPcTsweHMUVaEmvXwMyd0cDhzlFJd17Vf5MSo69ppmjF/Z3bmXDLWAvuSyi57eKR8ufawpbxG47xPPnX9MzkI9hAve3zXc0QODmeOnB51XdtDIuVvzpzIweHMsTnX5NzPHIJCCfyg8Pp5Ng97xPxDzAZ2cxzs7mkPvJzFD87Dz5zXz6eHc4Y8/Mx5RQ8OZ47hX5OzPnNymx8KK8m8oVfvxU1xcCI4OFJ5PnsQODgcnG0yPTgEBQAAEERnRgAAEERQAAAAQQQFAAAQRFAAAABBBAUAABBEUAAAAEEEBQAAEERQAAAAQQQFAAAQRFAAHsGZO9Z+0B8ARBAUgEfouk5rLVmh67q+71PeJfGiqqqqquTtGx4fbLab/q/bNgTgCDzrAXgEKfKlANZaS26Iv0VrPU2T/3pd16tK8aqqlFLDMPhbNJHFvhCN49g0DZcm4CaoUQAeQQppCQrTNC2mhKqqJCXYj8qVh+emvN0mT7WebeyQwOE8ubjrutkHYQO4BDUKwIOM4yh1CfE+CrM3+kakhiC00aZpZtcmq3Jer6qqbVt6UQA3QY0CUIiu66RwNd0R/LJWWhMWy2BJCVJ/4JMKAKf1wfRm8Ldr8oT/FvVV3+C8OLuH8rlkE/RgAM7zAlCE0G/cbjt4vV51XcfXY/JB+qadtgP/7bKAs2mJCG3bOkv6ezgbWZw3AjgIQQEohJ8MTPltlpFX4uuZLdQj/GAxuwY/PczGkdkE4HyuDVEGwGY0PQBFadvWVPWbCnxTUZ9SYy/LOP0PzKAJm70V+6ZfXpkdMeHsSUq7g2zI7hKxqislgDcRFICiOKWs059Aaz3bTLBIxko45J/kD6fwlgRg5xLZrtk9+cOPI7Pb9ZeUG50NHwTAatdWaADYy+wvWm7009sRXmlND/a2IpcXpxHBf5e/Wr/Lgv8igDP97ZD0AeAeZtsR4rTWfd/PNhzY63SEhkjY6rqWMReyP7OTJczWMdDWAFyIpgegKO+PG/S7OKRsYrYHg1PAywplLgd//bONEbNSppUEsJurqzQA7EN+0YtjDVKY6gFnaOXr55GK8srsKMfQdiMXn7qu/SYGf+UMeQBOxo8NKIQpgOu6HobBFKirOigYps+jWZvMcDBb0st/tm0rS8pis9s1a/D/NZ5LZOVmr/wlARyEoAAUwhSodlm+LSWIyDRHUt5HlgxtN1RXEZngwR+mQUoAzsSzHoBC2M9NGMfRdAV4k6xKLT0t2iy5uFjovSraQeGdlQN4B0EBKMTsA5aMUPnKQxMAxDHqAXgEExTsuZK4OwewiBoFoBDxGgV7sbquqUgAkIgJl4BCpEx5BABrERSAQtCOAOAI9FEAAABBBAUAABBEUAAAAEEEBQAAEERQAAAAQcyjAAAAgqhRAAAAQQQFAAAQRFAAAABBBAUAABBEUAAAAEH/H9H6RFDxZc4SAAAAAElFTkSuQmCC\n",
>>>>>>> 5437d17d4038f9e6ccce87e6f8f7e654343be26b
      "text/plain": [
       "<IPython.core.display.Image object>"
      ]
     },
     "metadata": {},
     "output_type": "display_data"
    }
   ],
   "source": [
    "from ROOT import TF1\n",
    "from ROOT import TMath\n",
    "\n",
    "pGeV_Edges = np.asarray([12,15,20,25,40,55])\n",
    "pGeV_Centers = (pGeV_Edges[1:] + pGeV_Edges[:-1]) / 2\n",
    "pGeV_Widths = [(j-i)/2 for i, j in zip(pGeV_Edges[:-1], pGeV_Edges[1:])]\n",
    "#print(pGeV_Widths)\n",
    "\n",
    "#Distance to Bad Channel >= 2\n",
    "#Purity = [0.21,0.346,0.498,0.561,0.561]\n",
    "#Purity_stat_error = np.asarray([0.012,0.014,0.019,0.020,0.020])\n",
    "#Purity_sys_error = np.asarray([0.029,0.028,0.051,0.045,0.045])\n",
    "\n",
    "Purity = [0.2060,0.3410,0.4710,0.5460,0.5460]\n",
    "Purity_stat_error = np.asarray([0.0110,0.0120,0.0180,0.0190,0.0190])\n",
    "Purity_sys_error = np.asarray([0.0280,0.0280,0.0470,0.0540,0.0540])\n",
    "\n",
    "Purity_errors = np.sqrt(Purity_stat_error**2 + Purity_sys_error**2)\n",
    "\n",
    "print(len(Purity_errors))\n",
    "\n",
    "#Fill a TGraph with Purity Information\n",
    "Purity_Graph = ROOT.TGraphErrors()\n",
    "for izt in range (len(Purity)):\n",
    "\n",
    "    Purity_Graph.SetPoint(izt,pGeV_Centers[izt],Purity[izt])\n",
    "    Purity_Graph.SetPointError(izt,pGeV_Widths[izt],Purity_errors[izt])\n",
    "    \n",
    "    #Purity_Graph.SetPointError(izt,0,Purity_errors[izt])\n",
    "    #Purity_Graph.SetPoint(izt,pGeV_Edges[izt],Purity[izt])\n",
    "\n",
    "#Define your function and set parameters (notice use of string)\n",
    "func = TF1(\"func\",'[0]*TMath::Erf((x-[1])/[2])',12,40)\n",
    "func.SetParameter(0,0.55)\n",
    "func.SetParameter(1,8.0)\n",
    "func.SetParameter(2,12.0)\n",
    "\n",
    "Purity_Graph.Fit(\"func\",\"S\")\n",
    "\n",
    "Fit_Band = ROOT.TGraphErrors(len(Purity));\n",
    "pGeV_Edges_3 = np.linspace(12,40,40)\n",
    "for i in range(len(pGeV_Edges_3)):\n",
    "        Fit_Band.SetPoint(i, pGeV_Edges_3[i], 0)\n",
    "(ROOT.TVirtualFitter.GetFitter()).GetConfidenceIntervals(Fit_Band,0.68)\n",
    "    \n",
    "c = ROOT.TCanvas()\n",
    "c.SetRightMargin(0.09);\n",
    "c.SetLeftMargin(0.14);\n",
    "c.SetBottomMargin(0.125);\n",
    "c.SetTopMargin(0.08)\n",
    "\n",
    "Purity_Graph.SetTitle(\"Error Function Fit to Purity (p-Pb)\")\n",
    "#Purity_Graph.SetMarkerStyle(8)\n",
    "Purity_Graph.SetMarkerSize(0.5)\n",
    "Purity_Graph.SetMarkerColorAlpha(4,1.0)\n",
    "Purity_Graph.Draw(\"AP\")\n",
    "\n",
    "x = Purity_Graph.GetXaxis()\n",
    "x.SetRangeUser(12.0,40.0)\n",
    "x.SetTitle(\"p_{T}^{#gamma} GeV/#it{c}\")\n",
    "x.SetTitleSize(0.045)\n",
    "x.SetTitleOffset(1.15)\n",
    "x.CenterTitle()\n",
    "\n",
    "y = Purity_Graph.GetYaxis()\n",
    "y.SetTitleSize(0.055)\n",
    "y.SetTitle(\"purity\")\n",
    "y.SetTitleOffset(1.0)\n",
    "y.CenterTitle()\n",
    "y.SetRangeUser(0.14,0.66)\n",
    "\n",
    "fit = Purity_Graph.Fit(\"func\",\"S\")\n",
    "print(fit)\n",
    "print(\"proton-lead\")\n",
    "print(\"{\"),\n",
    "print(fit.Parameters()[0]),\n",
    "print(\",\")\n",
    "print(fit.Parameters()[1]),\n",
    "print(\",\")\n",
    "print(fit.Parameters()[2])\n",
    "print(\"}\")\n",
    "\n",
    "latex = ROOT.TLatex();\n",
    "latex.SetTextSize(0.05);\n",
    "latex.SetTextAlign(13);  #align at top\n",
    "#latex.DrawLatex(25,.35,\"#font[12]{a #times Erf((x - b) / c)}\")\n",
    "latex.DrawLatex(29,.31,\"#font[132]{a = %1.2f #pm %1.2f}\"%(fit.Parameters()[0],fit.ParError(0)))\n",
    "latex.DrawLatex(29,.27,\"#font[132]{b = %1.2f #pm %1.2f}\"%(fit.Parameters()[1],fit.ParError(1)))\n",
    "latex.DrawLatex(29,.23,\"#font[132]{c = %1.1f #pm %1.1f}\"%(fit.Parameters()[2],fit.ParError(2)))\n",
    "\n",
    "legend = ROOT.TLegend(0.56,0.46,0.86,0.57)\n",
    "#legend = ROOT.TLegend(0.18,0.88,0.4,0.75)\n",
    "legend.AddEntry(Purity_Graph,\"Data\")\n",
    "legend.AddEntry(Fit_Band,\"#scale[1.1]{#font[132]{a #upoint #it{Erf}((x - b) / c)}}\")\n",
    "legend.Draw()\n",
    "\n",
    "Fit_Band.SetLineColor(ROOT.kRed);\n",
    "Fit_Band.SetFillColorAlpha(ROOT.kRed,0.2)\n",
    "Fit_Band.Draw(\"same3\");\n",
    "c.Draw()\n",
    "c.SaveAs(\"pics/LO/%s/p-Pb_Err_Function_Purity.pdf\"%(description_string))\n",
    "\n",
    "print(\"\")\n",
    "fit_vals = []\n",
    "for x in pGeV_Edges_3:\n",
    "    Err_val = fit.Parameters()[0]*TMath.Erf((x-fit.Parameters()[1])/fit.Parameters()[2])\n",
    "    fit_vals.append(Err_val)\n",
    "    print(\"%1.6f\"%(Err_val)),\n",
    "print(\"\\n\")\n",
    "print(\"\")"
   ]
  },
  {
   "cell_type": "markdown",
   "metadata": {},
   "source": [
    "## Compare pp and p-Pb Fits"
   ]
  },
  {
   "cell_type": "code",
<<<<<<< HEAD
   "execution_count": 18,
   "metadata": {},
   "outputs": [
    {
     "data": {
      "text/plain": [
       "<matplotlib.legend.Legend at 0x2aaafe73e9d0>"
      ]
     },
     "execution_count": 18,
=======
   "execution_count": 7,
   "metadata": {},
   "outputs": [
    {
     "name": "stdout",
     "output_type": "stream",
     "text": [
      "0.564400011365\n",
      "8.81589638183\n",
      "12.5209151159\n"
     ]
    },
    {
     "data": {
      "text/plain": [
       "<matplotlib.legend.Legend at 0x12258d5d0>"
      ]
     },
     "execution_count": 7,
>>>>>>> 5437d17d4038f9e6ccce87e6f8f7e654343be26b
     "metadata": {},
     "output_type": "execute_result"
    },
    {
     "data": {
<<<<<<< HEAD
      "image/png": "iVBORw0KGgoAAAANSUhEUgAAAecAAAHfCAYAAABqJBCUAAAABHNCSVQICAgIfAhkiAAAAAlwSFlz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\nTkSuQmCC\n",
      "text/plain": [
       "<matplotlib.figure.Figure at 0x2aaafe74dc50>"
      ]
     },
     "metadata": {},
=======
      "image/png": "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\n",
      "text/plain": [
       "<matplotlib.figure.Figure at 0x1039491d0>"
      ]
     },
     "metadata": {
      "needs_background": "light"
     },
>>>>>>> 5437d17d4038f9e6ccce87e6f8f7e654343be26b
     "output_type": "display_data"
    }
   ],
   "source": [
    "from ROOT import TF1\n",
    "from ROOT import TMath\n",
    "#print(\"pT GeV/c:  \"),\n",
    "#for i in range(len(pGeV_Edges_3)):\n",
    "    #print(pGeV_Edges_3[i]),\n",
    "#print(\"\")\n",
    "\n",
    "# Data\n",
    "pGeV_Edges = np.asarray([12,15,20,25,40,55])\n",
    "pGeV_Centers = (pGeV_Edges[1:] + pGeV_Edges[:-1]) / 2\n",
    "pGeV_Widths = [(j-i)/2 for i, j in zip(pGeV_Edges[:-1], pGeV_Edges[1:])]\n",
    "\n",
    "\n",
    "pPb_Purity = [0.21,0.346,0.498,0.561,0.561]    \n",
    "pPb_Purity_stat_error = np.asarray([0.012,0.014,0.019,0.020,0.020])\n",
    "pPb_Purity_sys_error = np.asarray([0.029,0.028,0.051,0.045,0.045])\n",
    "pPb_Purity_errors = np.sqrt(pPb_Purity_stat_error**2 + pPb_Purity_sys_error**2)\n",
    "\n",
    "pp_Purity = [0.206,0.296,0.460,0.499,0.499]\n",
    "pp_Purity_stat_error = np.asarray([0.018,0.023,0.032,0.038,0.038])\n",
    "pp_Purity_sys_error = np.asarray([0.052,0.034,0.064,0.081,0.081])\n",
    "pp_Purity_errors = np.sqrt(pp_Purity_stat_error**2 + pp_Purity_sys_error**2)\n",
    "\n",
    "#Fits\n",
    "fit_vals_pp = []\n",
    "fit_vals_pPb = []\n",
    "\n",
    "\n",
    "#print(\"Purity Val:\"),\n",
    "pGeV_Edges_3 = np.linspace(12,40,40)\n",
    "for x in pGeV_Edges_3:\n",
    "    Err_val_pPb = 0.564400011365*TMath.Erf((x-8.81589638183)/12.5209151159)\n",
    "    Err_val_pp = 0.507999134652*TMath.Erf((x-8.33474628579)/13.3714887905)\n",
    "    \n",
    "    fit_vals_pp.append(Err_val_pp)\n",
    "    fit_vals_pPb.append(Err_val_pPb)\n",
    "\n",
    "    #print(\"%1.6f\"%(Err_val)),\n",
    "#print(\"\")\n",
    "\n",
    "fit_errors = []\n",
    "\n",
<<<<<<< HEAD
    "fig = plt.figure(figsize=(8,8))\n",
    "\n",
    "plt.plot(pGeV_Edges_3,fit_vals_pp,color=\"blue\",label=\"pp Fit\")\n",
    "plt.plot(pGeV_Edges_3,fit_vals_pPb,color=\"red\",label=\"p-Pb Fit\")\n",
    "plt.errorbar(pGeV_Centers,pp_Purity,xerr=pGeV_Widths,yerr=pp_Purity_errors,color=\"c\",label=\"pp Data\")\n",
    "plt.errorbar(pGeV_Centers,pPb_Purity,xerr=pGeV_Widths,yerr=pPb_Purity_errors,color=\"m\",alpha=0.7,label=\"p-Pb Data\")\n",
    "plt.xlim(12,40)\n",
    "#plt.plot(pGeV_Edges_3,fit_vals_New,color=\"cyan\",label=\"Bit Centers\")\n",
    "#plt.errorbar(pGeV_Centers,Purity,xerr=pGeV_Widths,color=\"k\",label=\"Data\")\n",
    "plt.legend(loc='best',numpoints=1)"
=======
    "plt.plot(pGeV_Edges_3,fit_vals_pp,color=\"blue\",label=\"pp\")\n",
    "plt.plot(pGeV_Edges_3,fit_vals_pPb,color=\"red\",label=\"p-Pb\")\n",
    "#plt.plot(pGeV_Edges_3,fit_vals_New,color=\"cyan\",label=\"Bit Centers\")\n",
    "#plt.errorbar(pGeV_Centers,Purity,xerr=pGeV_Widths,color=\"k\",label=\"Data\")\n",
    "plt.legend()"
>>>>>>> 5437d17d4038f9e6ccce87e6f8f7e654343be26b
   ]
  },
  {
   "cell_type": "code",
<<<<<<< HEAD
   "execution_count": 8,
=======
   "execution_count": 13,
>>>>>>> 5437d17d4038f9e6ccce87e6f8f7e654343be26b
   "metadata": {},
   "outputs": [
    {
     "ename": "NameError",
     "evalue": "name 'fit' is not defined",
     "output_type": "error",
     "traceback": [
      "\u001b[1;31m\u001b[0m",
      "\u001b[1;31mNameError\u001b[0mTraceback (most recent call last)",
      "\u001b[1;32m<ipython-input-8-af69293215da>\u001b[0m in \u001b[0;36m<module>\u001b[1;34m()\u001b[0m\n\u001b[0;32m      8\u001b[0m \u001b[0mfit_vals\u001b[0m \u001b[1;33m=\u001b[0m \u001b[1;33m[\u001b[0m\u001b[1;33m]\u001b[0m\u001b[1;33m\u001b[0m\u001b[0m\n\u001b[0;32m      9\u001b[0m \u001b[0mfit_vals_Old\u001b[0m \u001b[1;33m=\u001b[0m \u001b[1;33m[\u001b[0m\u001b[1;33m]\u001b[0m\u001b[1;33m\u001b[0m\u001b[0m\n\u001b[1;32m---> 10\u001b[1;33m \u001b[1;32mprint\u001b[0m \u001b[0mfit\u001b[0m\u001b[1;33m.\u001b[0m\u001b[0mParameters\u001b[0m\u001b[1;33m(\u001b[0m\u001b[1;33m)\u001b[0m\u001b[1;33m[\u001b[0m\u001b[1;36m0\u001b[0m\u001b[1;33m]\u001b[0m\u001b[1;33m\u001b[0m\u001b[0m\n\u001b[0m\u001b[0;32m     11\u001b[0m \u001b[1;32mprint\u001b[0m \u001b[0mfit\u001b[0m\u001b[1;33m.\u001b[0m\u001b[0mParameters\u001b[0m\u001b[1;33m(\u001b[0m\u001b[1;33m)\u001b[0m\u001b[1;33m[\u001b[0m\u001b[1;36m1\u001b[0m\u001b[1;33m]\u001b[0m\u001b[1;33m\u001b[0m\u001b[0m\n\u001b[0;32m     12\u001b[0m \u001b[1;32mprint\u001b[0m \u001b[0mfit\u001b[0m\u001b[1;33m.\u001b[0m\u001b[0mParameters\u001b[0m\u001b[1;33m(\u001b[0m\u001b[1;33m)\u001b[0m\u001b[1;33m[\u001b[0m\u001b[1;36m2\u001b[0m\u001b[1;33m]\u001b[0m\u001b[1;33m\u001b[0m\u001b[0m\n",
      "\u001b[1;31mNameError\u001b[0m: name 'fit' is not defined"
     ]
<<<<<<< HEAD
=======
    },
    {
     "data": {
      "text/plain": [
       "<matplotlib.legend.Legend at 0x12530da10>"
      ]
     },
     "execution_count": 13,
     "metadata": {},
     "output_type": "execute_result"
    },
    {
     "data": {
      "image/png": "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\n",
      "text/plain": [
       "<matplotlib.figure.Figure at 0x12522b510>"
      ]
     },
     "metadata": {
      "needs_background": "light"
     },
     "output_type": "display_data"
>>>>>>> 5437d17d4038f9e6ccce87e6f8f7e654343be26b
    }
   ],
   "source": [
    "\n",
    "#print(\"pT GeV/c:  \"),\n",
    "#for i in range(len(pGeV_Edges_3)):\n",
    "    #print(pGeV_Edges_3[i]),\n",
    "#print(\"\")\n",
    "\n",
    "fit_vals_New = []\n",
    "fit_vals = []\n",
    "fit_vals_Old = []\n",
    "print fit.Parameters()[0]\n",
    "print fit.Parameters()[1]\n",
    "print fit.Parameters()[2]\n",
    "\n",
    "\n",
    "#print(\"Purity Val:\"),\n",
    "pGeV_Edges_3 = np.linspace(12,40,40)\n",
    "for x in pGeV_Edges_3:\n",
    "    #Err_val_Old = 0.542257*TMath.Erf((x-8.09242)/11.8085)\n",
    "    Err_val_Old = 0.535827209253*TMath.Erf((x-9.46305649534)/11.3188096455)\n",
    "    Err_val = 0.539705386488*TMath.Erf((x-8.88586771026)/12.2892853578)\n",
    "    Err_val_New = 0.564400011365*TMath.Erf((x-8.81589638183)/12.5209151159)\n",
    "    \n",
    "    fit_vals.append(Err_val)\n",
    "    fit_vals_Old.append(Err_val_Old)\n",
    "    fit_vals_New.append(Err_val_New)\n",
    "    #print(\"%1.6f\"%(Err_val)),\n",
    "#print(\"\")\n",
    "\n",
    "fit_errors = []\n",
    "#print(\"P Uncert.: \"),\n",
    "for i in range(len(pGeV_Edges_3)):\n",
    "    fit_errors.append(Fit_Band.GetErrorY(i))\n",
    "    #print(\"%1.2f\"%(Fit_Band.GetErrorY(i))),\n",
    "#print(\"\\n\")\n",
    "\n",
    "#plt.plot(pGeV_Edges_3,fit_vals,color=\"blue\",label=\"Bin Centers, No X-Err\")\n",
    "plt.plot(pGeV_Edges_3,fit_vals_Old,color=\"red\",label=\"Bin Edges, No X-Err\")\n",
    "plt.plot(pGeV_Edges_3,fit_vals_New,color=\"cyan\",label=\"Latest, fewer Bins\")\n",
    "plt.errorbar(pGeV_Centers,Purity,xerr=pGeV_Widths,color=\"k\",label=\"Data\")\n",
    "plt.legend()"
   ]
  },
  {
   "cell_type": "code",
<<<<<<< HEAD
   "execution_count": 10,
=======
   "execution_count": 9,
>>>>>>> 5437d17d4038f9e6ccce87e6f8f7e654343be26b
   "metadata": {},
   "outputs": [],
   "source": [
    "#Old Purity Val: 0.195322 0.257569 0.313537 0.362468 0.404063 0.438445 0.466078 0.487672 0.504081 0.516205 0.524915 0.531000 0.535132 0.537862 0.539615 0.540709 0.541374 0.541766 0.541991 0.542117 0.542185\n",
    "#New Purity Val: 0.152395 0.214219 0.271331 0.322836 0.368178 0.407144 0.439834 0.466605 0.488008 0.504711 0.517436 0.526900 0.533771 0.538641 0.542010 0.544285 0.545785 0.546751 0.547358 0.547730 0.547952 \n",
    "#P Uncert :      0.03 0.02 0.02 0.02 0.03 0.03 0.03 0.03 0.03 0.03 0.03 0.03 0.03 0.04 0.04 0.04 0.04 0.04 0.04 0.04 0.04"
   ]
  },
  {
   "cell_type": "code",
<<<<<<< HEAD
   "execution_count": 6,
=======
   "execution_count": 10,
>>>>>>> 5437d17d4038f9e6ccce87e6f8f7e654343be26b
   "metadata": {},
   "outputs": [
    {
     "name": "stdout",
     "output_type": "stream",
     "text": [
      "40305.0\n",
      "105444.0\n",
      "11\n",
      "11\n"
     ]
    },
    {
     "name": "stderr",
     "output_type": "stream",
     "text": [
      "Warning in <TH1F::Rebin>: ngroup=5 is not an exact divider of nbins=56.\n",
      "Warning in <TH1F::Rebin>: ngroup=5 is not an exact divider of nbins=56.\n",
      "Warning in <TH1F::Rebin>: ngroup=5 is not an exact divider of nbins=56.\n"
     ]
    },
    {
     "data": {
      "image/png": "iVBORw0KGgoAAAANSUhEUgAAAg0AAAIUCAYAAACZwR/HAAAABHNCSVQICAgIfAhkiAAAAAlwSFlz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\nwkSDYRiGYRgpYaLBMAzDMIyU+H/8xab05yG34gAAAABJRU5ErkJggg==\n",
      "text/plain": [
<<<<<<< HEAD
       "<matplotlib.figure.Figure at 0x2aab01c7cc90>"
=======
       "<matplotlib.figure.Figure at 0x124c2a310>"
>>>>>>> 5437d17d4038f9e6ccce87e6f8f7e654343be26b
      ]
     },
     "metadata": {},
     "output_type": "display_data"
    }
   ],
   "source": [
    "#Shower_Shape = \"NN\"\n",
    "Shower_Shape = \"L0\"\n",
    "\n",
    "#System = \"pp\"\n",
    "System = \"pPb\"\n",
    "\n",
    "#File = '../InputData/zT_Rebin_8_006zT06zTOldBinNewNewPurity/13f_SE_L0_Correlation.root'\n",
    "#File = '../InputData/zT_Rebin_8_006zT06zT/pPb_SE_L0_Correlation.root'\n",
    "File = '../InputData/zT_Rebin_8_006zT06zT/%s_SE_L0_Correlation.root'%(System)\n",
    "file = ROOT.TFile(File)\n",
    "\n",
    "SIG = file.Get(\"Signal_pT_Dist\")\n",
    "SIG.Rebin(5)\n",
    "print(SIG.GetEntries())\n",
    "BKGD = file.Get(\"BKGD_pT_Dist\")\n",
    "BKGD.Rebin(5)\n",
    "print(BKGD.GetEntries())\n",
    "BKGD_W = file.Get(\"BKGD_pT_Dist_Weighted\")\n",
    "BKGD_W.Rebin(5)\n",
    "\n",
    "N_Bins = SIG.GetSize() - 2 #Ignero under/overflow\n",
    "Signal = np.zeros(N_Bins)\n",
    "S_Error = np.zeros(N_Bins)\n",
    "\n",
    "Background = np.zeros(N_Bins)\n",
    "B_Error = np.zeros(N_Bins)\n",
    "\n",
    "Background_W = np.zeros(N_Bins)\n",
    "BW_Error = np.zeros(N_Bins)\n",
    "\n",
    "for i in range(1,N_Bins+1):\n",
    "    Signal[i-1] = SIG.GetBinContent(i)\n",
    "    S_Error[i-1] = SIG.GetBinError(i)\n",
    "    #print(SIG.GetBinError(i))\n",
    "\n",
    "    Background[i-1] = BKGD.GetBinContent(i)\n",
    "    B_Error[i-1] = BKGD.GetBinError(i)\n",
    "    \n",
    "    Background_W[i-1] = BKGD_W.GetBinContent(i)\n",
    "    BW_Error[i-1] = BKGD_W.GetBinError(i)\n",
    "\n",
    "S_Scale = Signal.sum(axis=0)\n",
    "Signal = Signal/S_Scale\n",
    "S_Error = S_Error/S_Scale\n",
    "\n",
    "B_Scale = Background.sum(axis=0)\n",
    "Background = Background/B_Scale\n",
    "B_Error = B_Error/B_Scale\n",
    "\n",
    "B_Scale_W = Background_W.sum(axis=0)\n",
    "Background_W = Background_W/B_Scale_W\n",
    "BW_Error = BW_Error/B_Scale_W\n",
    "    \n",
    "print(Signal.size)\n",
    "print(S_Error.size)\n",
    "\n",
    "pT_Axis = np.linspace(10,40,N_Bins)\n",
    "\n",
    "fig = plt.figure(figsize=(8,8))\n",
    "#plt.yscale('log')\n",
    "plt.ylabel(r\"$\\frac{1}{N_{\\mathrm{\\gamma}}}\\frac{\\mathrm{d}N}{\\mathrm{d}z_{\\mathrm{T}}\\mathrm{d}\\Delta\\phi\\mathrm{d}\\\n",
    "\\Delta\\eta}$\",fontsize=24)\n",
    "#plt.ylim(0.037,15)\n",
    "plt.yticks(fontsize=16)\n",
    "plt.xticks(fontsize=16)\n",
    "    \n",
    "\n",
    "plt.errorbar(pT_Axis,Signal,yerr = S_Error,label=\"Signal Region Clusters ($\\sigma^{2}_{Long}$ < 0.3)\")\n",
    "plt.errorbar(pT_Axis,Background,yerr = B_Error,label=\"Background Region Clusters ($\\sigma^{2}_{Long}$ > 0.4)\")\n",
    "plt.errorbar(pT_Axis,Background_W,yerr = BW_Error,fmt = \"--r\",label=\"Weighted Bkg Region Clusters ($\\sigma^{2}_{Long}$ > 0.4)\")\n",
    "\n",
    "plt.title(r\"Isolated Cluster $p_{\\mathrm{T}}$ Distribution (%s)\"%(System),fontsize=22)\n",
    "    #plt.ylim(0,0.01)\n",
    "    \n",
    "plt.xlabel(r'Cluster $p_{\\mathrm{T}}\\ \\mathrm{GeV}/c$',fontsize=20)\n",
    "plt.ylabel(r'(Normalized)',fontsize=22)\n",
    "plt.legend(loc='best',fontsize=16)\n",
    "fig.savefig('pics/LO/%s/%s_Cluster_pT_Weighted.pdf'%(description_string,System), bbox_inches='tight')"
   ]
  },
  {
   "cell_type": "markdown",
   "metadata": {},
   "source": [
    "## Tracking Plots"
   ]
  },
  {
   "cell_type": "code",
   "execution_count": 9,
   "metadata": {},
   "outputs": [
    {
     "name": "stdout",
     "output_type": "stream",
     "text": [
      "29\n"
     ]
    }
   ],
   "source": [
    "Trak_pT_Bin_Edges = np.asarray([0.5,0.55,0.6,0.65,0.7,0.75,0.8,0.85,0.9,0.95,1.0,1.1,1.2,1.4,1.6,1.8,2.0,2.2,2.4,2.6,2.8,3.0,3.2,3.6,4.0,5.0,6.0,8.0,10.0,13.0])\n",
    "Track_pT_Bin_Centers = (Trak_pT_Bin_Edges[1:] + Trak_pT_Bin_Edges[:-1]) / 2\n",
    "N = np.size(Track_pT_Bin_Centers)\n",
    "\n",
    "pp_pT_Smearing = [6.6191, 6.65571, 6.56695, 6.51978, 6.49608, 6.47773, 6.4682, 6.48072, 6.48906, 6.49845, 6.51644, 6.52091, 6.51609, 6.56099, 6.60019, 6.61228, 6.63785, 6.68066, 6.76335, 6.81242, 6.90764, 7.07231, 7.26916, 7.43247, 7.53505, 7.7076, 7.86352, 8.05263, 8.28094, 8.60031, 9.23759, 9.93452, 11.405, 12.7578, 15.7377, 19.0257, 23.4558] \n",
    "pp_pT_Smearing = pp_pT_Smearing[-N:]\n",
    "\n",
    "pPb_pT_Smearing = [6.6191, 6.65571, 6.56695, 6.51978, 6.49608, 6.47773, 6.4682, 6.48072, 6.48906, 6.49845, 6.51644, 6.52091, 6.51609, 6.56099, 6.60019, 6.61228, 6.63785, 6.68066, 6.76335, 6.81242, 6.90764, 7.07231, 7.26916, 7.43247, 7.53505, 7.7076, 7.86352, 8.05263, 8.28094, 8.60031, 9.23759, 9.93452, 11.405, 12.7578, 15.7377, 19.0257, 23.4558] \n",
    "pPb_pT_Smearing = pPb_pT_Smearing[-N:]\n",
    "\n"
   ]
  },
  {
   "cell_type": "markdown",
   "metadata": {},
   "source": [
    "## Look at Arbitrary Ratios"
   ]
  },
  {
   "cell_type": "code",
   "execution_count": null,
   "metadata": {},
   "outputs": [],
   "source": [
    "#File1 = \"../InputData/pp_GMB_RATIO_COMBINED_OLD.root\"\n",
    "#File2 = \"../InputData/05zT/pp_GMB_RATIO_COMBINED_NEW.root\"\n",
    "\n",
    "#File1 = \"../InputData/05zT/13f_0GeVTracks_Mixed_300_Correlation_Lambda.root\"\n",
    "#File2 = \"../InputData/1zT/13f_0GeVTrack_paired_0GeVTracks_Correlation_Lambda_0_to_300.root\"\n",
    "\n",
    "#File1 = \"../InputData/05zT/13f_SE_L0_Correlation.root\"\n",
    "#File2 = \"../InputData/1zT/13f_SE_L0_Correlation.root\"\n",
    "\n",
    "#File1=\"../InputData/13f_SE_L0_Correlation15_min.root\"\n",
    "#File2=\"../InputData/13f_SE_L0_Correlation12_min.root\"\n",
    "\n",
    "#File1=\"../InputData/pT_Rebin_4_Weights/13f_0GeVTracks_Mixed_300_Correlation_Lambda.root\"\n",
    "#File2=\"../InputData/pT_Rebin_4_Weights/13f_0GeVTracks_Mixed_300_Correlation_Lambda.root\"\n",
    "#File1=\"../InputData/pT_Rebin_1_pDevPlus/13f_0GeVTracks_Mixed_300_Correlation_Lambda.root\"\n",
    "#File2=\"../InputData/pT_Rebin_1/13f_0GeVTracks_Mixed_300_Correlation_Lambda.root\"\n",
    "File1=\"../InputData/pT_Rebin_1_pDevNONE/pPb_SE_L0_Correlatioooon_GMB_Ratio.root\"\n",
    "File2=\"../InputData/pT_Rebin_1_pDevNONE/pPb_SE_L0_Correlation_GMB_Ratio.root\"\n",
    "\n",
    "\n",
    "File1=pPb_File\n",
    "File2=pp_File\n",
    "\n",
    "#File1=\"../InputData/05zT/13f_SE_L0_Correlation.root\"\n",
    "#File2 = \"../InputData/pT_Rebin_4/13f_SE_L0_Correlation.root\"\n",
    "\n",
    "file1 = ROOT.TFile(File1)\n",
    "file2 = ROOT.TFile(File2)\n",
    "\n",
    "for ipt in range (N_pT_Bins):\n",
    "    fig = plt.figure(figsize=(15,10))\n",
    "\n",
    "    for izt in range (0,NzT-ZT_OFF_PLOT):\n",
    "        ax = fig.add_subplot(3,3,izt+1)\n",
    "\n",
    "        Histo1 = file1.Get(\"DNN1_Correlation__pT%1.0f_%1.0f__zT%1.0f_zT%1.0f\"%(pTbins[ipt],pTbins[ipt+1],zTbins[izt]*100,zTbins[izt+1]*100))\n",
    "        #print((\"Correlation__pT%1.0f_%1.0f__zT%1.0f_%1.0f\"%(pTbins[ipt],pTbins[ipt+1],zTbins[izt]*100,zTbins[izt+1]*100)))\n",
    "        Histo2 = file2.Get(\"DNN2_Correlation__pT%1.0f_%1.0f__zT%1.0f_zT%1.0f\"%(pTbins[ipt],pTbins[ipt+1],zTbins[izt]*100,zTbins[izt+1]*100))\n",
    "\n",
    "\n",
    "        HISTO1 = Histo1.ProjectionX(\"Sig_Phi\",0,-1)\n",
    "        HISTO2 = Histo2.ProjectionX(\"Bkg_Phi\",0,-1)\n",
    "\n",
    "        HISTO1.Divide(HISTO2)\n",
    "\n",
    "        Signal = root_numpy.hist2array(HISTO1)\n",
    "        Background = root_numpy.hist2array(HISTO2)\n",
    "\n",
    "        N_Bins = HISTO1.GetSize() - 2 #Ignero under/overflow\n",
    "        S_Error = np.zeros(N_Bins)\n",
    "        B_Error = np.zeros(N_Bins)\n",
    "        for i in range(1,N_Bins+1):\n",
    "            S_Error[i-1] = HISTO1.GetBinError(i)\n",
    "            B_Error[i-1] = HISTO2.GetBinError(i)\n",
    "\n",
    "        Corr_Axis = np.linspace(0,3.14159,N_Bins)\n",
    "\n",
    "        #print(HISTO1)\n",
    "\n",
    "\n",
    "        plt.errorbar(Corr_Axis,Signal,yerr = S_Error,label=\"Signal Clusters ($\\lambda^{2}_{0}$ < 0.4)\")\n",
    "        #plt.errorbar(Corr_Axis,Background,yerr = B_Error,label=\"Signal Clusters ($\\lambda^{2}_{0}$ < 0.4)\")\n",
    "\n",
    "        plt.ylim(0.5,2.5)\n",
    "#plt.title(r\"Isolated Cluster $p_{\\mathrm{T}}$ Distribution  $\\lambda$\")\n",
    "#plt.ylim(0.5,0.58)\n",
    "#plt.ylim(1.9,2.0)\n"
   ]
  },
  {
   "cell_type": "code",
   "execution_count": 7,
   "metadata": {},
   "outputs": [
    {
     "name": "stdout",
     "output_type": "stream",
     "text": [
      "0.513506511244\n",
      "8.93208262157\n",
      "16.3546687477\n",
      "0.583623215723\n",
      "6.01093079864\n",
      "19.3085260578\n",
      " FCN=0.461499 FROM MIGRAD    STATUS=CONVERGED      82 CALLS          83 TOTAL\n",
      "                     EDM=6.31518e-07    STRATEGY= 1      ERROR MATRIX ACCURATE \n",
      "  EXT PARAMETER                                   STEP         FIRST   \n",
      "  NO.   NAME      VALUE            ERROR          SIZE      DERIVATIVE \n",
      "   1  p0           5.13506e-01   1.52721e-02   4.30927e-06  -2.91794e-03\n",
      "   2  p1           8.93206e+00   1.10566e+00   2.21257e-04  -6.29278e-04\n",
      "   3  p2           1.63546e+01   2.35090e+00   3.43740e-04  -7.11200e-04\n",
      " FCN=0.461499 FROM MIGRAD    STATUS=CONVERGED      36 CALLS          37 TOTAL\n",
      "                     EDM=5.64258e-07    STRATEGY= 1      ERROR MATRIX ACCURATE \n",
      "  EXT PARAMETER                                   STEP         FIRST   \n",
      "  NO.   NAME      VALUE            ERROR          SIZE      DERIVATIVE \n",
      "   1  p0           5.13507e-01   1.52723e-02   4.30904e-06  -4.01985e-02\n",
      "   2  p1           8.93208e+00   1.10566e+00   2.21456e-04   3.16657e-04\n",
      "   3  p2           1.63547e+01   2.35092e+00   3.43734e-04  -9.02431e-05\n",
      " FCN=0.448504 FROM MIGRAD    STATUS=CONVERGED      87 CALLS          88 TOTAL\n",
      "                     EDM=3.61643e-07    STRATEGY= 1      ERROR MATRIX ACCURATE \n",
      "  EXT PARAMETER                                   STEP         FIRST   \n",
      "  NO.   NAME      VALUE            ERROR          SIZE      DERIVATIVE \n",
      "   1  p0           5.83622e-01   1.85578e-02   4.25901e-06  -2.27902e-02\n",
      "   2  p1           6.01082e+00   1.58849e+00   2.41491e-04  -8.21984e-04\n",
      "   3  p2           1.93085e+01   3.11204e+00   3.37053e-04  -9.68956e-05\n",
      " FCN=0.448504 FROM MIGRAD    STATUS=CONVERGED      40 CALLS          41 TOTAL\n",
      "                     EDM=2.42855e-07    STRATEGY= 1      ERROR MATRIX ACCURATE \n",
      "  EXT PARAMETER                                   STEP         FIRST   \n",
      "  NO.   NAME      VALUE            ERROR          SIZE      DERIVATIVE \n",
      "   1  p0           5.83623e-01   1.85584e-02   4.25951e-06  -4.83775e-02\n",
      "   2  p1           6.01093e+00   1.58847e+00   2.41503e-04   2.87102e-04\n",
      "   3  p2           1.93085e+01   3.11209e+00   3.37108e-04   5.66938e-04\n"
     ]
    },
    {
     "data": {
      "image/png": "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\n",
      "text/plain": [
       "<IPython.core.display.Image object>"
      ]
     },
     "metadata": {},
     "output_type": "display_data"
    }
   ],
   "source": [
    "from ROOT import TF1\n",
    "from ROOT import TMath\n",
    "\n",
    "#Define pT Bins and Range\n",
    "pGeV_Edges_3 = np.linspace(12,40,29)\n",
    "\n",
    "#Define your function and set parameters (notice use of string)ee\n",
    "Purity_Graph.Draw(\"\")\n",
    "Fit_Band.SetLineColor(ROOT.kRed);\n",
    "Fit_Band.SetFillColorAlpha(ROOT.kRed,0.2)\n",
    "Fit_Band.Draw(\"same3\");\n",
    "\n",
    "#Fill a TGraph with Purity Information\n",
    "Purity_Graph_fit_bottom = ROOT.TGraphErrors()\n",
    "for izt in range (len(pGeV_Edges_3)):\n",
    "    Purity_Graph_fit_bottom.SetPoint(izt,pGeV_Edges_3[izt],fit_vals[izt]-fit_errors[izt])\n",
    "    Purity_Graph_fit_bottom.SetPointError(izt,0,fit_errors[izt])\n",
    "Purity_Graph_fit_bottom.Fit(\"func\",\"S\")\n",
    "Purity_Graph_fit_bottom.SetFillColorAlpha(ROOT.kRed,0.0)\n",
    "Purity_Graph_fit_bottom.Draw(\"same3\")\n",
    "fit = Purity_Graph_fit_bottom.Fit(\"func\",\"S\")\n",
    "print fit.Parameters()[0]\n",
    "print fit.Parameters()[1]\n",
    "print fit.Parameters()[2]\n",
    "fit.Draw(\"same\")\n",
    "\n",
    "#Fill a TGraph with Purity Information\n",
    "Purity_Graph_fit_bottom = ROOT.TGraphErrors()\n",
    "for izt in range (len(pGeV_Edges_3)):\n",
    "    Purity_Graph_fit_bottom.SetPoint(izt,pGeV_Edges_3[izt],fit_vals[izt]+fit_errors[izt])\n",
    "    Purity_Graph_fit_bottom.SetPointError(izt,0,fit_errors[izt])\n",
    "Purity_Graph_fit_bottom.Fit(\"func\",\"S\")\n",
    "Purity_Graph_fit_bottom.SetFillColorAlpha(ROOT.kRed,0.0)\n",
    "Purity_Graph_fit_bottom.Draw(\"same3\")\n",
    "fit = Purity_Graph_fit_bottom.Fit(\"func\",\"S\")\n",
    "print fit.Parameters()[0]\n",
    "print fit.Parameters()[1]\n",
    "print fit.Parameters()[2]\n",
    "fit.Draw(\"same\")\n",
    "c.Draw()"
   ]
  },
  {
   "cell_type": "code",
   "execution_count": 8,
   "metadata": {},
   "outputs": [],
   "source": [
    "def GetCorrelation_Npairs(filename,pt_min,pt_max, izt, Signal_DNN=True):\n",
    "    \n",
    "    file = ROOT.TFile(filename)\n",
    "    \n",
    "    if (Signal_DNN == \"Inclusive\"):\n",
    "        histo2D = file.Get('Correlation__pT%1.0f_%1.0f__zT%1.0f_zT%1.0f'\n",
    "                        %(pt_min[ipt],pt_max,100*zTbins[izt],100*zTbins[izt+1]))\n",
    "    \n",
    "    else:\n",
    "        DNN_Rgn = int(Signal_DNN) + 2*(1-int(Signal_DNN)) #convert bool to DNN_1 (Sgn) or DNN_2 (Bkgd)\n",
    "        \n",
    "        histo2D = file.Get('DNN%i_Correlation__pT%1.0f_%1.0f__zT%1.0f_zT%1.0f' \n",
    "                            %(DNN_Rgn,pt_min,pt_max,100*zTbins[izt],100*zTbins[izt+1]))\n",
    "        \n",
    "    N_Pairs = histo2D.GetEntries()\n",
    "    return N_Pairs"
   ]
  },
  {
   "cell_type": "code",
   "execution_count": 9,
   "metadata": {},
   "outputs": [
    {
     "name": "stdout",
     "output_type": "stream",
     "text": [
      "../InputData/zT_Rebin_9_006zT06zT/pp_SE_L0_Correlation_GMB_Ratio.root\n",
      "pp File: ../InputData/zT_Rebin_9_006zT06zT/pp_SE_L0_Correlation_GMB_Ratio.root\n",
      "p-Pb File: ../InputData/zT_Rebin_9_006zT06zT/pPb_SE_L0_Correlation_GMB_Ratio.root\n"
     ]
    }
   ],
   "source": [
    "reload(default_values)\n",
    "from default_values import *"
   ]
  },
  {
   "cell_type": "code",
   "execution_count": 10,
   "metadata": {},
   "outputs": [
    {
     "name": "stdout",
     "output_type": "stream",
     "text": [
      "['../InputData/zT_Rebin_9_006zT06zT/pp_SE_L0_Correlation_GMB_Ratio.root', '../InputData/zT_Rebin_9_006zT06zT/pPb_SE_L0_Correlation_GMB_Ratio.root']\n",
      "[12, 40]\n"
     ]
    }
   ],
   "source": [
    "print(Files)\n",
    "print(pTbins)"
   ]
  },
  {
   "cell_type": "code",
   "execution_count": 11,
   "metadata": {},
   "outputs": [],
   "source": [
    "def Get_NTriggers(filename,ipt, Signal_DNN=True): \n",
    "    file = ROOT.TFile(filename)\n",
    "    if (Signal_DNN == \"Inclusive\"):\n",
    "        ntrig_histo = file.Get('N_Inclusive_Triggers_pT%1.0f_%1.0f' %(pTbins[ipt],pTbins[ipt+1]))\n",
    "    elif (Signal_DNN == \"Isolated\"):\n",
    "        ntrig_histo = file.Get('N_Triggers_pT%1.0f_%1.0f' %(pTbins[ipt],pTbins[ipt+1]))\n",
    "        \n",
    "    else:\n",
    "        DNN_Rgn = int(Signal_DNN) + 2*(1-int(Signal_DNN))\n",
    "        ntrig_histo = file.Get('N_DNN%i_Triggers_pT%1.0f_%1.0f' %(DNN_Rgn,pTbins[ipt],pTbins[ipt+1]))\n",
    "    NTriggers = 1\n",
    "    if not(ntrig_histo == None):\n",
    "        NTriggers = ntrig_histo.GetEntries()\n",
    "    file.Close()\n",
    "    return NTriggers"
   ]
  },
  {
   "cell_type": "code",
   "execution_count": 12,
   "metadata": {},
   "outputs": [
    {
     "name": "stdout",
     "output_type": "stream",
     "text": [
      "                                   [pp]\n",
      "\n",
      "zT Bins:            0.06-0.08, 0.08-0.10, 0.10-0.13, 0.13-0.17, 0.17-0.22, 0.22-0.28, 0.28-0.36, 0.36-0.47, 0.47-0.60, \n",
      "\n",
      "pT Range: 12.0-40.0    13261.0,    11380.6,    7809.8,    5433.8,    3374.7,    1879.2,    1076.1,    622.6,    352.7, \n",
      "\n",
      "pp sum =  13261,   11381,   7810,   5434,   3375,   1879,   1076,   623,   353,   \n",
      "\n",
      "                                   [p-Pb]\n",
      "\n",
      "zT Bins:            0.06-0.08, 0.08-0.10, 0.10-0.13, 0.13-0.17, 0.17-0.22, 0.22-0.28, 0.28-0.36, 0.36-0.47, 0.47-0.60, \n",
      "\n",
      "pT Range: 12.0-40.0    50941.3,    42426.1,    29543.5,    19010.0,    10856.5,    5682.5,    2821.1,    1248.3,    641.0, \n",
      "\n",
      "p-Pb sum =  50941,   42426,   29543,   19010,   10856,   5683,   2821,   1248,   641,   \n",
      "\n"
     ]
    }
   ],
   "source": [
    "zT_Sums = np.zeros((2,NzT))\n",
    "counter = 0\n",
    "for file,system in zip(Files,Systems):\n",
    "    print(\"                                   [%s]\\n\"%(system))\n",
    "    print(\"zT Bins:           \"),\n",
    "    for izt in range(NzT):\n",
    "        print(r\"%1.2f-%1.2f,\"%(zTbins[izt],zTbins[izt+1])),\n",
    "        for ipt in range (N_pT_Bins):\n",
    "            n_pairs = GetCorrelation_Npairs(file,pTbins[ipt],pTbins[ipt+1],izt,True)\n",
    "            if math.isnan(n_pairs):\n",
    "                continue\n",
    "            zT_Sums[counter][izt]+= n_pairs\n",
    "        \n",
    "    print(\"\\n\")\n",
    "    for ipt in range(N_pT_Bins):\n",
    "        print(\"pT Range: %1.1f-%1.1f\"%(pTbins[ipt],pTbins[ipt+1])),\n",
    "        for izt in range (NzT):\n",
    "            print(\"   %1.1f,\"%(GetCorrelation_Npairs(file,pTbins[ipt],pTbins[ipt+1],izt,True))),\n",
    "        print(\"\\n\")\n",
    "\n",
    "    print(\"%s sum = \"%(system)),\n",
    "    for izt in range (NzT):\n",
    "        print(\"%1.0f,  \"%(zT_Sums[counter][izt])),\n",
    "    print(\"\\n\")\n",
    "    counter+=1\n"
   ]
  },
  {
   "cell_type": "markdown",
   "metadata": {},
   "source": [
    "## 2D PLOTS"
   ]
  },
  {
   "cell_type": "code",
   "execution_count": 13,
   "metadata": {},
   "outputs": [
    {
     "data": {
      "text/plain": [
       "<module 'Statistics' from 'Statistics.pyc'>"
      ]
     },
     "execution_count": 13,
     "metadata": {},
     "output_type": "execute_result"
    }
   ],
   "source": [
    "from Statistics import *\n",
    "import Statistics\n",
    "reload(Statistics)"
   ]
  },
  {
   "cell_type": "code",
   "execution_count": null,
   "metadata": {},
   "outputs": [],
   "source": []
  },
  {
   "cell_type": "code",
   "execution_count": 14,
   "metadata": {},
   "outputs": [],
   "source": [
    "#####Obtains the phi projection within the eta region (|eta|<0.6)#####\n",
    "def Get2D(filename,prfx,ipt, izt, Signal_DNN=True):\n",
    "    \n",
    "    file = ROOT.TFile(filename)\n",
    "\n",
    "    eta_max = 1.2 #Assuming symmetric eta range\n",
    "    \n",
    "    if (Signal_DNN == \"Inclusive\"):\n",
    "        histo2D = file.Get('Correlation__pT%1.0f_%1.0f__zT%1.0f_zT%1.0f' \n",
    "                        %(pTbins[ipt],pTbins[ipt+1],100*zTbins[izt],100*zTbins[izt+1]))\n",
    "        \n",
    "        Eta_Axis = histo2D.GetYaxis()\n",
    "        PhiProjection = histo2D.ProjectionX('Inclusive_PhiProjection__pT_%1.0f_%1.0f__zt_%1.0f_%1.0f' \n",
    "                                      %(pTbins[ipt],pTbins[ipt+1],100*zTbins[izt],\n",
    "                                        100*zTbins[izt+1]),Eta_Axis.FindBin(-eta_max),Eta_Axis.FindBin(eta_max))\n",
    "    \n",
    "    else:\n",
    "        DNN_Rgn = int(Signal_DNN) + 2*(1-int(Signal_DNN)) #convert bool to DNN_1 (Sgn) or DNN_2 (Bkgd)\n",
    "        histo2D = file.Get('DNN%i_Correlation__pT%1.0f_%1.0f__zT%1.0f_zT%1.0f' \n",
    "                            %(DNN_Rgn,pTbins[ipt],pTbins[ipt+1],100*zTbins[izt],100*zTbins[izt+1]))\n",
    "        \n",
    "        Eta_Axis = histo2D.GetYaxis()\n",
    "        PhiProjection = histo2D.ProjectionX('DNN%i_PhiProjection__pT_%1.0f_%1.0f__zt_%1.0f_%1.0f' \n",
    "                                      %(DNN_Rgn,pTbins[ipt],pTbins[ipt+1],100*zTbins[izt],\n",
    "                                        100*zTbins[izt+1]),Eta_Axis.FindBin(-eta_max),Eta_Axis.FindBin(eta_max))\n",
    "                                            \n",
    "    PhiProjection.SetDirectory(0)\n",
    "    PhiProjection.Rebin(2)\n",
    "    PhiProjection.Scale(1.0/(2*eta_max))\n",
    "    \n",
    "    #per trigger yield\n",
    "#     ntriggers = Get_NTriggers(filename,ipt, Signal_DNN)\n",
    "#     if not(ntriggers == None):\n",
    "#         PhiProjection.Scale(1.0/ntriggers)\n",
    "    \n",
    "    file.Close()\n",
    "    \n",
    "    Phi_Array = np.zeros(len(delta_phi_centers))\n",
    "    Phi_Error_Array = np.zeros(len(delta_phi_centers))\n",
    "    for bin in range(2,9):\n",
    "        Phi_Array[bin-2] = PhiProjection.GetBinContent(bin)\n",
    "        Phi_Error_Array[bin-2] = PhiProjection.GetBinError(bin)\n",
    "    \n",
    "    return Phi_Array, Phi_Error_Array"
   ]
  },
  {
   "cell_type": "code",
   "execution_count": null,
   "metadata": {},
   "outputs": [],
   "source": []
  },
  {
   "cell_type": "code",
   "execution_count": null,
   "metadata": {},
   "outputs": [],
   "source": []
  },
  {
   "cell_type": "code",
   "execution_count": 15,
   "metadata": {},
   "outputs": [],
   "source": [
    "def GetEtaProj(filename,prfx,ipt, izt, Signal_DNN=True):\n",
    "    \n",
    "    file = ROOT.TFile(filename)\n",
    "\n",
    "    N_Eta_Bins = 14\n",
    "    \n",
    "    if (Signal_DNN == \"Inclusive\"):\n",
    "        histo2D = file.Get('Correlation__pT%1.0f_%1.0f__zT%1.0f_zT%1.0f' \n",
    "                        %(pTbins[ipt],pTbins[ipt+1],100*zTbins[izt],100*zTbins[izt+1]))\n",
    "        \n",
    "        Eta_Axis = histo2D.GetYaxis()\n",
    "        EtaProjection = histo2D.ProjectionY('Inclusive_EtaProjection__pT_%1.0f_%1.0f__zt_%1.0f_%1.0f' \n",
    "                                      %(pTbins[ipt],pTbins[ipt+1],100*zTbins[izt],\n",
    "                                        100*zTbins[izt+1]),0,-1)\n",
    "    \n",
    "    else:\n",
    "        DNN_Rgn = int(Signal_DNN) + 2*(1-int(Signal_DNN)) #convert bool to DNN_1 (Sgn) or DNN_2 (Bkgd)\n",
    "        histo2D = file.Get('DNN%i_Correlation__pT%1.0f_%1.0f__zT%1.0f_zT%1.0f' \n",
    "                            %(DNN_Rgn,pTbins[ipt],pTbins[ipt+1],100*zTbins[izt],100*zTbins[izt+1]))\n",
    "        \n",
    "        Eta_Axis = histo2D.GetYaxis()\n",
    "        EtaProjection = histo2D.ProjectionY('DNN%i_EtaProjection__pT_%1.0f_%1.0f__zt_%1.0f_%1.0f' \n",
    "                                      %(DNN_Rgn,pTbins[ipt],pTbins[ipt+1],100*zTbins[izt],\n",
    "                                        100*zTbins[izt+1]),0,-1)\n",
    "    \n",
    "    EtaProjection.SetDirectory(0)\n",
    "    #EtaProjection.Scale(1.0/1.2)\n",
    "    \n",
    "    #per trigger yield\n",
    "    ntriggers = Get_NTriggers(filename,ipt, Signal_DNN)\n",
    "    if not(ntriggers == None):\n",
    "        EtaProjection.Scale(1.0/ntriggers)\n",
    "    \n",
    "    file.Close()\n",
    "    \n",
    "    return EtaProjection"
   ]
  },
  {
   "cell_type": "code",
   "execution_count": 16,
   "metadata": {},
   "outputs": [],
   "source": [
    "def GetEta_array(filename,prfx,ipt,izt,Signal_DNN=True):\n",
    "    \n",
    "    file = ROOT.TFile(filename)\n",
    "    \n",
    "    if (Signal_DNN == \"Inclusive\"):\n",
    "        histo2D = file.Get('Inclusive_Correlation__pT%1.0f_%1.0f__zT%1.0f_zT%1.0f' \n",
    "                        %(pTbins[ipt],pTbins[ipt+1],100*zTbins[izt],100*zTbins[izt+1]))\n",
    "        \n",
    "        Eta_Axis = histo2D.GetYaxis()\n",
    "        EtaProjection = histo2D.ProjectionY('Inclusive_EtaProjection__pT_%1.0f_%1.0f__zt_%1.0f_%1.0f' \n",
    "                                      %(pTbins[ipt],pTbins[ipt+1],100*zTbins[izt],\n",
    "                                        100*zTbins[izt+1]),0,-1)\\\n",
    "        \n",
    "    elif (Signal_DNN == \"Isolated\"):\n",
    "        histo2D = file.Get('Correlation__pT%1.0f_%1.0f__zT%1.0f_zT%1.0f' \n",
    "                        %(pTbins[ipt],pTbins[ipt+1],100*zTbins[izt],100*zTbins[izt+1]))\n",
    "        \n",
    "        Eta_Axis = histo2D.GetYaxis()\n",
    "        EtaProjection = histo2D.ProjectionY('EtaProjection__pT_%1.0f_%1.0f__zt_%1.0f_%1.0f' \n",
    "                                      %(pTbins[ipt],pTbins[ipt+1],100*zTbins[izt],\n",
    "                                        100*zTbins[izt+1]),0,-1)\n",
    "\n",
    "\n",
    "    \n",
    "    ntriggers = Get_NTriggers(filename,ipt, Signal_DNN)\n",
    "    if not(ntriggers == None):\n",
    "        EtaProjection.Scale(1.0/ntriggers)\n",
    "    \n",
    "    eta_array = root_numpy.hist2array(EtaProjection)\n",
    "    return eta_array"
   ]
  },
  {
   "cell_type": "code",
   "execution_count": 17,
   "metadata": {},
   "outputs": [
    {
     "ename": "NameError",
     "evalue": "name 'N_Eta_Bins' is not defined",
     "output_type": "error",
     "traceback": [
      "\u001b[0;31m\u001b[0m",
      "\u001b[0;31mNameError\u001b[0mTraceback (most recent call last)",
      "\u001b[0;32m<ipython-input-17-10334f0383e4>\u001b[0m in \u001b[0;36m<module>\u001b[0;34m()\u001b[0m\n\u001b[0;32m----> 1\u001b[0;31m \u001b[0mInclusive_eta_array\u001b[0m \u001b[0;34m=\u001b[0m \u001b[0mnp\u001b[0m\u001b[0;34m.\u001b[0m\u001b[0mzeros\u001b[0m\u001b[0;34m(\u001b[0m\u001b[0;34m(\u001b[0m\u001b[0mN_pT_Bins\u001b[0m\u001b[0;34m,\u001b[0m\u001b[0mNzT\u001b[0m\u001b[0;34m,\u001b[0m\u001b[0mN_Eta_Bins\u001b[0m\u001b[0;34m)\u001b[0m\u001b[0;34m)\u001b[0m\u001b[0;34m\u001b[0m\u001b[0m\n\u001b[0m\u001b[1;32m      2\u001b[0m \u001b[0mIsolated_eta_array\u001b[0m \u001b[0;34m=\u001b[0m \u001b[0mnp\u001b[0m\u001b[0;34m.\u001b[0m\u001b[0mzeros\u001b[0m\u001b[0;34m(\u001b[0m\u001b[0;34m(\u001b[0m\u001b[0mN_pT_Bins\u001b[0m\u001b[0;34m,\u001b[0m\u001b[0mNzT\u001b[0m\u001b[0;34m,\u001b[0m\u001b[0mN_Eta_Bins\u001b[0m\u001b[0;34m)\u001b[0m\u001b[0;34m)\u001b[0m\u001b[0;34m\u001b[0m\u001b[0m\n\u001b[1;32m      3\u001b[0m \u001b[0;34m\u001b[0m\u001b[0m\n\u001b[1;32m      4\u001b[0m \u001b[0;32mfor\u001b[0m \u001b[0mptbin\u001b[0m \u001b[0;32min\u001b[0m \u001b[0mrange\u001b[0m\u001b[0;34m(\u001b[0m\u001b[0;36m4\u001b[0m\u001b[0;34m)\u001b[0m\u001b[0;34m:\u001b[0m\u001b[0;34m\u001b[0m\u001b[0m\n\u001b[1;32m      5\u001b[0m     \u001b[0;31m#if(ptbin > 0): continue\u001b[0m\u001b[0;34m\u001b[0m\u001b[0;34m\u001b[0m\u001b[0m\n",
      "\u001b[0;31mNameError\u001b[0m: name 'N_Eta_Bins' is not defined"
     ]
    }
   ],
   "source": [
    "Inclusive_eta_array = np.zeros((N_pT_Bins,NzT,N_Eta_Bins))\n",
    "Isolated_eta_array = np.zeros((N_pT_Bins,NzT,N_Eta_Bins))\n",
    "\n",
    "for ptbin in range(4):\n",
    "    #if(ptbin > 0): continue\n",
    "    #ptbin = ptbin+2\n",
    "    print(\"        ptbin %i:\"%(ptbin))\n",
    "    print(\"\")\n",
    "    print(\"Isolated       Inclusive\")\n",
    "\n",
    "    for ztbin in range(6):\n",
    "    \n",
    "        #grab\n",
    "        Inclusive_eta_array[ptbin][ztbin] = GetEta_array(pp_File,\"pp\",ptbin,ztbin,\"Inclusive\") #no subtraction, change DNN\n",
    "        Isolated_eta_array[ptbin][ztbin] = GetEta_array(pp_File,\"pp\",ptbin,ztbin,\"Isolated\")\n",
    "\n",
    "        Inclusive_Diff = Inclusive_eta_array[ptbin][ztbin][:3].sum()-Inclusive_eta_array[ptbin][ztbin][11:].sum()\n",
    "        Isolated_Diff = Isolated_eta_array[ptbin][ztbin][:3].sum()-Isolated_eta_array[ptbin][ztbin][11:].sum()\n",
    "        print(\"%f       %f\"%(Inclusive_Diff,Isolated_Diff))\n",
    "    print(\"\")\n",
    "#print(sig_eta_array)\n",
    "print(Inclusive_eta_array[1][0][:3].sum()-Inclusive_eta_array[1][0][11:].sum())\n"
   ]
  },
  {
   "cell_type": "markdown",
   "metadata": {},
   "source": [
    "## Eta Projections"
   ]
  },
  {
   "cell_type": "code",
   "execution_count": null,
   "metadata": {},
   "outputs": [],
   "source": [
    "for ptbin in range(4):\n",
    "    #if(ptbin > 0): continue\n",
    "    #ptbin = ptbin+2\n",
    "    canvases = ROOT.TCanvas(\"canv_phi\",\"canv_phi\",3500,2500)\n",
    "    canvases.Divide(4,3)\n",
    "    \n",
    "    for ztbin in range(6):\n",
    "    \n",
    "        #grab\n",
    "        hsig = GetEtaProj(pp_File,\"pp\",ptbin,ztbin,\"Inclusive\") #no subtraction, change DNN\n",
    "        hbkg = GetEtaProj(pp_File,\"pp\",ptbin,ztbin,\"Inclusive\")\n",
    " \n",
    "        #same scale\n",
    "        ymax = 1.2*max(hsig.GetMaximum(),hbkg.GetMaximum())\n",
    "        hsig.GetYaxis().SetRangeUser(0,ymax)\n",
    "        hbkg.GetYaxis().SetRangeUser(0,ymax)    \n",
    "    \n",
    "        #Signal\n",
    "        canvases.cd(ztbin*2+1)\n",
    "        hsig.SetMarkerStyle(15)\n",
    "        #hsig.SetMarkerSize(4)\n",
    "        hsig.SetMarkerColor(4)\n",
    "        hsig.Draw()\n",
    "        \n",
    "        #Background\n",
    "        canvases.cd(ztbin*2+2)\n",
    "        hbkg.SetMarkerStyle(15)\n",
    "        #hbkg.SetMarkerSize(4)\n",
    "        hbkg.SetMarkerColor(2)\n",
    "        hbkg.Draw()\n",
    "        #legend.AddEntry(hbkg,\"Low DNN\",\"l\")\n",
    "        #legend.Draw(\"same\")\n",
    "    \n",
    "    canvases.Draw()   \n",
    "    canvases.SaveAs(\"pics/Eta_Same_Mix_Projections_Trigger_pt_%i_Inclusive.png\"%(ptbin))"
   ]
  },
  {
   "cell_type": "markdown",
   "metadata": {},
   "source": [
    "# Numbers of Pairs in zT bins"
   ]
  },
  {
   "cell_type": "code",
   "execution_count": null,
   "metadata": {},
   "outputs": [],
   "source": [
    "Shower = \"NN\"\n",
    "\n",
    "#pPb_File = 'InputData/pPb_SE_NN_Correlation_GMB_Ratio_UnWeight.root'\n",
    "#pp_File = 'InputData/pp_SE_NN_Correlation_GMB_Ratio_UnWeight.root'  \n",
    "\n",
    "\n",
    "pPb_File = 'InputData/17q_0GeVTracks_Mixed_10_Correlation_Lambda_NEW.root'\n",
    "pp_File = 'InputData/17q_0GeVTracks_Mixed_10_Correlation_Lambda_OLD.root'  \n",
    "\n",
    "Files = [pPb_File,pp_File]\n",
    "Systems = [\"pPb\",\"pp\"]\n",
    "purity = [0.276899,0.358741,0.456807,0.476192]\n",
    "\n",
    "NpT = 4\n",
    "pTbins = [12,15,19,26,40]\n",
    "zTbins = [0.05, 0.07670637, 0.11767734, 0.18053204, 0.27695915, 0.42489062, 0.65183634, 1]\n",
    "#####. Total Number of zT bins, max 7  #####\n",
    "NzT = 6\n",
    "#####  Skip First N zT bins  #####\n",
    "zT_offset = 0\n",
    "\n",
    "\n",
    "zT_centers = np.zeros(NzT)\n",
    "zT_widths = np.zeros(NzT)\n",
    "for ztbin in range(zT_offset,NzT+zT_offset):\n",
    "    zT_centers[ztbin-zT_offset] = (zTbins[ztbin]+ zTbins[ztbin+1])/2\n",
    "    zT_widths[ztbin-zT_offset] = (zTbins[ztbin+1]-zTbins[ztbin])\n",
    "    \n",
    "\n",
    "pT_centers = np.zeros(NpT)\n",
    "pT_widths = np.zeros(NpT)\n",
    "for ptbin in range(NpT):\n",
    "    pT_centers[ptbin] = (pTbins[ptbin]+ pTbins[ptbin+1])/2\n",
    "    pT_widths[ptbin] = (pTbins[ptbin]-pTbins[ptbin+1])/1.25\n",
    "print(pT_centers)"
   ]
  },
  {
   "cell_type": "code",
   "execution_count": null,
   "metadata": {},
   "outputs": [],
   "source": [
    "def Get_NTriggers(filename,ipt, Signal_DNN=True): \n",
    "    file = ROOT.TFile(filename)\n",
    "    if (Signal_DNN == \"Inclusive\"):\n",
    "        ntrig_histo = file.Get('N_Triggers_pT%1.0f_%1.0f' %(pTbins[ipt],pTbins[ipt+1]))\n",
    "    else:\n",
    "        DNN_Rgn = int(Signal_DNN) + 2*(1-int(Signal_DNN))\n",
    "        ntrig_histo = file.Get('N_DNN%i_Triggers_pT%1.0f_%1.0f' %(DNN_Rgn,pTbins[ipt],pTbins[ipt+1]))\n",
    "    NTriggers = 1\n",
    "    if not(ntrig_histo == None):\n",
    "        if (Signal_DNN):\n",
    "            NTriggers = ntrig_histo.GetEntries()\n",
    "        else:\n",
    "            if (Use_Weights):\n",
    "                NTriggers = ntrig_histo.GetBinContent(1)\n",
    "            else:\n",
    "                NTriggers = ntrig_histo.GetEntries()\n",
    "    file.Close()\n",
    "    return NTriggers"
   ]
  },
  {
   "cell_type": "code",
   "execution_count": null,
   "metadata": {},
   "outputs": [],
   "source": [
    "def GetCorrelation_Npairs(filename,pt_min,pt_max, izt, Signal_DNN=True):\n",
    "    \n",
    "    file = ROOT.TFile(filename)\n",
    "    \n",
    "    if (Signal_DNN == \"Inclusive\"):\n",
    "        histo2D = file.Get('Correlation__pT%1.0f_%1.0f__zT%1.0f_zT%1.0f'\n",
    "                        %(pt_min[ipt],pt_max,100*zTbins[izt],100*zTbins[izt+1]))\n",
    "    \n",
    "    else:\n",
    "        DNN_Rgn = int(Signal_DNN) + 2*(1-int(Signal_DNN)) #convert bool to DNN_1 (Sgn) or DNN_2 (Bkgd)\n",
    "        \n",
    "        histo2D = file.Get('DNN%i_Correlation__pT%1.0f_%1.0f__zT%1.0f_zT%1.0f' \n",
    "                            %(DNN_Rgn,pt_min,pt_max,100*zTbins[izt],100*zTbins[izt+1]))\n",
    "        \n",
    "    N_Pairs = histo2D.GetEntries()\n",
    "    return N_Pairs"
   ]
  },
  {
   "cell_type": "code",
   "execution_count": null,
   "metadata": {},
   "outputs": [],
   "source": [
    "#### N_Trig_Array_pPb = np.zeros(NpT)\n",
    "N_Trig_Array_pp = np.zeros(NpT)\n",
    "\n",
    "N_Trig_Array_Purity_pPb = np.zeros(NpT)\n",
    "N_Trig_Array_Purity_pp = np.zeros(NpT)\n",
    "\n",
    "N_Pairs_Array_pPb = np.zeros((NpT,NzT))\n",
    "N_Pairs_Array_pp = np.zeros((NpT,NzT))\n",
    "\n",
    "N_Pairs_Purity_pPb = np.zeros((NpT,NzT))\n",
    "N_Pairs_Purity_pp = np.zeros((NpT,NzT))\n",
    "\n",
    "\n",
    "for file,SYS in zip(Files,Systems):\n",
    "    \n",
    "    for ipt in range (NpT):\n",
    "        \n",
    "        vars()[\"N_Trig_Array_%s\"%(SYS)][ipt] = Get_NTriggers(file, ipt, True)\n",
    "        vars()[\"N_Trig_Array_Purity_%s\"%(SYS)][ipt] = vars()[\"N_Trig_Array_%s\"%(SYS)][ipt]*purity[ipt]\n",
    "        \n",
    "        for izt in range (NzT):\n",
    "            vars()[\"N_Pairs_Array_%s\"%(SYS)][ipt][izt] = GetCorrelation_Npairs(file,pTbins[ipt],pTbins[ipt+1], izt, True)\n",
    "            vars()[\"N_Pairs_Purity_%s\"%(SYS)][ipt][izt] = (vars()[\"N_Pairs_Array_%s\"%(SYS)][ipt][izt]*purity[ipt])/vars()[\"N_Trig_Array_%s\"%(SYS)][ipt]\n",
    "        \n",
    "print(N_Trig_Array_Purity_pp)\n",
    "print(N_Trig_Array_pp)"
   ]
  },
  {
   "cell_type": "code",
   "execution_count": null,
   "metadata": {},
   "outputs": [],
   "source": [
    "for SYS in Systems:\n",
    "    if (SYS==\"pPb\"):\n",
    "        sys_color=\"blue\"\n",
    "    else:\n",
    "        sys_color=\"red\"\n",
    "    for ipt in range (NpT):\n",
    "        plt.figure(figsize=(10,7)) \n",
    "        empt, = plt.plot([], [],' ')\n",
    "        bar_zT_pPb = plt.bar(zT_centers,N_Pairs_Purity_pPb[ipt],zT_widths,color=sys_color,alpha=0.5)\n",
    "        bar_zT_pp = plt.bar(zT_centers,N_Pairs_Purity_pp[ipt],zT_widths,color=sys_color)\n",
    "        plt.legend([bar_zT_pPb,bar_zT_pp,empt],[\"pPb No. Pairs\",\"pp No. Pairs\",r'%1.0f < $p_\\mathrm{T}^{\\mathrm{trig}}$ < %1.0f GeV/$c$'%(pTbins[ipt],pTbins[ipt+1])])\n",
    "        plt.title(\"No of Pairs in zT bins in (Purity Scaled)\")"
   ]
  },
  {
   "cell_type": "code",
   "execution_count": null,
   "metadata": {},
   "outputs": [],
   "source": [
    "for SYS in Systems:\n",
    "    if (SYS==\"pPb\"):\n",
    "        sys_color=\"blue\"\n",
    "    else:\n",
    "        sys_color=\"red\"\n",
    "    for ipt in range (NpT):\n",
    "        plt.figure(figsize=(10,7)) \n",
    "        empt, = plt.plot([], [],' ')\n",
    "        bar_pT = plt.bar(pTbins[:NpT],vars()[\"N_Trig_Array_Purity_%s\"%(SYS)],-pT_widths,align='edge',color=sys_color)\n",
    "        plt.legend([bar_pT,empt],[\"No. Triggers (P)\",r'%1.0f < $p_\\mathrm{T}^{\\mathrm{trig}}$ < %1.0f GeV/$c$'%(pTbins[ipt],pTbins[ipt+1])])\n",
    "        plt.title(\"No of Triggers in pT bins (Purity Scaled) in %s\"%(SYS))"
   ]
  },
  {
   "cell_type": "code",
   "execution_count": null,
   "metadata": {},
   "outputs": [],
   "source": []
  },
  {
   "cell_type": "code",
   "execution_count": null,
   "metadata": {},
   "outputs": [],
   "source": []
  },
  {
   "cell_type": "code",
   "execution_count": null,
   "metadata": {},
   "outputs": [],
   "source": [
    "low_pp = []\n",
    "high_pp = []\n",
    "low_pPb = []\n",
    "high_pPb = []\n",
    "ztstring = []\n",
    "for izt in range (zT_offset,NzT+zT_offset):\n",
    "    ztb = izt-zT_offset\n",
    "    ztstring.append(\"%1.2f-%1.2f\"%(zTbins[izt],zTbins[izt+1]))\n",
    "    low_pp.append(GetCorrelation_Npairs('InputData/17q_SE_NN_Correlation.root',12,15,izt,True))\n",
    "    high_pp.append(GetCorrelation_Npairs('InputData/17q_SE_NN_Correlation_HighpT.root',15,20,izt,True))\n",
    "    low_pPb.append(GetCorrelation_Npairs('InputData/13def_SE_NN_Correlation.root',12,15,izt,True))\n",
    "    high_pPb.append(GetCorrelation_Npairs('InputData/13def_SE_NN_Correlation_HighpT.root',15,20,izt,True))\n",
    "\n",
    "print(ztstring)\n",
    "print(low_pp)\n",
    "print(high_pp)\n",
    "print(low_pPb)\n",
    "print(high_pPb)"
   ]
  },
  {
   "cell_type": "markdown",
   "metadata": {},
   "source": [
    "# Look at simple $\\Delta \\phi$ Projections"
   ]
  },
  {
   "cell_type": "code",
   "execution_count": null,
   "metadata": {},
   "outputs": [],
   "source": [
    "pp_File= \"../InputData/zT_Rebin_9_003zT06zT/pp_SE_L0_Correlation_GMB_Ratio.root\"\n",
    "pPb_File= \"../InputData/zT_Rebin_9_003zT06zT/pPb_SE_L0_Correlation_GMB_Ratio.root\""
   ]
  },
  {
   "cell_type": "code",
   "execution_count": null,
   "metadata": {},
   "outputs": [],
   "source": [
    "#####Obtains the phi projection within the eta region (|eta|<0.6)#####\n",
    "def GetPhiProj(filename,prfx,ipt, izt, Signal_DNN=True):\n",
    "    \n",
    "    file = ROOT.TFile(filename)\n",
    "\n",
    "    eta_max = 1.2 #Assuming symmetric eta range\n",
    "    \n",
    "    if (Signal_DNN == \"Inclusive\"):\n",
    "        histo2D = file.Get('Correlation__pT%1.0f_%1.0f__zT%1.0f_zT%1.0f' \n",
    "                        %(pTbins[ipt],pTbins[ipt+1],100*zTbins[izt],100*zTbins[izt+1]))\n",
    "        \n",
    "        Eta_Axis = histo2D.GetYaxis()\n",
    "        PhiProjection = histo2D.ProjectionX('Inclusive_PhiProjection__pT_%1.0f_%1.0f__zt_%1.0f_%1.0f' \n",
    "                                      %(pTbins[ipt],pTbins[ipt+1],100*zTbins[izt],\n",
    "                                        100*zTbins[izt+1]),Eta_Axis.FindBin(-eta_max),Eta_Axis.FindBin(eta_max))\n",
    "    \n",
    "    else:\n",
    "        DNN_Rgn = int(Signal_DNN) + 2*(1-int(Signal_DNN)) #convert bool to DNN_1 (Sgn) or DNN_2 (Bkgd)\n",
    "        histo2D = file.Get('DNN%i_Correlation__pT%1.0f_%1.0f__zT%1.0f_zT%1.0f' \n",
    "                            %(DNN_Rgn,pTbins[ipt],pTbins[ipt+1],100*zTbins[izt],100*zTbins[izt+1]))\n",
    "        \n",
    "        Eta_Axis = histo2D.GetYaxis()\n",
    "        PhiProjection = histo2D.ProjectionX('DNN%i_PhiProjection__pT_%1.0f_%1.0f__zt_%1.0f_%1.0f' \n",
    "                                      %(DNN_Rgn,pTbins[ipt],pTbins[ipt+1],100*zTbins[izt],\n",
    "                                        100*zTbins[izt+1]),Eta_Axis.FindBin(-eta_max),Eta_Axis.FindBin(eta_max))\n",
    "                                            \n",
    "    PhiProjection.SetDirectory(0)\n",
    "    PhiProjection.Rebin(2)\n",
    "    PhiProjection.Scale(1.0/(2*eta_max))\n",
    "    \n",
    "    #per trigger yield\n",
    "#     ntriggers = Get_NTriggers(filename,ipt, Signal_DNN)\n",
    "#     if not(ntriggers == None):\n",
    "#         PhiProjection.Scale(1.0/ntriggers)\n",
    "    \n",
    "    file.Close()\n",
    "    \n",
    "    Phi_Array = np.zeros(len(delta_phi_centers))\n",
    "    Phi_Error_Array = np.zeros(len(delta_phi_centers))\n",
    "    for bin in range(2,9):\n",
    "        Phi_Array[bin-2] = PhiProjection.GetBinContent(bin)\n",
    "        Phi_Error_Array[bin-2] = PhiProjection.GetBinError(bin)\n",
    "    \n",
    "    return Phi_Array, Phi_Error_Array"
   ]
  },
  {
   "cell_type": "code",
   "execution_count": null,
   "metadata": {},
   "outputs": [],
   "source": [
    "Systems = [\"pp\",\"p-Pb\"]\n",
    "Files = [pp_File,pPb_File]\n",
    "\n",
    "for sys,ifile in zip(Systems,Files):\n",
    "    fig = plt.figure(figsize=(34,17))\n",
    "    for ipt in range (3):\n",
    "        if (ipt > 0): continue\n",
    "        ipt = ipt+2\n",
    "        for izt in range (zT_offset,NzT+zT_offset):\n",
    "            \n",
    "            ztb = izt-zT_offset\n",
    "\n",
    "            Sig_Phi_Array, Sig_Phi_Error_Array = GetPhiProj(ifile,sys,ipt,izt,True)\n",
    "            Bkg_Phi_Array, Bkg_Phi_Error_Array = GetPhiProj(ifile,sys,ipt,izt,False)\n",
    "                                            \n",
    "                                        #--------------plot--------------------#\n",
    "           \n",
    "            if (NzT ==4):\n",
    "                ax = fig.add_subplot(2,4,(2*ztb+1))\n",
    "            elif (NzT ==6):\n",
    "                ax = fig.add_subplot(3,4,(2*ztb+1))\n",
    "                \n",
    "            fsize = 20\n",
    "\n",
    "            #sig\n",
    "            ax.plot(delta_phi_centers,Sig_Phi_Array,'bo',ms=10)\n",
    "            s_plot = ax.errorbar(delta_phi_centers,Sig_Phi_Array,xerr=phi_width,yerr=Sig_Phi_Error_Array,\n",
    "                                 fmt=None,ecolor='b',label='Signal Region (stat. error)')\n",
    "\n",
    "            plt.xlabel(r'|$\\Delta \\varphi$|',fontsize=fsize+4)\n",
    "            plt.xticks(fontsize=(fsize))\n",
    "            plt.xlim((0.39269908169872414,3.14159))\n",
    "            plt.ylabel(r'$1/N_{\\mathrm{trig}} \\: \\: \\mathrm{d}N/\\mathrm{d}\\Delta\\eta$',fontsize=fsize+2)\n",
    "            plt.ylim((0,1.2*max(Sig_Phi_Array)))\n",
    "            empt, = ax.plot([], [], ' ')\n",
    "            empt2, = ax.plot([],[],' ')\n",
    "            plt.yticks(fontsize=fsize-5)\n",
    "\n",
    "            fill_x = [0,3.14159]\n",
    "#             s_z_line = ax.fill_between(fill_x, Sig_Z_Value-Sig_Z_Error,Sig_Z_Value+Sig_Z_Error,interpolate=False,edgecolor='cyan',linewidth=0.0, alpha=0.3,facecolor='cyan')\n",
    "#             s_le_line = ax.fill_between(fill_x, S_LE-S_LE_Error,S_LE+S_LE_Error,interpolate=False,edgecolor='grey',linewidth=0.0, alpha=0.5,facecolor='grey')\n",
    "\n",
    "            leg = ax.legend([s_plot,empt,empt2],['Signal Region (stat. error)','0.8 <|$\\Delta\\eta$| < 1.4',\n",
    "                'UE Estimate',r'%1.2f < $z_\\mathrm{T}$ < %1.2f'%(zTbins[izt],zTbins[izt+1]),\n",
    "                r'15 < $p_\\mathrm{T}^{\\mathrm{trig}}$ < 20 GeV/$c$'],loc='best',\n",
    "                title = \"Alice Preliminary 5 TeV %s\"%(sys),fontsize=14,frameon=False,numpoints=1)\n",
    "            plt.setp(leg.get_title(),fontsize=20)\n",
    "#             if (sys == 'pp'):\n",
    "#                 leg.set_title(\"ALICE Preliminary, $\\sqrt{s}=$5 TeV %s\"%(sys))\n",
    "#             else:\n",
    "#                 leg.set_title(\"ALICE Preliminary, $\\sqrt{s_{\\mathrm{_{NN}}}}=$5 TeV %s\"%(sys))                \n",
    "#             plt.setp(leg.get_title(),fontsize=14)\n",
    "\n",
    "\n",
    "            #bkg\n",
    "            if (NzT ==4):\n",
    "                ax = fig.add_subplot(2,4,(2*ztb+2))\n",
    "            elif (NzT ==6):\n",
    "                ax = fig.add_subplot(3,4,(2*ztb+2))\n",
    "                \n",
    "            #ax = fig.add_subplot(1,2,1)\n",
    "            plt.xlabel(r'|$\\Delta \\varphi$|',fontsize=fsize+4)\n",
    "            plt.xticks(fontsize=(fsize))\n",
    "            plt.xlim((0.39269908169872414,3.14159))\n",
    "            plt.ylabel(r'$1/N_{\\mathrm{trig}} \\: \\: \\mathrm{d}N/\\mathrm{d}\\Delta\\eta$',fontsize=fsize+2)\n",
    "            plt.ylim((0,1.2*max(Bkg_Phi_Array)))\n",
    "            plt.yticks(fontsize=fsize-5)\n",
    "\n",
    "            fill_x = [0,3.14149]\n",
    "#             b_z_line = plt.fill_between(fill_x, Bkg_Z_Value-Bkg_Z_Error,Bkg_Z_Value+Bkg_Z_Error,interpolate=False,edgecolor='cyan',linewidth=0.0, alpha=0.3,facecolor='cyan')\n",
    "#             b_le_line = plt.fill_between(fill_x, Bkg_LE-Bkg_LE_Error,Bkg_LE+Bkg_LE_Error,interpolate=False,edgecolor='grey',linewidth=0.0, alpha=0.5,facecolor='grey')\n",
    "\n",
    "            ax.plot(delta_phi_centers,Bkg_Phi_Array,'ro',ms=10)\n",
    "            b_plot = ax.errorbar(delta_phi_centers,Bkg_Phi_Array,xerr=phi_width,yerr=Bkg_Phi_Error_Array,fmt=None,ecolor='r')\n",
    "\n",
    "            leg = ax.legend([b_plot,empt,empt2],['Bkg Region (stat. error)',r'%1.2f < $z_\\mathrm{T}$ < %1.2f'%(zTbins[izt],\n",
    "                zTbins[izt+1]),r'15 < $p_\\mathrm{T}^{\\mathrm{trig}}$ < 20 GeV/$c$'],loc='best',\n",
    "                title = \"Alice Preliminary 5 TeV %s\"%(sys),fontsize=14,frameon=False,numpoints=1)\n",
    "            plt.setp(leg.get_title(),fontsize=20)\n",
    "\n",
    "     \n",
    "    print(\"\")\n",
    "    #return\n",
    "\n"
   ]
  },
  {
   "cell_type": "code",
   "execution_count": null,
   "metadata": {},
   "outputs": [],
   "source": [
    "print(pTbins[2])"
   ]
  },
  {
   "cell_type": "code",
   "execution_count": null,
   "metadata": {},
   "outputs": [],
   "source": [
    "#Shower_Shape = \"NN\"\n",
    "Shower_Shape = \"L0\"\n",
    "\n",
    "if (Shower_Shape==\"NN\"):\n",
    "    File = 'InputData/17q_SE_NN_Correlation.root'\n",
    "elif (Shower_Shape==\"L0\"):\n",
    "    File = 'InputData/13d_SE_L0_Correlation.root'\n",
    "file = ROOT.TFile(File)\n",
    "\n",
    "SIG = file.Get(\"hweight\")\n",
    "print(SIG)\n",
    "print(SIG.GetEntries())\n",
    "Signal = root_numpy.hist2array(SIG)\n",
    "S_Error = np.zeros(40)\n",
    "for i in range(1,41):\n",
    "    S_Error[i-1] = SIG.GetBinError(i)\n",
    "    \n",
    "\n",
    "pT_Axis = np.linspace(10,50,40)\n",
    "fig = plt.figure(figsize=(10,7))\n",
    "\n",
    "if (Shower_Shape==\"NN\"):\n",
    "    plt.errorbar(pT_Axis,Signal,yerr = S_Error,label=\"Signal Clusters ($0.5 < NN < 0.85)\")\n",
    "    \n",
    "elif (Shower_Shape==\"L0\"):\n",
    "    plt.errorbar(pT_Axis,Signal,yerr = S_Error,label=\"Cluster pT weights\")\n",
    "    plt.title(r\"Isolated Cluster $p_{\\mathrm{T}}$ Weights\")\n",
    "\n",
    "    \n",
    "plt.xlabel(r'Cluster $p_{\\mathrm{T}}$')\n",
    "plt.ylabel(r'Cluster $p_{\\mathrm{T}}$ Weight')\n",
    "plt.xlim(12,40)\n",
    "#plt.ylim(0,1.2)\n",
    "plt.legend()\n",
    "fig.savefig('pics/Weights.pdf', bbox_inches='tight')\n",
    "\n",
    "\n"
   ]
  },
  {
   "cell_type": "markdown",
   "metadata": {},
   "source": [
    "### Compare ME Inclusive and Signal Correlations"
   ]
  },
  {
   "cell_type": "code",
   "execution_count": null,
   "metadata": {},
   "outputs": [],
   "source": []
  },
  {
   "cell_type": "code",
   "execution_count": null,
   "metadata": {},
   "outputs": [],
   "source": [
    "File_NN = 'InputData/17q_MB_0GeV_Skim_Correlation.root'\n",
    "#File_NN = 'InputData/13f_SE_NN_Correlation_GMB_Ratio.root'\n",
    "File_L0 = 'InputData/17q_MB_0GeV_Skim_Correlation_L0.root'\n",
    "\n",
    "file_NN = ROOT.TFile(File_NN)\n",
    "file_L0 = ROOT.TFile(File_L0)\n",
    "\n",
    "\n",
    "SIG_2D_NN = file_NN.Get(\"DNN1_Correlation__pT12_15__zT12_zT18\")\n",
    "SIG_2D_L0 = file_L0.Get(\"DNN1_Correlation__pT12_15__zT12_zT18\")\n",
    "\n",
    "BKG_2D_NN = file_NN.Get(\"DNN2_Correlation__pT12_15__zT12_zT18\")\n",
    "BKG_2D_L0 = file_L0.Get(\"DNN2_Correlation__pT12_15__zT12_zT18\")\n",
    "\n",
    "c = ROOT.TCanvas(\"myCanvasName\",\"The Canvas Title\",800,600)\n",
    "BKG_2D_NN.Draw(\"SURF2\")\n",
    "c.Draw()\n",
    "\n",
    "INC_2D_NN = file_NN.Get(\"Correlation__pT12_15__zT12_zT18\")\n",
    "INC_2D_L0 = file_L0.Get(\"Correlation__pT12_15__zT12_zT18\")\n",
    "\n",
    "SIG_NN = SIG_2D_NN.ProjectionX(\"Sig_Phi\",0,-1)\n",
    "SIG_L0 = SIG_2D_L0.ProjectionX(\"Sig_Phi\",0,-1)\n",
    "\n",
    "BKG_NN = BKG_2D_NN.ProjectionX(\"Bkg_Phi\",0,-1)\n",
    "BKG_L0 = BKG_2D_L0.ProjectionX(\"Bkg_Phi\",0,-1)\n",
    "\n",
    "INC_NN = INC_2D_NN.ProjectionX(\"Inc_Phi\",0,-1)\n",
    "INC_L0 = INC_2D_L0.ProjectionX(\"Inc_Phi\",0,-1)\n",
    "\n",
    "SIG_L0.Divide(INC_NN)\n",
    "BKG_NN.Divide(BKG_L0)\n",
    "\n",
    "Signal = root_numpy.hist2array(SIG_L0)\n",
    "print(Signal)\n",
    "Background = root_numpy.hist2array(BKG_NN)\n",
    "\n",
    "N_Bins = SIG_NN.GetSize() - 2 #Ignero under/overflow\n",
    "print(N_Bins)\n",
    "S_Error = np.zeros(N_Bins)\n",
    "B_Error = np.zeros(N_Bins)\n",
    "for i in range(1,N_Bins+1):\n",
    "    S_Error[i-1] = SIG_NN.GetBinError(i)\n",
    "    B_Error[i-1] = BKG_NN.GetBinError(i)\n",
    "\n",
    "Corr_Axis = np.linspace(0,3.14159,N_Bins)    \n",
    "\n",
    "#plt.errorbar(Corr_Axis,Signal,yerr = S_Error,label=\"Signal Clusters ($0.5 < NN < 0.85)\")\n",
    "#plt.title(r\"Isolated Cluster $p_{\\mathrm{T}}$ Distribution  $DNN$\")\n",
    "\n",
    "plt.errorbar(Corr_Axis,Signal,yerr = S_Error,label=\"Signal Clusters ($0.5 < NN < 0.85)\")\n",
    "plt.title(r\"Isolated Cluster $p_{\\mathrm{T}}$ Distribution  $DNN$\")\n",
    "#plt.ylim(0.99,1.01)\n",
    "plt.ylim(0.2,0.4)\n",
    "    \n",
    "print(\"hi\")"
   ]
  },
  {
   "cell_type": "code",
   "execution_count": null,
   "metadata": {},
   "outputs": [],
   "source": [
    "def Get_NTriggers(filename,ipt, Signal_DNN=True): \n",
    "    file = ROOT.TFile(filename)\n",
    "    if (Signal_DNN == \"Inclusive\"):\n",
    "        ntrig_histo = file.Get('N_Triggers_pT%1.0f_%1.0f' %(pTbins[ipt],pTbins[ipt+1]))\n",
    "    else:\n",
    "        DNN_Rgn = int(Signal_DNN) + 2*(1-int(Signal_DNN))\n",
    "        ntrig_histo = file.Get('N_DNN%i_Triggers_pT%1.0f_%1.0f' %(DNN_Rgn,pTbins[ipt],pTbins[ipt+1]))\n",
    "    NTriggers = 1\n",
    "    if not(ntrig_histo == None):\n",
    "        if (Signal_DNN):\n",
    "            NTriggers = ntrig_histo.GetEntries()\n",
    "        else:\n",
    "            if (Use_Weights):\n",
    "                NTriggers = ntrig_histo.GetBinContent(1)\n",
    "            else:\n",
    "                NTriggers = ntrig_histo.GetEntries()\n",
    "    file.Close()\n",
    "    return NTriggers"
   ]
  },
  {
   "cell_type": "code",
   "execution_count": null,
   "metadata": {},
   "outputs": [],
   "source": [
    "if (Shower_Shape==\"NN\"):\n",
    "    File = 'InputData/13f_MB_0GeV_Skim_Correlation_NN.root'\n",
    "elif (Shower_Shape==\"L0\"):\n",
    "    File = 'InputData/17q_MB_0GeV_Skim_Correlation.root'\n",
    "file = ROOT.TFile(File)\n",
    "\n",
    "pT_Bins = [12,15,19,26,40]\n",
    "N_pT_Bins = len(pT_Bins)\n",
    "pT_Centres =  np.zeros[N_pT_Bins]\n",
    "N_Sig_Triggers = np.zeros(N_pT_Bins)\n",
    "N_Bkg_Trigs = np.zeros(N_pT_Bins)\n",
    "N_Pairs = np.zeros((N_pT_Bins,NzT))\n",
    "\n",
    "for ipt in range (N_pT_Bins):\n",
    "    pT_Centers[ipt] = (pT_Bins[ipt] + pT_Bins[ipt+1])/2\n",
    "    N_Sig_Trigs[ipt] = Get_NTriggers(File,ipt,True)\n",
    "    N_Bkg_Trigs[ipt] = Get_NTriggers(File,ipt,True)\n",
    "    \n",
    "plt.plot(pT_Centers, N_Sig_Trigs)"
   ]
  },
  {
   "cell_type": "code",
   "execution_count": null,
   "metadata": {},
   "outputs": [],
   "source": []
  }
 ],
 "metadata": {
  "kernelspec": {
   "display_name": "PyROOT [conda env:root]",
   "language": "python",
   "name": "conda-root-pyroot"
  },
  "language_info": {
   "codemirror_mode": {
    "name": "ipython",
    "version": 2
   },
   "file_extension": ".py",
   "mimetype": "text/x-python",
   "name": "python",
   "nbconvert_exporter": "python",
   "pygments_lexer": "ipython2",
   "version": "2.7.12"
  }
 },
 "nbformat": 4,
 "nbformat_minor": 4
}
