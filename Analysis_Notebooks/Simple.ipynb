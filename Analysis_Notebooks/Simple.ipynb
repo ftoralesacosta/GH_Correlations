{
 "cells": [
  {
   "cell_type": "code",
   "execution_count": 129,
   "metadata": {},
   "outputs": [
    {
     "name": "stdout",
     "output_type": "stream",
     "text": [
      "../InputData/zT_Rebin_8_006zT06zTDist1Better8dPhi/pp_SE_L0_Correlation_GMB_Ratio.root\n",
      "pp File: ../InputData/zT_Rebin_8_006zT06zTDist1Better8dPhi/pp_SE_L0_Correlation_GMB_Ratio.root\n",
      "p-Pb File: ../InputData/zT_Rebin_8_006zT06zTDist1Better8dPhi/pPb_SE_L0_Correlation_GMB_Ratio.root\n"
     ]
    }
   ],
   "source": [
    "from default_values import *\n",
    "import default_values\n",
    "reload(default_values)\n",
    "\n",
    "from functions_root_nparray import *\n",
    "import functions_root_nparray\n",
    "reload(functions_root_nparray)\n",
    "\n",
    "from functions_correlations import *\n",
    "import functions_correlations\n",
    "reload(functions_correlations)\n",
    "\n",
    "from functions_fragmentation import *\n",
    "import functions_fragmentation\n",
    "reload(functions_fragmentation)\n",
    "\n",
    "import numpy as np\n",
    "from numpy import geomspace\n",
    "import math\n",
    "import matplotlib\n",
    "from cycler import cycler\n",
    "matplotlib.rcParams['axes.prop_cycle'] = cycler(color='brgmcyk')\n",
    "\n",
    "import matplotlib.pyplot as plt\n",
    "%matplotlib inline\n",
    "\n",
    "import ROOT"
   ]
  },
  {
   "cell_type": "code",
   "execution_count": 130,
   "metadata": {},
   "outputs": [
    {
     "name": "stdout",
     "output_type": "stream",
     "text": [
      "1\n",
      "0.392699081699\n",
      "4\n",
      "1.57079632679\n",
      "[12, 40]\n",
      "[0.19634954084936207, 0.5890486225480862, 0.9817477042468103, 1.3744467859455345, 1.7671458676442586, 2.1598449493429825, 2.552544031041707, 2.945243112740431]\n",
      "7\n"
     ]
    }
   ],
   "source": [
    "print ZYAM_Min_i\n",
    "print dPhi_Bins[ZYAM_Min_i]\n",
    "print ZYAM_Max_i\n",
    "print dPhi_Bins[ZYAM_Max_i]\n",
    "print(pTbins)\n",
    "print(delta_phi_centers)\n",
    "print(dphi_start_integral)"
   ]
  },
  {
   "cell_type": "code",
   "execution_count": 131,
   "metadata": {},
   "outputs": [
    {
     "name": "stdout",
     "output_type": "stream",
     "text": [
      "[12, 40]\n",
      "[0.06  0.08  0.107 0.142 0.19  0.253 0.337 0.45  0.6  ]\n"
     ]
    }
   ],
   "source": [
    "print pTbins\n",
    "print zTbins"
   ]
  },
  {
   "cell_type": "markdown",
   "metadata": {},
   "source": [
    "**root to numpy**"
   ]
  },
  {
   "cell_type": "code",
   "execution_count": 132,
   "metadata": {},
   "outputs": [],
   "source": [
    "Corrs = ROOT_to_nparray()\n",
    "#print(Corrs[\"p-Pb_Uncorr_Estimate\"][0][1])\n",
    "#Plot_UB_Subtraction(Corrs)\n",
    "#print_from_Dict(Corrs)"
   ]
  },
  {
   "cell_type": "markdown",
   "metadata": {},
   "source": [
    "**Correlated Subtraction**: $C_S = \\frac{C_{SR} \\ \\ - \\ \\ (1-p) C_{BR}}{p}$"
   ]
  },
  {
   "cell_type": "code",
   "execution_count": 133,
   "metadata": {},
   "outputs": [],
   "source": [
    "reload(functions_correlations)\n",
    "import functions_correlations\n",
    "from functions_correlations import *"
   ]
  },
  {
   "cell_type": "code",
   "execution_count": 134,
   "metadata": {},
   "outputs": [],
   "source": [
    "#Plot_Sub_UB_Overlay(Corrs)"
   ]
  },
  {
   "cell_type": "code",
   "execution_count": 135,
   "metadata": {},
   "outputs": [],
   "source": [
    "Correlated_Subtraction_Weights(Corrs)\n",
    "#print_from_Dict(Corrs)"
   ]
  },
  {
   "cell_type": "code",
   "execution_count": 136,
   "metadata": {},
   "outputs": [
    {
     "name": "stdout",
     "output_type": "stream",
     "text": [
      "pp: $z_\\mathrm{T}$ interval & ZYAM  & Large $\\Delta\\eta$ & Difference\n",
      "0.06 - 0.08 & 0.402 $\\pm$ 0.005 & 0.390 $\\pm$ 0.010 & 0.013 $\\pm$ 0.011\\\\\n"
     ]
    },
    {
     "ename": "AttributeError",
     "evalue": "'NoneType' object has no attribute 'lower'",
     "output_type": "error",
     "traceback": [
      "\u001b[0;31m\u001b[0m",
      "\u001b[0;31mAttributeError\u001b[0mTraceback (most recent call last)",
      "\u001b[0;32m<ipython-input-136-5c9eaa4877ba>\u001b[0m in \u001b[0;36m<module>\u001b[0;34m()\u001b[0m\n\u001b[0;32m----> 1\u001b[0;31m \u001b[0mPlot_UB\u001b[0m\u001b[0;34m(\u001b[0m\u001b[0;34m)\u001b[0m\u001b[0;34m\u001b[0m\u001b[0m\n\u001b[0m",
      "\u001b[0;32m/global/project/projectdirs/alice/ftorales/GH_Correlations/Analysis_Notebooks/functions_root_nparray.pyc\u001b[0m in \u001b[0;36mPlot_UB\u001b[0;34m()\u001b[0m\n\u001b[1;32m    229\u001b[0m                 \u001b[0;31m#sig\u001b[0m\u001b[0;34m\u001b[0m\u001b[0;34m\u001b[0m\u001b[0m\n\u001b[1;32m    230\u001b[0m                 \u001b[0max\u001b[0m\u001b[0;34m.\u001b[0m\u001b[0mplot\u001b[0m\u001b[0;34m(\u001b[0m\u001b[0mdelta_phi_centers\u001b[0m\u001b[0;34m,\u001b[0m\u001b[0mSig_Phi_Array\u001b[0m\u001b[0;34m,\u001b[0m\u001b[0;34m'bo'\u001b[0m\u001b[0;34m,\u001b[0m\u001b[0mms\u001b[0m\u001b[0;34m=\u001b[0m\u001b[0;36m10\u001b[0m\u001b[0;34m)\u001b[0m\u001b[0;34m\u001b[0m\u001b[0m\n\u001b[0;32m--> 231\u001b[0;31m                 \u001b[0ms_plot\u001b[0m \u001b[0;34m=\u001b[0m \u001b[0max\u001b[0m\u001b[0;34m.\u001b[0m\u001b[0merrorbar\u001b[0m\u001b[0;34m(\u001b[0m\u001b[0mdelta_phi_centers\u001b[0m\u001b[0;34m,\u001b[0m\u001b[0mSig_Phi_Array\u001b[0m\u001b[0;34m,\u001b[0m\u001b[0mxerr\u001b[0m\u001b[0;34m=\u001b[0m\u001b[0mphi_width\u001b[0m\u001b[0;34m,\u001b[0m\u001b[0myerr\u001b[0m\u001b[0;34m=\u001b[0m\u001b[0mSig_Phi_Error_Array\u001b[0m\u001b[0;34m,\u001b[0m\u001b[0mfmt\u001b[0m\u001b[0;34m=\u001b[0m\u001b[0mNone\u001b[0m\u001b[0;34m,\u001b[0m\u001b[0mecolor\u001b[0m\u001b[0;34m=\u001b[0m\u001b[0;34m'b'\u001b[0m\u001b[0;34m,\u001b[0m\u001b[0mlabel\u001b[0m\u001b[0;34m=\u001b[0m\u001b[0;34m'Signal Region (stat. error)'\u001b[0m\u001b[0;34m)\u001b[0m\u001b[0;34m\u001b[0m\u001b[0m\n\u001b[0m\u001b[1;32m    232\u001b[0m \u001b[0;34m\u001b[0m\u001b[0m\n\u001b[1;32m    233\u001b[0m                 \u001b[0max\u001b[0m\u001b[0;34m.\u001b[0m\u001b[0mplot\u001b[0m\u001b[0;34m(\u001b[0m\u001b[0mdelta_phi_centers\u001b[0m\u001b[0;34m,\u001b[0m\u001b[0mSig_LE_Phi_Array\u001b[0m\u001b[0;34m,\u001b[0m\u001b[0;34m's'\u001b[0m\u001b[0;34m,\u001b[0m\u001b[0mcolor\u001b[0m\u001b[0;34m=\u001b[0m\u001b[0;34m\"Grey\"\u001b[0m\u001b[0;34m,\u001b[0m\u001b[0malpha\u001b[0m\u001b[0;34m=\u001b[0m\u001b[0;36m0.6\u001b[0m\u001b[0;34m,\u001b[0m\u001b[0mms\u001b[0m\u001b[0;34m=\u001b[0m\u001b[0;36m10\u001b[0m\u001b[0;34m)\u001b[0m\u001b[0;34m\u001b[0m\u001b[0m\n",
      "\u001b[0;32m/usr/common/software/python/2.7-anaconda-2019.07/lib/python2.7/site-packages/matplotlib/__init__.pyc\u001b[0m in \u001b[0;36minner\u001b[0;34m(ax, *args, **kwargs)\u001b[0m\n\u001b[1;32m   1865\u001b[0m                         \u001b[0;34m\"the Matplotlib list!)\"\u001b[0m \u001b[0;34m%\u001b[0m \u001b[0;34m(\u001b[0m\u001b[0mlabel_namer\u001b[0m\u001b[0;34m,\u001b[0m \u001b[0mfunc\u001b[0m\u001b[0;34m.\u001b[0m\u001b[0m__name__\u001b[0m\u001b[0;34m)\u001b[0m\u001b[0;34m,\u001b[0m\u001b[0;34m\u001b[0m\u001b[0m\n\u001b[1;32m   1866\u001b[0m                         RuntimeWarning, stacklevel=2)\n\u001b[0;32m-> 1867\u001b[0;31m             \u001b[0;32mreturn\u001b[0m \u001b[0mfunc\u001b[0m\u001b[0;34m(\u001b[0m\u001b[0max\u001b[0m\u001b[0;34m,\u001b[0m \u001b[0;34m*\u001b[0m\u001b[0margs\u001b[0m\u001b[0;34m,\u001b[0m \u001b[0;34m**\u001b[0m\u001b[0mkwargs\u001b[0m\u001b[0;34m)\u001b[0m\u001b[0;34m\u001b[0m\u001b[0m\n\u001b[0m\u001b[1;32m   1868\u001b[0m \u001b[0;34m\u001b[0m\u001b[0m\n\u001b[1;32m   1869\u001b[0m         inner.__doc__ = _add_data_doc(inner.__doc__,\n",
      "\u001b[0;32m/usr/common/software/python/2.7-anaconda-2019.07/lib/python2.7/site-packages/matplotlib/axes/_axes.pyc\u001b[0m in \u001b[0;36merrorbar\u001b[0;34m(self, x, y, yerr, xerr, fmt, ecolor, elinewidth, capsize, barsabove, lolims, uplims, xlolims, xuplims, errorevery, capthick, **kwargs)\u001b[0m\n\u001b[1;32m   3106\u001b[0m         \u001b[0mself\u001b[0m\u001b[0;34m.\u001b[0m\u001b[0m_hold\u001b[0m \u001b[0;34m=\u001b[0m \u001b[0mTrue\u001b[0m\u001b[0;34m\u001b[0m\u001b[0m\n\u001b[1;32m   3107\u001b[0m \u001b[0;34m\u001b[0m\u001b[0m\n\u001b[0;32m-> 3108\u001b[0;31m         \u001b[0mplot_line\u001b[0m \u001b[0;34m=\u001b[0m \u001b[0;34m(\u001b[0m\u001b[0mfmt\u001b[0m\u001b[0;34m.\u001b[0m\u001b[0mlower\u001b[0m\u001b[0;34m(\u001b[0m\u001b[0;34m)\u001b[0m \u001b[0;34m!=\u001b[0m \u001b[0;34m'none'\u001b[0m\u001b[0;34m)\u001b[0m\u001b[0;34m\u001b[0m\u001b[0m\n\u001b[0m\u001b[1;32m   3109\u001b[0m         \u001b[0mlabel\u001b[0m \u001b[0;34m=\u001b[0m \u001b[0mkwargs\u001b[0m\u001b[0;34m.\u001b[0m\u001b[0mpop\u001b[0m\u001b[0;34m(\u001b[0m\u001b[0;34m\"label\"\u001b[0m\u001b[0;34m,\u001b[0m \u001b[0mNone\u001b[0m\u001b[0;34m)\u001b[0m\u001b[0;34m\u001b[0m\u001b[0m\n\u001b[1;32m   3110\u001b[0m \u001b[0;34m\u001b[0m\u001b[0m\n",
      "\u001b[0;31mAttributeError\u001b[0m: 'NoneType' object has no attribute 'lower'"
     ]
    },
    {
     "data": {
      "image/png": "[encoded data removed]",
      "text/plain": [
       "<Figure size 1440x2520 with 1 Axes>"
      ]
     },
     "metadata": {
      "needs_background": "light"
     },
     "output_type": "display_data"
    }
   ],
   "source": [
    "Plot_UB()"
   ]
  },
  {
   "cell_type": "markdown",
   "metadata": {},
   "source": [
    "**Pedestal Subtraction**"
   ]
  },
  {
   "cell_type": "code",
   "execution_count": null,
   "metadata": {},
   "outputs": [],
   "source": [
    "#print_from_Dict(Corrs)\n",
    "#print(Corrs[\"pp_CSR\"][0])\n",
    "Plot = False\n",
    "if Plot:\n",
    "    for ipt in range(N_pT_Bins):\n",
    "        for izt in range(NzT):\n",
    "            fig = plt.figure(figsize=(8,7))\n",
    "            #Cs_Correlations_Unsub_Overlay(delta_phi_centers, Corrs[\"pp_CSR\"][0][izt],  Corrs[\"pp_CSR_Errors\"][0][izt],UE_binmin=2, UE_binmax=9,label='data',color='black')\n",
    "            GetRatio(Corrs[\"pp_CSR\"][0][izt],Corrs[\"pp_CSR_Errors\"][0][izt],Corrs[\"p-Pb_CSR\"][0][izt],Corrs[\"p-Pb_CSR_Errors\"][0][izt],delta_phi_centers)\n",
    "            plt.annotate(r'%1.2f < $z_\\mathrm{T}$ < %1.2f'%(zTbins[izt],zTbins[izt+1]), xy=(0.99, 0.01), xycoords='axes fraction', ha='right', va='bottom', fontsize=16)\n",
    "\n",
    "            plt.savefig('pics/%s/%s/Befor_After_UE_pp-pPb_pT_%i_zT_%i.pdf'%(Shower,description_string,ipt,izt))"
   ]
  },
  {
   "cell_type": "code",
   "execution_count": null,
   "metadata": {},
   "outputs": [],
   "source": [
    "Ped_Sub_After_Cs(Corrs)"
   ]
  },
  {
   "cell_type": "code",
   "execution_count": null,
   "metadata": {},
   "outputs": [],
   "source": [
    "#Plot_pp_pPb_Cs(Corrs)\n",
    "#Plot_pp_pPb_Cs_Individual(Corrs)\n",
    "#Compare_Cs_pTBins()"
   ]
  },
  {
   "cell_type": "markdown",
   "metadata": {},
   "source": [
    "**Debugging**"
   ]
  },
  {
   "cell_type": "code",
   "execution_count": null,
   "metadata": {},
   "outputs": [],
   "source": [
    "print(\"Number of Away side bins = %i\"%(N_Phi_Integrate))\n",
    "\n",
    "print(Corrs['pp_CSR'][0][3])\n",
    "\n",
    "for SYS in Systems:\n",
    "    print(SYS)\n",
    "    vals = Corrs['%s_CSR'%(SYS)][0][3][-N_Phi_Integrate:] #2nd zT bin\n",
    "    Integral = np.sum(vals)/(dPhi_Width*N_Phi_Integrate)\n",
    "\n",
    "    val_errors = Corrs['%s_CSR_Errors'%(SYS)][0][3][-N_Phi_Integrate:]\n",
    "    Integral_Err = math.sqrt(np.sum(val_errors**2))/(dPhi_Width*N_Phi_Integrate)\n",
    "\n",
    "    UE_Error = Corrs['%s_Uncorr_Error'%(SYS)][0][3][1]/(dPhi_Width*(ZYAM_Max_i-ZYAM_Min_i)) #is a scalar\n",
    "\n",
    "    print(\"%f +\\- %f +\\- %f\"%(Integral,Integral_Err,UE_Error))\n",
    "    Total_Err = math.sqrt(Integral_Err**2 + UE_Error**2)\n",
    "    print(Total_Err/Integral)\n",
    "    \n",
    "    print(\"non-dphi rate %1.3f\"%(Corrs['%s_Uncorr_Error'%(SYS)][0][3][1]))"
   ]
  },
  {
   "cell_type": "markdown",
   "metadata": {},
   "source": [
    "**Average Cs**: $\\frac{\\sum_{i=1}^{n}x_i / \\sigma_i^2}{\\sum_{i=1}^{n}1/\\sigma_i^2}$ in each $z_\\mathrm{T}$ bin (i)"
   ]
  },
  {
   "cell_type": "code",
   "execution_count": null,
   "metadata": {},
   "outputs": [],
   "source": [
    "Avg_Corr = Cs_Weighted_Average(Corrs)\n",
    "Plot_pp_pPb_Cs(Avg_Corr)\n",
    "#Plot_pp_pPb_Cs_Individual(Avg_Corr)"
   ]
  },
  {
   "cell_type": "code",
   "execution_count": null,
   "metadata": {},
   "outputs": [],
   "source": [
    "reload(functions_correlations)\n",
    "from functions_correlations import *"
   ]
  },
  {
   "cell_type": "code",
   "execution_count": null,
   "metadata": {},
   "outputs": [],
   "source": [
    "Frags = Get_Fragmentation(Corrs)\n",
    "print Frags.keys()\n",
    "LaTeX_Results_Summary(Frags)\n",
    "LaTeX_Ratio_Systematics(Frags)\n",
    "#print(Frags[\"pp_FF_Errors\"][0])\n",
    "#print(Frags[\"pp_purity_FF_Errors\"])\n",
    "#for i in range(len(Frags[\"pp_FF\"][0])):\n",
    "#    print(\"%f\"%(Frags[\"pp_FF_Errors\"][0][i]/Frags[\"pp_FF\"][0][i])),"
   ]
  },
  {
   "cell_type": "code",
   "execution_count": null,
   "metadata": {},
   "outputs": [],
   "source": [
    "reload(functions_fragmentation)\n",
    "from functions_fragmentation import *"
   ]
  },
  {
   "cell_type": "code",
   "execution_count": null,
   "metadata": {},
   "outputs": [],
   "source": [
    "Combined_Frags = Average_FF(Frags)\n",
    "#Plot_pp_pPb_Avg_FF(Combined_Frags)\n",
    "\n",
    "print(Combined_Frags.keys())\n",
    "\n",
    "Plot_pp_pPb_Avg_FF_and_Ratio(Combined_Frags)\n",
    "print_from_Dict(Frags)\n",
    "\n",
    "\n",
    "printthis = False\n",
    "if printthis == True:\n",
    "    print(\"zT Centers:\")\n",
    "    for izt in zT_centers:\n",
    "        print(\"%1.2f,\"%(izt)),\n",
    "    print(\"\")\n",
    "\n",
    "    print(\"zT Widths:\")\n",
    "    for izt in zT_widths:\n",
    "        print(\"%1.4f,\"%(izt)),\n",
    "\n",
    "#Frags_Avg_Cs = Get_Fragmentation(Avg_Corr,True)\n",
    "#print_from_Dict(Frags_Avg_Cs)\n",
    "#Plot_pp_pPb_Avg_FF_and_Ratio(Frags_Avg_Cs)"
   ]
  },
  {
   "cell_type": "code",
   "execution_count": null,
   "metadata": {},
   "outputs": [],
   "source": [
    "a = 730/521\n",
    "a = 0.0730/0.0521\n",
    "print(1.0/a)\n",
    "7.7810\n",
    "b = 1.1465/7.7810\n",
    "print(b)"
   ]
  },
  {
   "cell_type": "code",
   "execution_count": null,
   "metadata": {},
   "outputs": [],
   "source": [
    "#LaTeX_Table(Combined_Frags)"
   ]
  },
  {
   "cell_type": "code",
   "execution_count": null,
   "metadata": {},
   "outputs": [],
   "source": [
    "pp_pPB_Avg_Ratio(Combined_Frags,0)\n",
    "#pp_pPB_Avg_Ratio(Frags_Avg_Cs,0)"
   ]
  },
  {
   "cell_type": "markdown",
   "metadata": {},
   "source": [
    "### Compare Different Integrations"
   ]
  },
  {
   "cell_type": "code",
   "execution_count": null,
   "metadata": {},
   "outputs": [],
   "source": [
    "ranges = (1.9,2.15,2.7)\n",
    "strings = (\"11\\pi/16, \\mathrm{R} = 1.0\",\"3\\pi/4,\\mathrm{R} = 0.8\",\"7\\pi/8, \\mathrm{R} = 0.4\",\"15\\pi/16, \\mathrm{R} = 0.2\")\n",
    "\n",
    "Compare_FF_Integration(ranges,strings)"
   ]
  },
  {
   "cell_type": "code",
   "execution_count": null,
   "metadata": {},
   "outputs": [],
   "source": [
    "reload(functions_fragmentation)\n",
    "from functions_fragmentation import *"
   ]
  },
  {
   "cell_type": "code",
   "execution_count": null,
   "metadata": {},
   "outputs": [],
   "source": [
    "reload(functions_correlations)\n",
    "import functions_correlations\n",
    "from functions_correlations import *"
   ]
  },
  {
   "cell_type": "code",
   "execution_count": null,
   "metadata": {},
   "outputs": [],
   "source": [
    "save_name = \"pT_Comparison\"\n",
    "strings = [\"zT_Rebin_8_006zT06zTOldBinNewNewPurity\",\"pT_Rebin_2_006zT06zTOldBinNewNewPurity\"]\n",
    "string_descriptions = [\"1 pT Bins\",\"2 pT Bins\"]\n",
    "colors = [\"darkorchid\",\"blue\",\"cyan\",\"red\"]\n",
    "Compare_Cs_Averages(save_name,strings,string_descriptions,colors)\n",
    "Compare_pp_pPB_Avg_lists(save_name,strings,string_descriptions,colors) \n",
    "Compare_pp_pPB_Avg_Ratio_lists(save_name,strings,string_descriptions,colors,True,False)"
   ]
  },
  {
   "cell_type": "code",
   "execution_count": null,
   "metadata": {},
   "outputs": [],
   "source": [
    "save_name = \"zT_Comparison\"\n",
    "strings = [\"zT_Rebin_8_006zT06zTOldBinNewNewPurity\",\"zT_Rebin_7_006zT06zT\",\"zT_Rebin_9_006zT06zT\"]\n",
    "string_descriptions = [\"8 pT Bins [Default]\",\"7 zT Bins\", \"9zT Bins\"]\n",
    "colors = [\"darkorchid\",\"blue\",\"cyan\",\"red\"]\n",
    "Compare_Cs_Averages(save_name,strings,string_descriptions,colors)\n",
    "Compare_pp_pPB_Avg_lists(save_name,strings,string_descriptions,colors) \n",
    "Compare_pp_pPB_Avg_Ratio_lists(save_name,strings,string_descriptions,colors,True,False)"
   ]
  },
  {
   "cell_type": "code",
   "execution_count": null,
   "metadata": {},
   "outputs": [],
   "source": [
    "save_name = \"ZYAM_Variation\"\n",
    "strings = [\"zT_Rebin_8_006zT06zT\",\"zT_Rebin_8_006zT06zTOldBinNewNewPurity_Small_Zyam\"]\n",
    "string_descriptions = [\"Default\",\"Smaller ZYAM Avg Range\"]\n",
    "colors = [\"darkorchid\",\"blue\",\"cyan\",\"red\"]\n",
    "Compare_Cs_Averages(save_name,strings,string_descriptions,colors)\n",
    "Compare_pp_pPB_Avg_lists(save_name,strings,string_descriptions,colors) \n",
    "Compare_pp_pPB_Avg_Ratio_lists(save_name,strings,string_descriptions,colors,True,False)"
   ]
  },
  {
   "cell_type": "code",
   "execution_count": null,
   "metadata": {},
   "outputs": [],
   "source": [
    "strings = [\"zT_Rebin_7_006zT06zT\",\"zT_Rebin_8_006zT06zT\",\"zT_Rebin_9_006zT06zT\"]\n",
    "string_descriptions = [\"7 zT Bins\",\"8 zT Bins\",\"9 zT Bins\",\"4 pT Bins\"]\n",
    "\n",
    "strings = [\"zT_Rebin_8_006zT06zT\",\"zT_Rebin_8_006zT06zTOldBinNewNewPurity\"]\n",
    "string_descriptions = [\"Old\",\"New\"]\n",
    "\n",
    "colors = [\"red\",\"blue\",\"cyan\",\"red\"]\n",
    "#Compare_Cs_Averages(strings,string_descriptions,colors)\n",
    "Compare_pp_pPB_Avg_lists(strings,string_descriptions,colors) \n",
    "Compare_pp_pPB_Avg_Ratio_lists(strings,string_descriptions,colors,True,False)"
   ]
  },
  {
   "cell_type": "markdown",
   "metadata": {},
   "source": [
    "## Compare Different pT Binning"
   ]
  },
  {
   "cell_type": "code",
   "execution_count": null,
   "metadata": {},
   "outputs": [],
   "source": [
    "strings = [\"pT_Rebin_1_pDevNONE\",\"pT_Rebin_2_pDevNONE\"]\n",
    "string_descriptions = [\"1 pT Bins\",\"2 pT Bins\",\"3 pT Bins\",\"4 pT Bins\"]\n",
    "colors = [\"darkorchid\",\"blue\",\"cyan\",\"red\"]\n",
    "#Compare_Cs_Averages(strings,string_descriptions,colors)\n",
    "#Compare_pp_pPB_Avg_lists(strings,string_descriptions,colors) \n",
    "#Compare_pp_pPB_Avg_Ratio_lists(strings,string_descriptions,colors,False,True)"
   ]
  },
  {
   "cell_type": "markdown",
   "metadata": {},
   "source": [
    "Propagate Absolute Uncertianty arising from purity: $ C_s = \\frac{A}{p} \\rightarrow \\frac{\\Delta C_s}{Cs} = \\frac{\\Delta p}{p}$"
   ]
  },
  {
   "cell_type": "markdown",
   "metadata": {},
   "source": [
    "## p-Pb / pp"
   ]
  },
  {
   "cell_type": "markdown",
   "metadata": {},
   "source": [
    "**Weigthed Average:** $\\frac{\\sum_{i=1}^{n}x_i / \\sigma_i^2}{\\sum_{i=1}^{n}1/\\sigma_i^2}$ where weight $w_i = \\frac{1}{\\sigma_i^2} $ and $\\sigma_i = \\sqrt{\\sigma_{i,stat_{rel}}^2 + \\sigma_{i,purity_{rel}}^2}$ , in each $z_\\mathrm{T}$ bin (i). **Important:** The relative uncertainties are used in weighting"
   ]
  },
  {
   "cell_type": "code",
   "execution_count": null,
   "metadata": {},
   "outputs": [],
   "source": [
    "pp_pPB_Avg_Ratio(Combined_Frags,0)"
   ]
  },
  {
   "cell_type": "code",
   "execution_count": null,
   "metadata": {},
   "outputs": [],
   "source": [
    "reload(functions_fragmentation)\n",
    "from functions_fragmentation import *\n",
    "strings = [\"zT_Rebin_8_006zT06zT\",\"zT_Rebin_8_006zT06zTpT2\"]\n",
    "string_descriptions = [\"1 pT Bin\",\"2 pT Bins\"]\n",
    "colors = [\"darkorchid\",\"blue\",\"cyan\",\"red\",]\n",
    "Compare_pp_pPB_Avg_lists(strings,string_descriptions,colors)\n",
    "Compare_pp_pPB_Avg_Ratio_lists(strings,string_descriptions,colors,True,False)"
   ]
  },
  {
   "cell_type": "code",
   "execution_count": null,
   "metadata": {},
   "outputs": [],
   "source": [
    "strings = [\"pT_Rebin_1_pDevNONE\",\"pT_Rebin_1_pDevPlus\",\"pT_Rebin_1_pDevMinus\",\"pT_Rebin_1_90p\"]\n",
    "string_descriptions = [\"Cetral Purity\",\"Purity Plus STDV\",\"Purity Minus STDV\",\"purity = 90%\"]\n",
    "colors = [\"darkorchid\",\"blue\",\"cyan\",\"red\",]\n",
    "Compare_pp_pPB_Avg_lists(strings,string_descriptions,colors)\n",
    "Compare_pp_pPB_Avg_Ratio_lists(strings,string_descriptions,colors,False,False)"
   ]
  },
  {
   "cell_type": "code",
   "execution_count": null,
   "metadata": {},
   "outputs": [],
   "source": []
  },
  {
   "cell_type": "code",
   "execution_count": null,
   "metadata": {},
   "outputs": [],
   "source": []
  },
  {
   "cell_type": "code",
   "execution_count": null,
   "metadata": {},
   "outputs": [],
   "source": []
  },
  {
   "cell_type": "code",
   "execution_count": null,
   "metadata": {},
   "outputs": [],
   "source": []
  },
  {
   "cell_type": "code",
   "execution_count": null,
   "metadata": {},
   "outputs": [],
   "source": []
  },
  {
   "cell_type": "code",
   "execution_count": null,
   "metadata": {},
   "outputs": [],
   "source": []
  },
  {
   "cell_type": "code",
   "execution_count": null,
   "metadata": {},
   "outputs": [],
   "source": []
  }
 ],
 "metadata": {
  "kernelspec": {
   "display_name": "Python 2",
   "language": "python",
   "name": "python2"
  },
  "language_info": {
   "codemirror_mode": {
    "name": "ipython",
    "version": 2
   },
   "file_extension": ".py",
   "mimetype": "text/x-python",
   "name": "python",
   "nbconvert_exporter": "python",
   "pygments_lexer": "ipython2",
   "version": "2.7.16"
  }
 },
 "nbformat": 4,
 "nbformat_minor": 4
}
