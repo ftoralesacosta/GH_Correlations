{
 "cells": [
  {
   "cell_type": "code",
   "execution_count": 1,
   "metadata": {},
   "outputs": [
    {
     "data": {
      "application/javascript": [
       "require(['codemirror/mode/clike/clike'], function(Clike) { console.log('ROOTaaS - C++ CodeMirror module loaded'); });"
      ]
     },
     "metadata": {},
     "output_type": "display_data"
    },
    {
     "data": {
      "application/javascript": [
       "IPython.CodeCell.config_defaults.highlight_modes['magic_text/x-c++src'] = {'reg':[/^%%cpp/]};"
      ]
     },
     "metadata": {},
     "output_type": "display_data"
    },
    {
     "name": "stdout",
     "output_type": "stream",
     "text": [
      "Welcome to ROOTaaS 6.06/06\n"
     ]
    }
   ],
   "source": [
    "from array import array\n",
    "import itertools\n",
    "import time\n",
    "import math\n",
    "\n",
    "import sys\n",
    "#####For NERSC:####\n",
    "#sys.path.insert(0,'/usr/common/software/rootpy/')\n",
    "import root_numpy\n",
    "import numpy as np\n",
    "\n",
    "import matplotlib\n",
    "import matplotlib.pyplot as plt\n",
    "\n",
    "#import astroML.plotting as aml\n",
    "#import iminuit\n",
    "import pandas as pd\n",
    "import root_pandas as rpd\n",
    "from root_pandas import read_root\n",
    "import ROOT\n",
    "from ROOT import TH1D\n",
    "from ROOT import SetOwnership\n",
    "from matplotlib.ticker import NullFormatter\n",
    "from ROOT import TLatex\n",
    "%matplotlib inline                                                                                                                                                                                                                                                                                                                                                                                                                                                                                                                                                         "
   ]
  },
  {
   "cell_type": "code",
   "execution_count": 3,
   "metadata": {},
   "outputs": [
    {
     "name": "stdout",
     "output_type": "stream",
     "text": [
      "                           Proton-Proton\n",
      "Neural Net\n",
      "[[ 0.27299453  0.2013812   0.27463495  0.3077216   0.26809647  0.72738058]\n",
      " [ 0.8232182   0.32602943  0.34031771  0.30016656  0.2975693   1.21460661]\n",
      " [ 0.1637013   0.18506315  0.13834762  0.16891863  0.29199634  0.47811077]\n",
      " [ 0.19653105  0.15808036  0.2750548   0.28117445  0.3694252   0.80587106]]\n",
      "Lambda0\n",
      "[[ 0.27563823  0.18192028  0.20736659  0.30404485  0.19926382  0.41536878]\n",
      " [ 0.84617789  0.22450306  0.23945741  0.27022019  0.19878411  0.47048644]\n",
      " [ 0.13294145  0.12538455  0.11327941  0.14327788  0.2230017   0.25936931]\n",
      " [ 0.16071569  0.12540151  0.14863659  0.2031258   0.31640144  0.68320949]]\n",
      "\n",
      "                           Proton-Lead\n",
      "Neural Net\n",
      "[[ 0.11503185  0.10769425  0.15340464  0.21113623  0.21604927  0.67397466]\n",
      " [ 0.16952166  0.22821763  0.16383633  0.18064085  0.17455689  0.46746818]\n",
      " [ 0.13457647  0.10590242  0.16061866  0.12306398  0.21961831  0.25626646]\n",
      " [ 0.11933318  0.19282444  0.25021627  0.20740125  0.31324052  0.34741008]]\n",
      "Lambda0\n",
      "[[ 0.12461545  0.14337272  0.18993065  0.2218555   0.21158251  0.42891573]\n",
      " [ 0.15139226  0.18447428  0.14604206  0.15441678  0.16932822  0.32457306]\n",
      " [ 0.12293902  0.09927067  0.1116138   0.12470677  0.1656083   0.2127311 ]\n",
      " [ 0.12742238  0.11739702  0.17625274  0.12590931  0.22676045  0.2737869 ]]\n"
     ]
    }
   ],
   "source": [
    "print(\"                           Proton-Proton\")\n",
    "NN_pp_FF = np.load(\"npy_files/NN_pp_Fragmentation_Functions.npy\")\n",
    "NN_pp_FF_Errors = np.load(\"npy_files/NN_pp_Fragmentation_Function_Errors.npy\")\n",
    "print(\"Neural Net\")\n",
    "print(NN_pp_FF_Errors/NN_pp_FF)\n",
    "\n",
    "L0_pp_FF = np.load(\"npy_files/LO_pp_Fragmentation_Functions.npy\")\n",
    "L0_pp_FF_Errors = np.load(\"npy_files/LO_pp_Fragmentation_Function_Errors.npy\")\n",
    "print(\"Lambda0\")\n",
    "print(L0_pp_FF_Errors/L0_pp_FF)\n",
    "\n",
    "print(\"\")\n",
    "\n",
    "\n",
    "print(\"                           Proton-Lead\")\n",
    "NN_pPb_FF = np.load(\"npy_files/NN_pPb_Fragmentation_Functions.npy\")\n",
    "NN_pPb_FF_Errors = np.load(\"npy_files/NN_pPb_Fragmentation_Function_Errors.npy\")\n",
    "print(\"Neural Net\")\n",
    "print(NN_pPb_FF_Errors/NN_pPb_FF)\n",
    "\n",
    "L0_pPb_FF = np.load(\"npy_files/LO_pPb_Fragmentation_Functions.npy\")\n",
    "L0_pPb_FF_Errors = np.load(\"npy_files/LO_pPb_Fragmentation_Function_Errors.npy\")\n",
    "print(\"Lambda0\")\n",
    "print(L0_pPb_FF_Errors/L0_pPb_FF)\n",
    "\n",
    "#Load purity FF uncertainties:\n",
    "L0_pp_FF_purity_Uncertainty = np.load(\"npy_files/LO_pp_FF_purity_Uncertainty.npy\")\n",
    "L0_pPb_FF_purity_Uncertainty = np.load(\"npy_files/LO_pPb_FF_purity_Uncertainty.npy\")\n",
    "NN_pp_FF_purity_Uncertainty = np.load(\"npy_files/LO_pp_FF_purity_Uncertainty.npy\")\n",
    "NN_pPb_FF_purity_Uncertainty = np.load(\"npy_files/LO_pPb_FF_purity_Uncertainty.npy\")\n"
   ]
  },
  {
   "cell_type": "code",
   "execution_count": null,
   "metadata": {},
   "outputs": [],
   "source": []
  }
 ],
 "metadata": {
  "kernelspec": {
   "display_name": "PyROOT",
   "language": "python",
   "name": "pyroot"
  },
  "language_info": {
   "codemirror_mode": {
    "name": "ipython",
    "version": 2
   },
   "file_extension": ".py",
   "mimetype": "text/x-python",
   "name": "python",
   "nbconvert_exporter": "python",
   "pygments_lexer": "ipython2",
   "version": "2.7.12"
  }
 },
 "nbformat": 4,
 "nbformat_minor": 2
}
